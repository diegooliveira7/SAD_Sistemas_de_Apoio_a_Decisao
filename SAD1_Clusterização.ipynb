{
  "nbformat": 4,
  "nbformat_minor": 0,
  "metadata": {
    "colab": {
      "provenance": [],
      "toc_visible": true
    },
    "kernelspec": {
      "name": "python3",
      "display_name": "Python 3"
    },
    "language_info": {
      "name": "python"
    },
    "widgets": {
      "application/vnd.jupyter.widget-state+json": {
        "3fd69a7d26034c4a82e02fe7f60dd4be": {
          "model_module": "@jupyter-widgets/controls",
          "model_name": "VBoxModel",
          "model_module_version": "1.5.0",
          "state": {
            "_view_name": "VBoxView",
            "_dom_classes": [
              "widget-interact"
            ],
            "_model_name": "VBoxModel",
            "_view_module": "@jupyter-widgets/controls",
            "_model_module_version": "1.5.0",
            "_view_count": null,
            "_view_module_version": "1.5.0",
            "box_style": "",
            "layout": "IPY_MODEL_5c8ead2b690849358d85d0432158009b",
            "_model_module": "@jupyter-widgets/controls",
            "children": [
              "IPY_MODEL_3c521e9fdfc24b0891026f69f08a0627",
              "IPY_MODEL_d1ec00c7f51f4accb8718be8982f4b8d",
              "IPY_MODEL_756f1ef234b843299046bcfa9cb1f1d6",
              "IPY_MODEL_61b681b36af94a8bb3a99849ba2ba23f",
              "IPY_MODEL_98fc0070ee2d4e8fabd04729f6220b60",
              "IPY_MODEL_56f5a16e2d4a45bda8588d91a30b255a"
            ]
          }
        },
        "5c8ead2b690849358d85d0432158009b": {
          "model_module": "@jupyter-widgets/base",
          "model_name": "LayoutModel",
          "model_module_version": "1.2.0",
          "state": {
            "_view_name": "LayoutView",
            "grid_template_rows": null,
            "right": null,
            "justify_content": null,
            "_view_module": "@jupyter-widgets/base",
            "overflow": null,
            "_model_module_version": "1.2.0",
            "_view_count": null,
            "flex_flow": null,
            "width": null,
            "min_width": null,
            "border": null,
            "align_items": null,
            "bottom": null,
            "_model_module": "@jupyter-widgets/base",
            "top": null,
            "grid_column": null,
            "overflow_y": null,
            "overflow_x": null,
            "grid_auto_flow": null,
            "grid_area": null,
            "grid_template_columns": null,
            "flex": null,
            "_model_name": "LayoutModel",
            "justify_items": null,
            "grid_row": null,
            "max_height": null,
            "align_content": null,
            "visibility": null,
            "align_self": null,
            "height": null,
            "min_height": null,
            "padding": null,
            "grid_auto_rows": null,
            "grid_gap": null,
            "max_width": null,
            "order": null,
            "_view_module_version": "1.2.0",
            "grid_template_areas": null,
            "object_position": null,
            "object_fit": null,
            "grid_auto_columns": null,
            "margin": null,
            "display": null,
            "left": null
          }
        },
        "3c521e9fdfc24b0891026f69f08a0627": {
          "model_module": "@jupyter-widgets/controls",
          "model_name": "DropdownModel",
          "model_module_version": "1.5.0",
          "state": {
            "_options_labels": [
              "gini",
              "entropy"
            ],
            "_view_name": "DropdownView",
            "style": "IPY_MODEL_c198dcac54c94de884a5fade86b84b6c",
            "_dom_classes": [],
            "description": "crit",
            "_model_name": "DropdownModel",
            "index": 1,
            "_view_module": "@jupyter-widgets/controls",
            "_model_module_version": "1.5.0",
            "_view_count": null,
            "disabled": false,
            "_view_module_version": "1.5.0",
            "description_tooltip": null,
            "_model_module": "@jupyter-widgets/controls",
            "layout": "IPY_MODEL_86fcc7ef7fc146b8ac593ac47a795f75"
          }
        },
        "d1ec00c7f51f4accb8718be8982f4b8d": {
          "model_module": "@jupyter-widgets/controls",
          "model_name": "DropdownModel",
          "model_module_version": "1.5.0",
          "state": {
            "_options_labels": [
              "best",
              "random"
            ],
            "_view_name": "DropdownView",
            "style": "IPY_MODEL_9e463ee31f044ecf8233aff17a33f6b2",
            "_dom_classes": [],
            "description": "split",
            "_model_name": "DropdownModel",
            "index": 0,
            "_view_module": "@jupyter-widgets/controls",
            "_model_module_version": "1.5.0",
            "_view_count": null,
            "disabled": false,
            "_view_module_version": "1.5.0",
            "description_tooltip": null,
            "_model_module": "@jupyter-widgets/controls",
            "layout": "IPY_MODEL_34331a324ef94f26ace5ec3fd383de91"
          }
        },
        "756f1ef234b843299046bcfa9cb1f1d6": {
          "model_module": "@jupyter-widgets/controls",
          "model_name": "DropdownModel",
          "model_module_version": "1.5.0",
          "state": {
            "_options_labels": [
              "1",
              "2",
              "3",
              "4",
              "5",
              "10",
              "20",
              "30"
            ],
            "_view_name": "DropdownView",
            "style": "IPY_MODEL_751c74209cdc449e9409659615afd654",
            "_dom_classes": [],
            "description": "depth",
            "_model_name": "DropdownModel",
            "index": 0,
            "_view_module": "@jupyter-widgets/controls",
            "_model_module_version": "1.5.0",
            "_view_count": null,
            "disabled": false,
            "_view_module_version": "1.5.0",
            "description_tooltip": null,
            "_model_module": "@jupyter-widgets/controls",
            "layout": "IPY_MODEL_ce44a7be8413427dbf753ef2963ec52c"
          }
        },
        "61b681b36af94a8bb3a99849ba2ba23f": {
          "model_module": "@jupyter-widgets/controls",
          "model_name": "IntSliderModel",
          "model_module_version": "1.5.0",
          "state": {
            "_view_name": "IntSliderView",
            "style": "IPY_MODEL_4597c46ad1374f399da2c30559acc228",
            "_dom_classes": [],
            "description": "min_samples_split",
            "step": 1,
            "_model_name": "IntSliderModel",
            "orientation": "horizontal",
            "max": 5,
            "_view_module": "@jupyter-widgets/controls",
            "_model_module_version": "1.5.0",
            "value": 3,
            "_view_count": null,
            "disabled": false,
            "_view_module_version": "1.5.0",
            "min": 1,
            "continuous_update": true,
            "readout_format": "d",
            "description_tooltip": null,
            "readout": true,
            "_model_module": "@jupyter-widgets/controls",
            "layout": "IPY_MODEL_4d0077e6bb2a4a2492b225738ab0c287"
          }
        },
        "98fc0070ee2d4e8fabd04729f6220b60": {
          "model_module": "@jupyter-widgets/controls",
          "model_name": "IntSliderModel",
          "model_module_version": "1.5.0",
          "state": {
            "_view_name": "IntSliderView",
            "style": "IPY_MODEL_b6267608d3af49e6862833e932b565f6",
            "_dom_classes": [],
            "description": "min_samples_leaf",
            "step": 1,
            "_model_name": "IntSliderModel",
            "orientation": "horizontal",
            "max": 5,
            "_view_module": "@jupyter-widgets/controls",
            "_model_module_version": "1.5.0",
            "value": 1,
            "_view_count": null,
            "disabled": false,
            "_view_module_version": "1.5.0",
            "min": 1,
            "continuous_update": true,
            "readout_format": "d",
            "description_tooltip": null,
            "readout": true,
            "_model_module": "@jupyter-widgets/controls",
            "layout": "IPY_MODEL_40e2e0befc16415092a0cddbd44db661"
          }
        },
        "56f5a16e2d4a45bda8588d91a30b255a": {
          "model_module": "@jupyter-widgets/output",
          "model_name": "OutputModel",
          "model_module_version": "1.0.0",
          "state": {
            "_view_name": "OutputView",
            "msg_id": "",
            "_dom_classes": [],
            "_model_name": "OutputModel",
            "outputs": [
              {
                "output_type": "display_data",
                "data": {
                  "text/plain": "<IPython.core.display.SVG object>",
                  "image/svg+xml": "<svg height=\"195pt\" viewBox=\"0.00 0.00 354.00 195.00\" width=\"354pt\" xmlns=\"http://www.w3.org/2000/svg\" xmlns:xlink=\"http://www.w3.org/1999/xlink\">\n<g class=\"graph\" id=\"graph0\" transform=\"scale(1 1) rotate(0) translate(4 191)\">\n<title>Tree</title>\n<polygon fill=\"#ffffff\" points=\"-4,4 -4,-191 350,-191 350,4 -4,4\" stroke=\"transparent\"/>\n<!-- 0 -->\n<g class=\"node\" id=\"node1\">\n<title>0</title>\n<polygon fill=\"#edfceb\" points=\"263,-187 83,-187 83,-104 263,-104 263,-187\" stroke=\"#000000\"/>\n<text fill=\"#000000\" font-family=\"Helvetica,sans-Serif\" font-size=\"14.00\" text-anchor=\"middle\" x=\"173\" y=\"-171.8\">Medu &lt;= 2.5</text>\n<text fill=\"#000000\" font-family=\"Helvetica,sans-Serif\" font-size=\"14.00\" text-anchor=\"middle\" x=\"173\" y=\"-156.8\">entropy = 1.967</text>\n<text fill=\"#000000\" font-family=\"Helvetica,sans-Serif\" font-size=\"14.00\" text-anchor=\"middle\" x=\"173\" y=\"-141.8\">samples = 395</text>\n<text fill=\"#000000\" font-family=\"Helvetica,sans-Serif\" font-size=\"14.00\" text-anchor=\"middle\" x=\"173\" y=\"-126.8\">value = [102, 131, 89, 73]</text>\n<text fill=\"#000000\" font-family=\"Helvetica,sans-Serif\" font-size=\"14.00\" text-anchor=\"middle\" x=\"173\" y=\"-111.8\">class = 2</text>\n</g>\n<!-- 1 -->\n<g class=\"node\" id=\"node2\">\n<title>1</title>\n<polygon fill=\"#f0fdef\" points=\"164,-68 0,-68 0,0 164,0 164,-68\" stroke=\"#000000\"/>\n<text fill=\"#000000\" font-family=\"Helvetica,sans-Serif\" font-size=\"14.00\" text-anchor=\"middle\" x=\"82\" y=\"-52.8\">entropy = 1.861</text>\n<text fill=\"#000000\" font-family=\"Helvetica,sans-Serif\" font-size=\"14.00\" text-anchor=\"middle\" x=\"82\" y=\"-37.8\">samples = 165</text>\n<text fill=\"#000000\" font-family=\"Helvetica,sans-Serif\" font-size=\"14.00\" text-anchor=\"middle\" x=\"82\" y=\"-22.8\">value = [51, 60, 39, 15]</text>\n<text fill=\"#000000\" font-family=\"Helvetica,sans-Serif\" font-size=\"14.00\" text-anchor=\"middle\" x=\"82\" y=\"-7.8\">class = 2</text>\n</g>\n<!-- 0&#45;&gt;1 -->\n<g class=\"edge\" id=\"edge1\">\n<title>0-&gt;1</title>\n<path d=\"M139.115,-103.9815C131.6891,-94.8828 123.8208,-85.242 116.3759,-76.1199\" fill=\"none\" stroke=\"#000000\"/>\n<polygon fill=\"#000000\" points=\"118.9986,-73.798 109.9641,-68.2637 113.5755,-78.224 118.9986,-73.798\" stroke=\"#000000\"/>\n<text fill=\"#000000\" font-family=\"Helvetica,sans-Serif\" font-size=\"14.00\" text-anchor=\"middle\" x=\"107.4461\" y=\"-89.4365\">True</text>\n</g>\n<!-- 2 -->\n<g class=\"node\" id=\"node3\">\n<title>2</title>\n<polygon fill=\"#f1fdf0\" points=\"346,-68 182,-68 182,0 346,0 346,-68\" stroke=\"#000000\"/>\n<text fill=\"#000000\" font-family=\"Helvetica,sans-Serif\" font-size=\"14.00\" text-anchor=\"middle\" x=\"264\" y=\"-52.8\">entropy = 1.985</text>\n<text fill=\"#000000\" font-family=\"Helvetica,sans-Serif\" font-size=\"14.00\" text-anchor=\"middle\" x=\"264\" y=\"-37.8\">samples = 230</text>\n<text fill=\"#000000\" font-family=\"Helvetica,sans-Serif\" font-size=\"14.00\" text-anchor=\"middle\" x=\"264\" y=\"-22.8\">value = [51, 71, 50, 58]</text>\n<text fill=\"#000000\" font-family=\"Helvetica,sans-Serif\" font-size=\"14.00\" text-anchor=\"middle\" x=\"264\" y=\"-7.8\">class = 2</text>\n</g>\n<!-- 0&#45;&gt;2 -->\n<g class=\"edge\" id=\"edge2\">\n<title>0-&gt;2</title>\n<path d=\"M206.885,-103.9815C214.3109,-94.8828 222.1792,-85.242 229.6241,-76.1199\" fill=\"none\" stroke=\"#000000\"/>\n<polygon fill=\"#000000\" points=\"232.4245,-78.224 236.0359,-68.2637 227.0014,-73.798 232.4245,-78.224\" stroke=\"#000000\"/>\n<text fill=\"#000000\" font-family=\"Helvetica,sans-Serif\" font-size=\"14.00\" text-anchor=\"middle\" x=\"238.5539\" y=\"-89.4365\">False</text>\n</g>\n</g>\n</svg>"
                },
                "metadata": {}
              }
            ],
            "_view_module": "@jupyter-widgets/output",
            "_model_module_version": "1.0.0",
            "_view_count": null,
            "_view_module_version": "1.0.0",
            "layout": "IPY_MODEL_72536f07afd6425ab89cfe9ef5f538f4",
            "_model_module": "@jupyter-widgets/output"
          }
        },
        "c198dcac54c94de884a5fade86b84b6c": {
          "model_module": "@jupyter-widgets/controls",
          "model_name": "DescriptionStyleModel",
          "model_module_version": "1.5.0",
          "state": {
            "_view_name": "StyleView",
            "_model_name": "DescriptionStyleModel",
            "description_width": "",
            "_view_module": "@jupyter-widgets/base",
            "_model_module_version": "1.5.0",
            "_view_count": null,
            "_view_module_version": "1.2.0",
            "_model_module": "@jupyter-widgets/controls"
          }
        },
        "86fcc7ef7fc146b8ac593ac47a795f75": {
          "model_module": "@jupyter-widgets/base",
          "model_name": "LayoutModel",
          "model_module_version": "1.2.0",
          "state": {
            "_view_name": "LayoutView",
            "grid_template_rows": null,
            "right": null,
            "justify_content": null,
            "_view_module": "@jupyter-widgets/base",
            "overflow": null,
            "_model_module_version": "1.2.0",
            "_view_count": null,
            "flex_flow": null,
            "width": null,
            "min_width": null,
            "border": null,
            "align_items": null,
            "bottom": null,
            "_model_module": "@jupyter-widgets/base",
            "top": null,
            "grid_column": null,
            "overflow_y": null,
            "overflow_x": null,
            "grid_auto_flow": null,
            "grid_area": null,
            "grid_template_columns": null,
            "flex": null,
            "_model_name": "LayoutModel",
            "justify_items": null,
            "grid_row": null,
            "max_height": null,
            "align_content": null,
            "visibility": null,
            "align_self": null,
            "height": null,
            "min_height": null,
            "padding": null,
            "grid_auto_rows": null,
            "grid_gap": null,
            "max_width": null,
            "order": null,
            "_view_module_version": "1.2.0",
            "grid_template_areas": null,
            "object_position": null,
            "object_fit": null,
            "grid_auto_columns": null,
            "margin": null,
            "display": null,
            "left": null
          }
        },
        "9e463ee31f044ecf8233aff17a33f6b2": {
          "model_module": "@jupyter-widgets/controls",
          "model_name": "DescriptionStyleModel",
          "model_module_version": "1.5.0",
          "state": {
            "_view_name": "StyleView",
            "_model_name": "DescriptionStyleModel",
            "description_width": "",
            "_view_module": "@jupyter-widgets/base",
            "_model_module_version": "1.5.0",
            "_view_count": null,
            "_view_module_version": "1.2.0",
            "_model_module": "@jupyter-widgets/controls"
          }
        },
        "34331a324ef94f26ace5ec3fd383de91": {
          "model_module": "@jupyter-widgets/base",
          "model_name": "LayoutModel",
          "model_module_version": "1.2.0",
          "state": {
            "_view_name": "LayoutView",
            "grid_template_rows": null,
            "right": null,
            "justify_content": null,
            "_view_module": "@jupyter-widgets/base",
            "overflow": null,
            "_model_module_version": "1.2.0",
            "_view_count": null,
            "flex_flow": null,
            "width": null,
            "min_width": null,
            "border": null,
            "align_items": null,
            "bottom": null,
            "_model_module": "@jupyter-widgets/base",
            "top": null,
            "grid_column": null,
            "overflow_y": null,
            "overflow_x": null,
            "grid_auto_flow": null,
            "grid_area": null,
            "grid_template_columns": null,
            "flex": null,
            "_model_name": "LayoutModel",
            "justify_items": null,
            "grid_row": null,
            "max_height": null,
            "align_content": null,
            "visibility": null,
            "align_self": null,
            "height": null,
            "min_height": null,
            "padding": null,
            "grid_auto_rows": null,
            "grid_gap": null,
            "max_width": null,
            "order": null,
            "_view_module_version": "1.2.0",
            "grid_template_areas": null,
            "object_position": null,
            "object_fit": null,
            "grid_auto_columns": null,
            "margin": null,
            "display": null,
            "left": null
          }
        },
        "751c74209cdc449e9409659615afd654": {
          "model_module": "@jupyter-widgets/controls",
          "model_name": "DescriptionStyleModel",
          "model_module_version": "1.5.0",
          "state": {
            "_view_name": "StyleView",
            "_model_name": "DescriptionStyleModel",
            "description_width": "",
            "_view_module": "@jupyter-widgets/base",
            "_model_module_version": "1.5.0",
            "_view_count": null,
            "_view_module_version": "1.2.0",
            "_model_module": "@jupyter-widgets/controls"
          }
        },
        "ce44a7be8413427dbf753ef2963ec52c": {
          "model_module": "@jupyter-widgets/base",
          "model_name": "LayoutModel",
          "model_module_version": "1.2.0",
          "state": {
            "_view_name": "LayoutView",
            "grid_template_rows": null,
            "right": null,
            "justify_content": null,
            "_view_module": "@jupyter-widgets/base",
            "overflow": null,
            "_model_module_version": "1.2.0",
            "_view_count": null,
            "flex_flow": null,
            "width": null,
            "min_width": null,
            "border": null,
            "align_items": null,
            "bottom": null,
            "_model_module": "@jupyter-widgets/base",
            "top": null,
            "grid_column": null,
            "overflow_y": null,
            "overflow_x": null,
            "grid_auto_flow": null,
            "grid_area": null,
            "grid_template_columns": null,
            "flex": null,
            "_model_name": "LayoutModel",
            "justify_items": null,
            "grid_row": null,
            "max_height": null,
            "align_content": null,
            "visibility": null,
            "align_self": null,
            "height": null,
            "min_height": null,
            "padding": null,
            "grid_auto_rows": null,
            "grid_gap": null,
            "max_width": null,
            "order": null,
            "_view_module_version": "1.2.0",
            "grid_template_areas": null,
            "object_position": null,
            "object_fit": null,
            "grid_auto_columns": null,
            "margin": null,
            "display": null,
            "left": null
          }
        },
        "4597c46ad1374f399da2c30559acc228": {
          "model_module": "@jupyter-widgets/controls",
          "model_name": "SliderStyleModel",
          "model_module_version": "1.5.0",
          "state": {
            "_view_name": "StyleView",
            "handle_color": null,
            "_model_name": "SliderStyleModel",
            "description_width": "",
            "_view_module": "@jupyter-widgets/base",
            "_model_module_version": "1.5.0",
            "_view_count": null,
            "_view_module_version": "1.2.0",
            "_model_module": "@jupyter-widgets/controls"
          }
        },
        "4d0077e6bb2a4a2492b225738ab0c287": {
          "model_module": "@jupyter-widgets/base",
          "model_name": "LayoutModel",
          "model_module_version": "1.2.0",
          "state": {
            "_view_name": "LayoutView",
            "grid_template_rows": null,
            "right": null,
            "justify_content": null,
            "_view_module": "@jupyter-widgets/base",
            "overflow": null,
            "_model_module_version": "1.2.0",
            "_view_count": null,
            "flex_flow": null,
            "width": null,
            "min_width": null,
            "border": null,
            "align_items": null,
            "bottom": null,
            "_model_module": "@jupyter-widgets/base",
            "top": null,
            "grid_column": null,
            "overflow_y": null,
            "overflow_x": null,
            "grid_auto_flow": null,
            "grid_area": null,
            "grid_template_columns": null,
            "flex": null,
            "_model_name": "LayoutModel",
            "justify_items": null,
            "grid_row": null,
            "max_height": null,
            "align_content": null,
            "visibility": null,
            "align_self": null,
            "height": null,
            "min_height": null,
            "padding": null,
            "grid_auto_rows": null,
            "grid_gap": null,
            "max_width": null,
            "order": null,
            "_view_module_version": "1.2.0",
            "grid_template_areas": null,
            "object_position": null,
            "object_fit": null,
            "grid_auto_columns": null,
            "margin": null,
            "display": null,
            "left": null
          }
        },
        "b6267608d3af49e6862833e932b565f6": {
          "model_module": "@jupyter-widgets/controls",
          "model_name": "SliderStyleModel",
          "model_module_version": "1.5.0",
          "state": {
            "_view_name": "StyleView",
            "handle_color": null,
            "_model_name": "SliderStyleModel",
            "description_width": "",
            "_view_module": "@jupyter-widgets/base",
            "_model_module_version": "1.5.0",
            "_view_count": null,
            "_view_module_version": "1.2.0",
            "_model_module": "@jupyter-widgets/controls"
          }
        },
        "40e2e0befc16415092a0cddbd44db661": {
          "model_module": "@jupyter-widgets/base",
          "model_name": "LayoutModel",
          "model_module_version": "1.2.0",
          "state": {
            "_view_name": "LayoutView",
            "grid_template_rows": null,
            "right": null,
            "justify_content": null,
            "_view_module": "@jupyter-widgets/base",
            "overflow": null,
            "_model_module_version": "1.2.0",
            "_view_count": null,
            "flex_flow": null,
            "width": null,
            "min_width": null,
            "border": null,
            "align_items": null,
            "bottom": null,
            "_model_module": "@jupyter-widgets/base",
            "top": null,
            "grid_column": null,
            "overflow_y": null,
            "overflow_x": null,
            "grid_auto_flow": null,
            "grid_area": null,
            "grid_template_columns": null,
            "flex": null,
            "_model_name": "LayoutModel",
            "justify_items": null,
            "grid_row": null,
            "max_height": null,
            "align_content": null,
            "visibility": null,
            "align_self": null,
            "height": null,
            "min_height": null,
            "padding": null,
            "grid_auto_rows": null,
            "grid_gap": null,
            "max_width": null,
            "order": null,
            "_view_module_version": "1.2.0",
            "grid_template_areas": null,
            "object_position": null,
            "object_fit": null,
            "grid_auto_columns": null,
            "margin": null,
            "display": null,
            "left": null
          }
        },
        "72536f07afd6425ab89cfe9ef5f538f4": {
          "model_module": "@jupyter-widgets/base",
          "model_name": "LayoutModel",
          "model_module_version": "1.2.0",
          "state": {
            "_view_name": "LayoutView",
            "grid_template_rows": null,
            "right": null,
            "justify_content": null,
            "_view_module": "@jupyter-widgets/base",
            "overflow": null,
            "_model_module_version": "1.2.0",
            "_view_count": null,
            "flex_flow": null,
            "width": null,
            "min_width": null,
            "border": null,
            "align_items": null,
            "bottom": null,
            "_model_module": "@jupyter-widgets/base",
            "top": null,
            "grid_column": null,
            "overflow_y": null,
            "overflow_x": null,
            "grid_auto_flow": null,
            "grid_area": null,
            "grid_template_columns": null,
            "flex": null,
            "_model_name": "LayoutModel",
            "justify_items": null,
            "grid_row": null,
            "max_height": null,
            "align_content": null,
            "visibility": null,
            "align_self": null,
            "height": null,
            "min_height": null,
            "padding": null,
            "grid_auto_rows": null,
            "grid_gap": null,
            "max_width": null,
            "order": null,
            "_view_module_version": "1.2.0",
            "grid_template_areas": null,
            "object_position": null,
            "object_fit": null,
            "grid_auto_columns": null,
            "margin": null,
            "display": null,
            "left": null
          }
        }
      }
    }
  },
  "cells": [
    {
      "cell_type": "markdown",
      "source": [
        "# Configurações iniciais"
      ],
      "metadata": {
        "id": "4krhe6yNmIPX"
      }
    },
    {
      "cell_type": "code",
      "execution_count": null,
      "metadata": {
        "id": "BHLOR5ZI1qZJ"
      },
      "outputs": [],
      "source": [
        "#importar bibliotecas\n",
        "import pandas as pd #trabalhar com dataframes\n"
      ]
    },
    {
      "cell_type": "code",
      "source": [
        "#conectar ao Google Drive\n",
        "from google.colab import drive\n",
        "drive.mount('/content/drive')"
      ],
      "metadata": {
        "colab": {
          "base_uri": "https://localhost:8080/"
        },
        "id": "nWdedJnE3hOO",
        "outputId": "d5442e91-c1f9-4c78-df5e-8c290c5ad58a"
      },
      "execution_count": null,
      "outputs": [
        {
          "output_type": "stream",
          "name": "stdout",
          "text": [
            "Mounted at /content/drive\n"
          ]
        }
      ]
    },
    {
      "cell_type": "code",
      "source": [
        "#com o arquivo de dados já no Drive\n",
        "#fazer a leitura para o dataframe\n",
        "#nesse exemplo é a base https://archive.ics.uci.edu/ml/datasets/Student+Performance#\n",
        "df = pd.read_csv(\"/content/drive/MyDrive/Colab Notebooks/student-mat.csv\", sep=';')"
      ],
      "metadata": {
        "id": "WwyU2iYh3l4D"
      },
      "execution_count": null,
      "outputs": []
    },
    {
      "cell_type": "markdown",
      "source": [
        "# Pré-processamento\n"
      ],
      "metadata": {
        "id": "qSh8QnF1mL-6"
      }
    },
    {
      "cell_type": "code",
      "source": [
        "#excluir as colunas que não forem necessárias\n",
        "df.columns.values"
      ],
      "metadata": {
        "colab": {
          "base_uri": "https://localhost:8080/"
        },
        "id": "EF1XEo8jliwM",
        "outputId": "ab98da69-cf85-4180-fcd1-f58f5982226f"
      },
      "execution_count": null,
      "outputs": [
        {
          "output_type": "execute_result",
          "data": {
            "text/plain": [
              "array(['school', 'sex', 'age', 'address', 'famsize', 'Pstatus', 'Medu',\n",
              "       'Fedu', 'Mjob', 'Fjob', 'reason', 'guardian', 'traveltime',\n",
              "       'studytime', 'failures', 'schoolsup', 'famsup', 'paid',\n",
              "       'activities', 'nursery', 'higher', 'internet', 'romantic',\n",
              "       'famrel', 'freetime', 'goout', 'Dalc', 'Walc', 'health',\n",
              "       'absences', 'G1', 'G2', 'G3'], dtype=object)"
            ]
          },
          "metadata": {},
          "execution_count": 5
        }
      ]
    },
    {
      "cell_type": "code",
      "source": [
        "colunas_selecionadas = ['sex', 'age', 'Medu', 'Fedu', 'G3']"
      ],
      "metadata": {
        "id": "OPdJXXzlltLK"
      },
      "execution_count": null,
      "outputs": []
    },
    {
      "cell_type": "code",
      "source": [
        "df = df.filter(items=colunas_selecionadas)"
      ],
      "metadata": {
        "id": "xjUWXmFJm3Er"
      },
      "execution_count": null,
      "outputs": []
    },
    {
      "cell_type": "code",
      "source": [
        "#a coluna G3 que apresenta a nota final será a coluna de classe.\n",
        "#Serão criados intervalos para as notas\n",
        "df.G3.describe()"
      ],
      "metadata": {
        "colab": {
          "base_uri": "https://localhost:8080/"
        },
        "id": "5AhcCeVthAFV",
        "outputId": "5ca0bde0-827a-48ae-e5fa-f3b46dfe1aa7"
      },
      "execution_count": null,
      "outputs": [
        {
          "output_type": "execute_result",
          "data": {
            "text/plain": [
              "count    395.000000\n",
              "mean      10.415190\n",
              "std        4.581443\n",
              "min        0.000000\n",
              "25%        8.000000\n",
              "50%       11.000000\n",
              "75%       14.000000\n",
              "max       20.000000\n",
              "Name: G3, dtype: float64"
            ]
          },
          "metadata": {},
          "execution_count": 8
        }
      ]
    },
    {
      "cell_type": "code",
      "source": [
        "df.G3.value_counts().sort_values(ascending=False)"
      ],
      "metadata": {
        "colab": {
          "base_uri": "https://localhost:8080/"
        },
        "id": "_HcHENTjjA9U",
        "outputId": "72e16e17-3891-4875-9eba-273c82d2b3e5"
      },
      "execution_count": null,
      "outputs": [
        {
          "output_type": "execute_result",
          "data": {
            "text/plain": [
              "10    56\n",
              "11    47\n",
              "0     38\n",
              "15    33\n",
              "8     32\n",
              "13    31\n",
              "12    31\n",
              "9     28\n",
              "14    27\n",
              "16    16\n",
              "6     15\n",
              "18    12\n",
              "7      9\n",
              "5      7\n",
              "17     6\n",
              "19     5\n",
              "4      1\n",
              "20     1\n",
              "Name: G3, dtype: int64"
            ]
          },
          "metadata": {},
          "execution_count": 9
        }
      ]
    },
    {
      "cell_type": "code",
      "source": [
        "for i in df['G3']:\n",
        "  try:\n",
        "    a = int(i)\n",
        "    if a <= 8:\n",
        "      df.G3 = df.G3.replace(i, \"1\")\n",
        "    elif a <= 11:\n",
        "      df.G3 = df.G3.replace(i, \"2\")\n",
        "    elif a<=14:\n",
        "        df.G3 = df.G3.replace(i, \"3\")\n",
        "    else:\n",
        "        df.G3 = df.G3.replace(i, \"4\")\n",
        "  except:\n",
        "    pass"
      ],
      "metadata": {
        "id": "Q-vkkb9-hF0s"
      },
      "execution_count": null,
      "outputs": []
    },
    {
      "cell_type": "code",
      "source": [
        "df.G3.value_counts().sort_values(ascending=False)"
      ],
      "metadata": {
        "colab": {
          "base_uri": "https://localhost:8080/"
        },
        "id": "-XtzjWoOi7dT",
        "outputId": "6cd36f6f-0b56-4ccb-a46f-46237777dbae"
      },
      "execution_count": null,
      "outputs": [
        {
          "output_type": "execute_result",
          "data": {
            "text/plain": [
              "2    131\n",
              "1    102\n",
              "3     89\n",
              "4     73\n",
              "Name: G3, dtype: int64"
            ]
          },
          "metadata": {},
          "execution_count": 11
        }
      ]
    },
    {
      "cell_type": "code",
      "source": [
        "#criar categoria para idade também\n",
        "df.age.describe()"
      ],
      "metadata": {
        "colab": {
          "base_uri": "https://localhost:8080/"
        },
        "id": "jf5EfLwNnK5-",
        "outputId": "f3b1ed2c-2ded-449b-d3ce-83e4b3281386"
      },
      "execution_count": null,
      "outputs": [
        {
          "output_type": "execute_result",
          "data": {
            "text/plain": [
              "count    395.000000\n",
              "mean      16.696203\n",
              "std        1.276043\n",
              "min       15.000000\n",
              "25%       16.000000\n",
              "50%       17.000000\n",
              "75%       18.000000\n",
              "max       22.000000\n",
              "Name: age, dtype: float64"
            ]
          },
          "metadata": {},
          "execution_count": 12
        }
      ]
    },
    {
      "cell_type": "code",
      "source": [
        "df.age.value_counts().sort_values(ascending=False)"
      ],
      "metadata": {
        "colab": {
          "base_uri": "https://localhost:8080/"
        },
        "id": "yNNZ4yzEnRrE",
        "outputId": "f32e8da5-d016-4f1c-cac9-98c6ccd18186"
      },
      "execution_count": null,
      "outputs": [
        {
          "output_type": "execute_result",
          "data": {
            "text/plain": [
              "16    104\n",
              "17     98\n",
              "15     82\n",
              "18     82\n",
              "19     24\n",
              "20      3\n",
              "21      1\n",
              "22      1\n",
              "Name: age, dtype: int64"
            ]
          },
          "metadata": {},
          "execution_count": 13
        }
      ]
    },
    {
      "cell_type": "code",
      "source": [
        "for i in df['age']:\n",
        "  try:\n",
        "    a = int(i)\n",
        "    if a <= 17:\n",
        "      df.age = df.age.replace(i, \"1\")\n",
        "    else:\n",
        "      df.age = df.age.replace(i, \"2\")\n",
        "  except:\n",
        "    pass"
      ],
      "metadata": {
        "id": "1vftyEiTnXZ-"
      },
      "execution_count": null,
      "outputs": []
    },
    {
      "cell_type": "code",
      "source": [
        "df.age.value_counts().sort_values(ascending=False)"
      ],
      "metadata": {
        "colab": {
          "base_uri": "https://localhost:8080/"
        },
        "id": "IKNZqM3onp2k",
        "outputId": "c66bda18-dafe-4efc-f126-436569f5e464"
      },
      "execution_count": null,
      "outputs": [
        {
          "output_type": "execute_result",
          "data": {
            "text/plain": [
              "1    284\n",
              "2    111\n",
              "Name: age, dtype: int64"
            ]
          },
          "metadata": {},
          "execution_count": 15
        }
      ]
    },
    {
      "cell_type": "code",
      "source": [
        "#transformação de textos em números na coluna sex\n",
        "def change_sex(x):\n",
        "  if x == \"F\":\n",
        "    x = \"1\"    \n",
        "  else:\n",
        "    x = \"2\"\n",
        "  return x"
      ],
      "metadata": {
        "id": "SY3gXF15uogM"
      },
      "execution_count": null,
      "outputs": []
    },
    {
      "cell_type": "code",
      "source": [
        "df.sex = df.sex.apply(change_sex)"
      ],
      "metadata": {
        "id": "WJRrfYUzu7X6"
      },
      "execution_count": null,
      "outputs": []
    },
    {
      "cell_type": "code",
      "source": [
        "df.sex.value_counts().sort_values(ascending=False)"
      ],
      "metadata": {
        "colab": {
          "base_uri": "https://localhost:8080/"
        },
        "id": "4OLmX213DBGs",
        "outputId": "6289334c-a437-48f4-9b89-6681d35bbaa7"
      },
      "execution_count": null,
      "outputs": [
        {
          "output_type": "execute_result",
          "data": {
            "text/plain": [
              "1    208\n",
              "2    187\n",
              "Name: sex, dtype: int64"
            ]
          },
          "metadata": {},
          "execution_count": 18
        }
      ]
    },
    {
      "cell_type": "markdown",
      "source": [
        "# Preparação para classificação"
      ],
      "metadata": {
        "id": "w9qkFc_dnuCi"
      }
    },
    {
      "cell_type": "code",
      "source": [
        "#Separar a coluna que guarda a classe dos outros recursos\n",
        "#coluna que é a classe / alvo\n",
        "y = df[\"G3\"]"
      ],
      "metadata": {
        "id": "yKB_Js62nxKS"
      },
      "execution_count": null,
      "outputs": []
    },
    {
      "cell_type": "code",
      "source": [
        "#Outros atributos\n",
        "X = df.drop(columns=[\"G3\"])"
      ],
      "metadata": {
        "id": "PiRxcjqW4Qc6"
      },
      "execution_count": null,
      "outputs": []
    },
    {
      "cell_type": "code",
      "source": [
        "print(\"Dataframe\",df.shape)\n",
        "print(\"Atributos\",X.shape)\n",
        "print(\"Classe\",y.shape)"
      ],
      "metadata": {
        "colab": {
          "base_uri": "https://localhost:8080/"
        },
        "id": "cDrnP0Exol7q",
        "outputId": "c34979c1-256b-431d-a1ba-cba3ba9aa37f"
      },
      "execution_count": null,
      "outputs": [
        {
          "output_type": "stream",
          "name": "stdout",
          "text": [
            "Dataframe (395, 5)\n",
            "Atributos (395, 4)\n",
            "Classe (395,)\n"
          ]
        }
      ]
    },
    {
      "cell_type": "code",
      "source": [
        "#Quebra o X e o y em 2 partes= treinamento e teste. O 0.20 indica que 20% será para teste.\n",
        "#y_train e y_teste são uma série do pandas, por isso não apresentam a quantidade de colunas\n",
        "#uma série é uma estrutura de dados de uma única coluna, e um data frame é um conjunto de séries\n",
        "#o parametro random_sate define o quanto se deve embaralhar os dados antes de fazer a divisão, como é aleatório a cada treinamento pode-se chegar a resultados diferentes\n",
        "#o parâmetro stratify define que a divisão dos dados deve manter a mesma proporção de y\n",
        "from sklearn.model_selection import train_test_split #fazer a divisão de treinamento e teste\n",
        "\n",
        "X_train, X_test, y_train, y_test = train_test_split(X,y,test_size=0.20,random_state=22,stratify=y)\n",
        "print(\"X_train\",X_train.shape)\n",
        "print(\"X_test\",X_test.shape)\n",
        "print(\"y_train\",y_train.shape)\n",
        "print(\"y_test\",y_test.shape)"
      ],
      "metadata": {
        "colab": {
          "base_uri": "https://localhost:8080/"
        },
        "id": "RWgEcfVS4qYL",
        "outputId": "4de9fc43-b651-40e9-9da3-5704e0a14afc"
      },
      "execution_count": null,
      "outputs": [
        {
          "output_type": "stream",
          "name": "stdout",
          "text": [
            "X_train (316, 4)\n",
            "X_test (79, 4)\n",
            "y_train (316,)\n",
            "y_test (79,)\n"
          ]
        }
      ]
    },
    {
      "cell_type": "code",
      "source": [
        "#o par X_train e y_train possuem os atributos e as classes que cada tupla possui, serão usados para treinar o modelo\n",
        "#o par X_teste e y_test possuem a mesma combinação. O modelo treinado será aplicado ao X_teste e será feita a comparação dos resultados com o que já se tem em y_test\n",
        "#CrossValidation"
      ],
      "metadata": {
        "id": "shCB5k21sNgt"
      },
      "execution_count": null,
      "outputs": []
    },
    {
      "cell_type": "markdown",
      "source": [
        "# KNN"
      ],
      "metadata": {
        "id": "jDbdE6dg1EQa"
      }
    },
    {
      "cell_type": "code",
      "source": [
        "import matplotlib.pyplot as plt\n",
        "from sklearn.neighbors import KNeighborsClassifier\n",
        "\n",
        "knn = KNeighborsClassifier(n_neighbors=3)\n",
        "knn.fit(X_train,y_train)"
      ],
      "metadata": {
        "colab": {
          "base_uri": "https://localhost:8080/"
        },
        "id": "yr7ScFvs1F3Q",
        "outputId": "4d9ec974-ee1e-4a9b-94da-a0353c03cc8d"
      },
      "execution_count": null,
      "outputs": [
        {
          "output_type": "execute_result",
          "data": {
            "text/plain": [
              "KNeighborsClassifier(n_neighbors=3)"
            ]
          },
          "metadata": {},
          "execution_count": 24
        }
      ]
    },
    {
      "cell_type": "code",
      "source": [
        "resultado = knn.predict(X_test)\n",
        "resultado"
      ],
      "metadata": {
        "colab": {
          "base_uri": "https://localhost:8080/"
        },
        "id": "x-qktWpzxsW4",
        "outputId": "d11021a6-662b-47d4-ec4a-bbacab222dce"
      },
      "execution_count": null,
      "outputs": [
        {
          "output_type": "execute_result",
          "data": {
            "text/plain": [
              "array(['2', '4', '2', '2', '2', '2', '1', '2', '2', '1', '2', '2', '2',\n",
              "       '1', '3', '2', '2', '1', '1', '3', '4', '1', '1', '2', '1', '2',\n",
              "       '2', '3', '2', '1', '3', '2', '2', '1', '3', '2', '2', '2', '4',\n",
              "       '3', '1', '2', '1', '1', '2', '1', '2', '3', '1', '1', '1', '3',\n",
              "       '1', '3', '1', '1', '4', '2', '2', '2', '3', '1', '1', '2', '1',\n",
              "       '1', '1', '2', '2', '1', '1', '3', '2', '1', '4', '3', '1', '4',\n",
              "       '3'], dtype=object)"
            ]
          },
          "metadata": {},
          "execution_count": 25
        }
      ]
    },
    {
      "cell_type": "code",
      "source": [
        "df[\"Qualidade da predição\"] = knn.predict(X)\n",
        "df.sample(15,random_state=22)"
      ],
      "metadata": {
        "colab": {
          "base_uri": "https://localhost:8080/",
          "height": 520
        },
        "id": "bmj_Kuqs40vC",
        "outputId": "87f01441-6dbf-4c6d-f234-d8ad06252422"
      },
      "execution_count": null,
      "outputs": [
        {
          "output_type": "execute_result",
          "data": {
            "text/html": [
              "\n",
              "  <div id=\"df-2846d2e4-d41e-4d15-b4ed-e6fb6f9a9edc\">\n",
              "    <div class=\"colab-df-container\">\n",
              "      <div>\n",
              "<style scoped>\n",
              "    .dataframe tbody tr th:only-of-type {\n",
              "        vertical-align: middle;\n",
              "    }\n",
              "\n",
              "    .dataframe tbody tr th {\n",
              "        vertical-align: top;\n",
              "    }\n",
              "\n",
              "    .dataframe thead th {\n",
              "        text-align: right;\n",
              "    }\n",
              "</style>\n",
              "<table border=\"1\" class=\"dataframe\">\n",
              "  <thead>\n",
              "    <tr style=\"text-align: right;\">\n",
              "      <th></th>\n",
              "      <th>sex</th>\n",
              "      <th>age</th>\n",
              "      <th>Medu</th>\n",
              "      <th>Fedu</th>\n",
              "      <th>G3</th>\n",
              "      <th>Qualidade da predição</th>\n",
              "    </tr>\n",
              "  </thead>\n",
              "  <tbody>\n",
              "    <tr>\n",
              "      <th>164</th>\n",
              "      <td>2</td>\n",
              "      <td>1</td>\n",
              "      <td>1</td>\n",
              "      <td>1</td>\n",
              "      <td>1</td>\n",
              "      <td>1</td>\n",
              "    </tr>\n",
              "    <tr>\n",
              "      <th>188</th>\n",
              "      <td>1</td>\n",
              "      <td>1</td>\n",
              "      <td>3</td>\n",
              "      <td>3</td>\n",
              "      <td>2</td>\n",
              "      <td>2</td>\n",
              "    </tr>\n",
              "    <tr>\n",
              "      <th>303</th>\n",
              "      <td>1</td>\n",
              "      <td>1</td>\n",
              "      <td>3</td>\n",
              "      <td>2</td>\n",
              "      <td>4</td>\n",
              "      <td>1</td>\n",
              "    </tr>\n",
              "    <tr>\n",
              "      <th>339</th>\n",
              "      <td>1</td>\n",
              "      <td>1</td>\n",
              "      <td>3</td>\n",
              "      <td>2</td>\n",
              "      <td>2</td>\n",
              "      <td>1</td>\n",
              "    </tr>\n",
              "    <tr>\n",
              "      <th>236</th>\n",
              "      <td>2</td>\n",
              "      <td>1</td>\n",
              "      <td>2</td>\n",
              "      <td>2</td>\n",
              "      <td>3</td>\n",
              "      <td>3</td>\n",
              "    </tr>\n",
              "    <tr>\n",
              "      <th>268</th>\n",
              "      <td>2</td>\n",
              "      <td>2</td>\n",
              "      <td>4</td>\n",
              "      <td>2</td>\n",
              "      <td>2</td>\n",
              "      <td>1</td>\n",
              "    </tr>\n",
              "    <tr>\n",
              "      <th>56</th>\n",
              "      <td>1</td>\n",
              "      <td>1</td>\n",
              "      <td>4</td>\n",
              "      <td>3</td>\n",
              "      <td>4</td>\n",
              "      <td>1</td>\n",
              "    </tr>\n",
              "    <tr>\n",
              "      <th>197</th>\n",
              "      <td>2</td>\n",
              "      <td>1</td>\n",
              "      <td>3</td>\n",
              "      <td>3</td>\n",
              "      <td>2</td>\n",
              "      <td>1</td>\n",
              "    </tr>\n",
              "    <tr>\n",
              "      <th>42</th>\n",
              "      <td>2</td>\n",
              "      <td>1</td>\n",
              "      <td>4</td>\n",
              "      <td>4</td>\n",
              "      <td>4</td>\n",
              "      <td>2</td>\n",
              "    </tr>\n",
              "    <tr>\n",
              "      <th>281</th>\n",
              "      <td>2</td>\n",
              "      <td>1</td>\n",
              "      <td>3</td>\n",
              "      <td>2</td>\n",
              "      <td>2</td>\n",
              "      <td>1</td>\n",
              "    </tr>\n",
              "    <tr>\n",
              "      <th>331</th>\n",
              "      <td>1</td>\n",
              "      <td>1</td>\n",
              "      <td>2</td>\n",
              "      <td>4</td>\n",
              "      <td>3</td>\n",
              "      <td>2</td>\n",
              "    </tr>\n",
              "    <tr>\n",
              "      <th>244</th>\n",
              "      <td>1</td>\n",
              "      <td>2</td>\n",
              "      <td>2</td>\n",
              "      <td>1</td>\n",
              "      <td>1</td>\n",
              "      <td>3</td>\n",
              "    </tr>\n",
              "    <tr>\n",
              "      <th>35</th>\n",
              "      <td>1</td>\n",
              "      <td>1</td>\n",
              "      <td>2</td>\n",
              "      <td>3</td>\n",
              "      <td>1</td>\n",
              "      <td>1</td>\n",
              "    </tr>\n",
              "    <tr>\n",
              "      <th>235</th>\n",
              "      <td>2</td>\n",
              "      <td>1</td>\n",
              "      <td>3</td>\n",
              "      <td>2</td>\n",
              "      <td>2</td>\n",
              "      <td>1</td>\n",
              "    </tr>\n",
              "    <tr>\n",
              "      <th>380</th>\n",
              "      <td>2</td>\n",
              "      <td>2</td>\n",
              "      <td>4</td>\n",
              "      <td>4</td>\n",
              "      <td>3</td>\n",
              "      <td>1</td>\n",
              "    </tr>\n",
              "  </tbody>\n",
              "</table>\n",
              "</div>\n",
              "      <button class=\"colab-df-convert\" onclick=\"convertToInteractive('df-2846d2e4-d41e-4d15-b4ed-e6fb6f9a9edc')\"\n",
              "              title=\"Convert this dataframe to an interactive table.\"\n",
              "              style=\"display:none;\">\n",
              "        \n",
              "  <svg xmlns=\"http://www.w3.org/2000/svg\" height=\"24px\"viewBox=\"0 0 24 24\"\n",
              "       width=\"24px\">\n",
              "    <path d=\"M0 0h24v24H0V0z\" fill=\"none\"/>\n",
              "    <path d=\"M18.56 5.44l.94 2.06.94-2.06 2.06-.94-2.06-.94-.94-2.06-.94 2.06-2.06.94zm-11 1L8.5 8.5l.94-2.06 2.06-.94-2.06-.94L8.5 2.5l-.94 2.06-2.06.94zm10 10l.94 2.06.94-2.06 2.06-.94-2.06-.94-.94-2.06-.94 2.06-2.06.94z\"/><path d=\"M17.41 7.96l-1.37-1.37c-.4-.4-.92-.59-1.43-.59-.52 0-1.04.2-1.43.59L10.3 9.45l-7.72 7.72c-.78.78-.78 2.05 0 2.83L4 21.41c.39.39.9.59 1.41.59.51 0 1.02-.2 1.41-.59l7.78-7.78 2.81-2.81c.8-.78.8-2.07 0-2.86zM5.41 20L4 18.59l7.72-7.72 1.47 1.35L5.41 20z\"/>\n",
              "  </svg>\n",
              "      </button>\n",
              "      \n",
              "  <style>\n",
              "    .colab-df-container {\n",
              "      display:flex;\n",
              "      flex-wrap:wrap;\n",
              "      gap: 12px;\n",
              "    }\n",
              "\n",
              "    .colab-df-convert {\n",
              "      background-color: #E8F0FE;\n",
              "      border: none;\n",
              "      border-radius: 50%;\n",
              "      cursor: pointer;\n",
              "      display: none;\n",
              "      fill: #1967D2;\n",
              "      height: 32px;\n",
              "      padding: 0 0 0 0;\n",
              "      width: 32px;\n",
              "    }\n",
              "\n",
              "    .colab-df-convert:hover {\n",
              "      background-color: #E2EBFA;\n",
              "      box-shadow: 0px 1px 2px rgba(60, 64, 67, 0.3), 0px 1px 3px 1px rgba(60, 64, 67, 0.15);\n",
              "      fill: #174EA6;\n",
              "    }\n",
              "\n",
              "    [theme=dark] .colab-df-convert {\n",
              "      background-color: #3B4455;\n",
              "      fill: #D2E3FC;\n",
              "    }\n",
              "\n",
              "    [theme=dark] .colab-df-convert:hover {\n",
              "      background-color: #434B5C;\n",
              "      box-shadow: 0px 1px 3px 1px rgba(0, 0, 0, 0.15);\n",
              "      filter: drop-shadow(0px 1px 2px rgba(0, 0, 0, 0.3));\n",
              "      fill: #FFFFFF;\n",
              "    }\n",
              "  </style>\n",
              "\n",
              "      <script>\n",
              "        const buttonEl =\n",
              "          document.querySelector('#df-2846d2e4-d41e-4d15-b4ed-e6fb6f9a9edc button.colab-df-convert');\n",
              "        buttonEl.style.display =\n",
              "          google.colab.kernel.accessAllowed ? 'block' : 'none';\n",
              "\n",
              "        async function convertToInteractive(key) {\n",
              "          const element = document.querySelector('#df-2846d2e4-d41e-4d15-b4ed-e6fb6f9a9edc');\n",
              "          const dataTable =\n",
              "            await google.colab.kernel.invokeFunction('convertToInteractive',\n",
              "                                                     [key], {});\n",
              "          if (!dataTable) return;\n",
              "\n",
              "          const docLinkHtml = 'Like what you see? Visit the ' +\n",
              "            '<a target=\"_blank\" href=https://colab.research.google.com/notebooks/data_table.ipynb>data table notebook</a>'\n",
              "            + ' to learn more about interactive tables.';\n",
              "          element.innerHTML = '';\n",
              "          dataTable['output_type'] = 'display_data';\n",
              "          await google.colab.output.renderOutput(dataTable, element);\n",
              "          const docLink = document.createElement('div');\n",
              "          docLink.innerHTML = docLinkHtml;\n",
              "          element.appendChild(docLink);\n",
              "        }\n",
              "      </script>\n",
              "    </div>\n",
              "  </div>\n",
              "  "
            ],
            "text/plain": [
              "    sex age  Medu  Fedu G3 Qualidade da predição\n",
              "164   2   1     1     1  1                     1\n",
              "188   1   1     3     3  2                     2\n",
              "303   1   1     3     2  4                     1\n",
              "339   1   1     3     2  2                     1\n",
              "236   2   1     2     2  3                     3\n",
              "268   2   2     4     2  2                     1\n",
              "56    1   1     4     3  4                     1\n",
              "197   2   1     3     3  2                     1\n",
              "42    2   1     4     4  4                     2\n",
              "281   2   1     3     2  2                     1\n",
              "331   1   1     2     4  3                     2\n",
              "244   1   2     2     1  1                     3\n",
              "35    1   1     2     3  1                     1\n",
              "235   2   1     3     2  2                     1\n",
              "380   2   2     4     4  3                     1"
            ]
          },
          "metadata": {},
          "execution_count": 26
        }
      ]
    },
    {
      "cell_type": "code",
      "source": [
        "#fazer a predição de um exemplo\n",
        "#o parâmetro tem que ser no formato de uma matriz/dataframe\n",
        "print(knn.predict([[1,1,3,3]]))"
      ],
      "metadata": {
        "colab": {
          "base_uri": "https://localhost:8080/"
        },
        "id": "-AgJ4aWpGygg",
        "outputId": "c8c66521-38ab-4106-d257-68dad7db07d4"
      },
      "execution_count": null,
      "outputs": [
        {
          "output_type": "stream",
          "name": "stdout",
          "text": [
            "['2']\n"
          ]
        },
        {
          "output_type": "stream",
          "name": "stderr",
          "text": [
            "/usr/local/lib/python3.7/dist-packages/sklearn/base.py:451: UserWarning: X does not have valid feature names, but KNeighborsClassifier was fitted with feature names\n",
            "  \"X does not have valid feature names, but\"\n"
          ]
        }
      ]
    },
    {
      "cell_type": "markdown",
      "source": [
        "## Avaliação do Knn\n",
        "\n",
        "\n"
      ],
      "metadata": {
        "id": "URwepUq41zJA"
      }
    },
    {
      "cell_type": "code",
      "source": [
        "#matriz de confusão\n",
        "print (pd.crosstab(y_test,resultado, rownames=['Real'], colnames=['Predito'], margins=True))"
      ],
      "metadata": {
        "colab": {
          "base_uri": "https://localhost:8080/"
        },
        "id": "vmhP7V9T0kzp",
        "outputId": "dfbcdda4-63d7-4115-a141-a2b593a2170a"
      },
      "execution_count": null,
      "outputs": [
        {
          "output_type": "stream",
          "name": "stdout",
          "text": [
            "Predito   1   2   3  4  All\n",
            "Real                       \n",
            "1         8   6   3  3   20\n",
            "2        10   9   5  2   26\n",
            "3         7   8   2  1   18\n",
            "4         4   8   3  0   15\n",
            "All      29  31  13  6   79\n"
          ]
        }
      ]
    },
    {
      "cell_type": "code",
      "source": [
        "#relatório de métricas, para cada classe é apresentada a precisão, recall, f1score e o suporte\n",
        "#o suporte é o número de ocorrencias de cada classe no conjunto y_true\n",
        "#macro avg e weighted avg indicam a média de cada medida não ponderada e a média ponderada pelo suporte respectivamente\n",
        "from sklearn import metrics\n",
        "print(metrics.classification_report(y_test,resultado))"
      ],
      "metadata": {
        "colab": {
          "base_uri": "https://localhost:8080/"
        },
        "id": "AAgcrH3e1m2F",
        "outputId": "9c23e136-bddf-4dc6-b1ec-a322c0cbc99f"
      },
      "execution_count": null,
      "outputs": [
        {
          "output_type": "stream",
          "name": "stdout",
          "text": [
            "              precision    recall  f1-score   support\n",
            "\n",
            "           1       0.28      0.40      0.33        20\n",
            "           2       0.29      0.35      0.32        26\n",
            "           3       0.15      0.11      0.13        18\n",
            "           4       0.00      0.00      0.00        15\n",
            "\n",
            "    accuracy                           0.24        79\n",
            "   macro avg       0.18      0.21      0.19        79\n",
            "weighted avg       0.20      0.24      0.22        79\n",
            "\n"
          ]
        }
      ]
    },
    {
      "cell_type": "code",
      "source": [
        "#Otimizando o parâmetro k utilizando o GridSearch\n",
        "from sklearn.model_selection import GridSearchCV\n",
        "k_list = list(range(1,31))\n",
        "parametros = dict(n_neighbors=k_list)\n",
        "grid = GridSearchCV(knn, parametros, cv=5, scoring='accuracy')\n",
        "#cv é cross validation"
      ],
      "metadata": {
        "id": "dKSWez6i3DRq"
      },
      "execution_count": null,
      "outputs": []
    },
    {
      "cell_type": "code",
      "source": [
        "grid.fit(X_train,y_train)"
      ],
      "metadata": {
        "colab": {
          "base_uri": "https://localhost:8080/"
        },
        "id": "EalrSTWM3b8A",
        "outputId": "89b97c04-eba1-406f-acc5-99383df2cee4"
      },
      "execution_count": null,
      "outputs": [
        {
          "output_type": "execute_result",
          "data": {
            "text/plain": [
              "GridSearchCV(cv=5, estimator=KNeighborsClassifier(n_neighbors=3),\n",
              "             param_grid={'n_neighbors': [1, 2, 3, 4, 5, 6, 7, 8, 9, 10, 11, 12,\n",
              "                                         13, 14, 15, 16, 17, 18, 19, 20, 21, 22,\n",
              "                                         23, 24, 25, 26, 27, 28, 29, 30]},\n",
              "             scoring='accuracy')"
            ]
          },
          "metadata": {},
          "execution_count": 41
        }
      ]
    },
    {
      "cell_type": "code",
      "source": [
        "print(\"Melhores parametros {} com o valor de acurácia {} \".format(grid.best_params_,grid.best_score_))"
      ],
      "metadata": {
        "colab": {
          "base_uri": "https://localhost:8080/"
        },
        "id": "X6iYNfSM3oZe",
        "outputId": "46d48b20-f668-455c-adfd-77a5347d3c94"
      },
      "execution_count": null,
      "outputs": [
        {
          "output_type": "stream",
          "name": "stdout",
          "text": [
            "Melhores parametros {'n_neighbors': 20} com o valor de acurácia 0.33844246031746034 \n"
          ]
        }
      ]
    },
    {
      "cell_type": "code",
      "source": [
        "#gráfico da acurácia em relação ao número de vizinhos\n",
        "import matplotlib.pyplot as plt\n",
        "graphic = grid.cv_results_['mean_test_score']\n",
        "graphic\n",
        "\n",
        "plt.figure(figsize=(10,5))\n",
        "plt.plot(k_list,graphic,color='navy',linestyle='dashed',marker='o')\n",
        "plt.xlabel('K Number of Neighbors', fontdict={'fontsize': 15})\n",
        "plt.ylabel('Accuracy', fontdict={'fontsize': 15})\n",
        "plt.title('K NUMBER X ACCURACY', fontdict={'fontsize': 30})\n",
        "plt.xticks(range(0,31,3),)\n",
        "#plt.xaxis.set_major_locator(MultipleLocator(3))\n",
        "plt.show()"
      ],
      "metadata": {
        "colab": {
          "base_uri": "https://localhost:8080/",
          "height": 367
        },
        "id": "xLl4wlNGKvCE",
        "outputId": "dbd5e80a-fef8-4633-a096-c1bcc7718509"
      },
      "execution_count": null,
      "outputs": [
        {
          "output_type": "display_data",
          "data": {
            "image/png": "[encoded data removed]",
            "text/plain": [
              "<Figure size 720x360 with 1 Axes>"
            ]
          },
          "metadata": {
            "needs_background": "light"
          }
        }
      ]
    },
    {
      "cell_type": "markdown",
      "source": [
        "# Árvore de decisão"
      ],
      "metadata": {
        "id": "tYRQA_Doza40"
      }
    },
    {
      "cell_type": "code",
      "source": [
        "#importando um algoritmo de classificação: árvore de decisão\n",
        "from sklearn import tree\n",
        "from sklearn.tree import DecisionTreeClassifier,export_graphviz\n",
        "from sklearn.model_selection import train_test_split\n",
        "from sklearn import metrics\n",
        "import numpy as np"
      ],
      "metadata": {
        "id": "k1Nal_pC5-jS"
      },
      "execution_count": null,
      "outputs": []
    },
    {
      "cell_type": "code",
      "source": [
        "#declarar tree como o algoritmo\n",
        "clf = tree.DecisionTreeClassifier()"
      ],
      "metadata": {
        "id": "HbPjr4EY6O64"
      },
      "execution_count": null,
      "outputs": []
    },
    {
      "cell_type": "code",
      "source": [
        "#treinar o algoritmo com a base de treinamento\n",
        "clf = clf.fit(X_train, y_train)"
      ],
      "metadata": {
        "id": "JIVw-GCV6W8Q"
      },
      "execution_count": null,
      "outputs": []
    },
    {
      "cell_type": "code",
      "source": [
        "#Features mais importantes\n",
        "for feature,importancia in zip(df.columns,clf.feature_importances_):\n",
        "    print(\"{}:{}\".format(feature, importancia))"
      ],
      "metadata": {
        "colab": {
          "base_uri": "https://localhost:8080/"
        },
        "id": "_6XGA-Os4Xfc",
        "outputId": "60067ed7-fe2b-42c4-e98f-8ebab94a8ff1"
      },
      "execution_count": null,
      "outputs": [
        {
          "output_type": "stream",
          "name": "stdout",
          "text": [
            "sex:0.19325573223078188\n",
            "age:0.07479192734358475\n",
            "Medu:0.262064574886767\n",
            "Fedu:0.4698877655388664\n"
          ]
        }
      ]
    },
    {
      "cell_type": "code",
      "source": [
        "resultado = clf.predict(X_test)\n",
        "resultado"
      ],
      "metadata": {
        "colab": {
          "base_uri": "https://localhost:8080/"
        },
        "id": "c-27WgZ44oDj",
        "outputId": "2201b8ae-7234-47e7-9aea-4ce8b2a09216"
      },
      "execution_count": null,
      "outputs": [
        {
          "output_type": "execute_result",
          "data": {
            "text/plain": [
              "array(['2', '3', '2', '1', '1', '2', '2', '4', '1', '1', '2', '2', '2',\n",
              "       '1', '3', '2', '2', '2', '2', '2', '3', '3', '1', '4', '1', '2',\n",
              "       '4', '2', '2', '4', '2', '2', '4', '2', '2', '2', '2', '3', '3',\n",
              "       '2', '3', '2', '3', '2', '3', '2', '2', '3', '2', '4', '2', '1',\n",
              "       '3', '2', '1', '1', '3', '1', '4', '2', '2', '1', '2', '1', '2',\n",
              "       '1', '1', '2', '4', '1', '4', '2', '4', '4', '3', '2', '1', '3',\n",
              "       '3'], dtype=object)"
            ]
          },
          "metadata": {},
          "execution_count": 57
        }
      ]
    },
    {
      "cell_type": "code",
      "source": [
        "df[\"Qualidade da predição\"] = clf.predict(X)\n",
        "df.sample(15,random_state=22)"
      ],
      "metadata": {
        "colab": {
          "base_uri": "https://localhost:8080/",
          "height": 520
        },
        "id": "YQCWi2lI4dwW",
        "outputId": "745da994-322d-4b29-be59-e9dfc8c06ae4"
      },
      "execution_count": null,
      "outputs": [
        {
          "output_type": "execute_result",
          "data": {
            "text/html": [
              "\n",
              "  <div id=\"df-50f17f46-b8e4-4f8a-9d61-3e26bc4f8c2b\">\n",
              "    <div class=\"colab-df-container\">\n",
              "      <div>\n",
              "<style scoped>\n",
              "    .dataframe tbody tr th:only-of-type {\n",
              "        vertical-align: middle;\n",
              "    }\n",
              "\n",
              "    .dataframe tbody tr th {\n",
              "        vertical-align: top;\n",
              "    }\n",
              "\n",
              "    .dataframe thead th {\n",
              "        text-align: right;\n",
              "    }\n",
              "</style>\n",
              "<table border=\"1\" class=\"dataframe\">\n",
              "  <thead>\n",
              "    <tr style=\"text-align: right;\">\n",
              "      <th></th>\n",
              "      <th>sex</th>\n",
              "      <th>age</th>\n",
              "      <th>Medu</th>\n",
              "      <th>Fedu</th>\n",
              "      <th>G3</th>\n",
              "      <th>Qualidade da predição</th>\n",
              "    </tr>\n",
              "  </thead>\n",
              "  <tbody>\n",
              "    <tr>\n",
              "      <th>164</th>\n",
              "      <td>2</td>\n",
              "      <td>1</td>\n",
              "      <td>1</td>\n",
              "      <td>1</td>\n",
              "      <td>1</td>\n",
              "      <td>1</td>\n",
              "    </tr>\n",
              "    <tr>\n",
              "      <th>188</th>\n",
              "      <td>1</td>\n",
              "      <td>1</td>\n",
              "      <td>3</td>\n",
              "      <td>3</td>\n",
              "      <td>2</td>\n",
              "      <td>2</td>\n",
              "    </tr>\n",
              "    <tr>\n",
              "      <th>303</th>\n",
              "      <td>1</td>\n",
              "      <td>1</td>\n",
              "      <td>3</td>\n",
              "      <td>2</td>\n",
              "      <td>4</td>\n",
              "      <td>1</td>\n",
              "    </tr>\n",
              "    <tr>\n",
              "      <th>339</th>\n",
              "      <td>1</td>\n",
              "      <td>1</td>\n",
              "      <td>3</td>\n",
              "      <td>2</td>\n",
              "      <td>2</td>\n",
              "      <td>1</td>\n",
              "    </tr>\n",
              "    <tr>\n",
              "      <th>236</th>\n",
              "      <td>2</td>\n",
              "      <td>1</td>\n",
              "      <td>2</td>\n",
              "      <td>2</td>\n",
              "      <td>3</td>\n",
              "      <td>2</td>\n",
              "    </tr>\n",
              "    <tr>\n",
              "      <th>268</th>\n",
              "      <td>2</td>\n",
              "      <td>2</td>\n",
              "      <td>4</td>\n",
              "      <td>2</td>\n",
              "      <td>2</td>\n",
              "      <td>1</td>\n",
              "    </tr>\n",
              "    <tr>\n",
              "      <th>56</th>\n",
              "      <td>1</td>\n",
              "      <td>1</td>\n",
              "      <td>4</td>\n",
              "      <td>3</td>\n",
              "      <td>4</td>\n",
              "      <td>4</td>\n",
              "    </tr>\n",
              "    <tr>\n",
              "      <th>197</th>\n",
              "      <td>2</td>\n",
              "      <td>1</td>\n",
              "      <td>3</td>\n",
              "      <td>3</td>\n",
              "      <td>2</td>\n",
              "      <td>2</td>\n",
              "    </tr>\n",
              "    <tr>\n",
              "      <th>42</th>\n",
              "      <td>2</td>\n",
              "      <td>1</td>\n",
              "      <td>4</td>\n",
              "      <td>4</td>\n",
              "      <td>4</td>\n",
              "      <td>4</td>\n",
              "    </tr>\n",
              "    <tr>\n",
              "      <th>281</th>\n",
              "      <td>2</td>\n",
              "      <td>1</td>\n",
              "      <td>3</td>\n",
              "      <td>2</td>\n",
              "      <td>2</td>\n",
              "      <td>2</td>\n",
              "    </tr>\n",
              "    <tr>\n",
              "      <th>331</th>\n",
              "      <td>1</td>\n",
              "      <td>1</td>\n",
              "      <td>2</td>\n",
              "      <td>4</td>\n",
              "      <td>3</td>\n",
              "      <td>3</td>\n",
              "    </tr>\n",
              "    <tr>\n",
              "      <th>244</th>\n",
              "      <td>1</td>\n",
              "      <td>2</td>\n",
              "      <td>2</td>\n",
              "      <td>1</td>\n",
              "      <td>1</td>\n",
              "      <td>1</td>\n",
              "    </tr>\n",
              "    <tr>\n",
              "      <th>35</th>\n",
              "      <td>1</td>\n",
              "      <td>1</td>\n",
              "      <td>2</td>\n",
              "      <td>3</td>\n",
              "      <td>1</td>\n",
              "      <td>1</td>\n",
              "    </tr>\n",
              "    <tr>\n",
              "      <th>235</th>\n",
              "      <td>2</td>\n",
              "      <td>1</td>\n",
              "      <td>3</td>\n",
              "      <td>2</td>\n",
              "      <td>2</td>\n",
              "      <td>2</td>\n",
              "    </tr>\n",
              "    <tr>\n",
              "      <th>380</th>\n",
              "      <td>2</td>\n",
              "      <td>2</td>\n",
              "      <td>4</td>\n",
              "      <td>4</td>\n",
              "      <td>3</td>\n",
              "      <td>1</td>\n",
              "    </tr>\n",
              "  </tbody>\n",
              "</table>\n",
              "</div>\n",
              "      <button class=\"colab-df-convert\" onclick=\"convertToInteractive('df-50f17f46-b8e4-4f8a-9d61-3e26bc4f8c2b')\"\n",
              "              title=\"Convert this dataframe to an interactive table.\"\n",
              "              style=\"display:none;\">\n",
              "        \n",
              "  <svg xmlns=\"http://www.w3.org/2000/svg\" height=\"24px\"viewBox=\"0 0 24 24\"\n",
              "       width=\"24px\">\n",
              "    <path d=\"M0 0h24v24H0V0z\" fill=\"none\"/>\n",
              "    <path d=\"M18.56 5.44l.94 2.06.94-2.06 2.06-.94-2.06-.94-.94-2.06-.94 2.06-2.06.94zm-11 1L8.5 8.5l.94-2.06 2.06-.94-2.06-.94L8.5 2.5l-.94 2.06-2.06.94zm10 10l.94 2.06.94-2.06 2.06-.94-2.06-.94-.94-2.06-.94 2.06-2.06.94z\"/><path d=\"M17.41 7.96l-1.37-1.37c-.4-.4-.92-.59-1.43-.59-.52 0-1.04.2-1.43.59L10.3 9.45l-7.72 7.72c-.78.78-.78 2.05 0 2.83L4 21.41c.39.39.9.59 1.41.59.51 0 1.02-.2 1.41-.59l7.78-7.78 2.81-2.81c.8-.78.8-2.07 0-2.86zM5.41 20L4 18.59l7.72-7.72 1.47 1.35L5.41 20z\"/>\n",
              "  </svg>\n",
              "      </button>\n",
              "      \n",
              "  <style>\n",
              "    .colab-df-container {\n",
              "      display:flex;\n",
              "      flex-wrap:wrap;\n",
              "      gap: 12px;\n",
              "    }\n",
              "\n",
              "    .colab-df-convert {\n",
              "      background-color: #E8F0FE;\n",
              "      border: none;\n",
              "      border-radius: 50%;\n",
              "      cursor: pointer;\n",
              "      display: none;\n",
              "      fill: #1967D2;\n",
              "      height: 32px;\n",
              "      padding: 0 0 0 0;\n",
              "      width: 32px;\n",
              "    }\n",
              "\n",
              "    .colab-df-convert:hover {\n",
              "      background-color: #E2EBFA;\n",
              "      box-shadow: 0px 1px 2px rgba(60, 64, 67, 0.3), 0px 1px 3px 1px rgba(60, 64, 67, 0.15);\n",
              "      fill: #174EA6;\n",
              "    }\n",
              "\n",
              "    [theme=dark] .colab-df-convert {\n",
              "      background-color: #3B4455;\n",
              "      fill: #D2E3FC;\n",
              "    }\n",
              "\n",
              "    [theme=dark] .colab-df-convert:hover {\n",
              "      background-color: #434B5C;\n",
              "      box-shadow: 0px 1px 3px 1px rgba(0, 0, 0, 0.15);\n",
              "      filter: drop-shadow(0px 1px 2px rgba(0, 0, 0, 0.3));\n",
              "      fill: #FFFFFF;\n",
              "    }\n",
              "  </style>\n",
              "\n",
              "      <script>\n",
              "        const buttonEl =\n",
              "          document.querySelector('#df-50f17f46-b8e4-4f8a-9d61-3e26bc4f8c2b button.colab-df-convert');\n",
              "        buttonEl.style.display =\n",
              "          google.colab.kernel.accessAllowed ? 'block' : 'none';\n",
              "\n",
              "        async function convertToInteractive(key) {\n",
              "          const element = document.querySelector('#df-50f17f46-b8e4-4f8a-9d61-3e26bc4f8c2b');\n",
              "          const dataTable =\n",
              "            await google.colab.kernel.invokeFunction('convertToInteractive',\n",
              "                                                     [key], {});\n",
              "          if (!dataTable) return;\n",
              "\n",
              "          const docLinkHtml = 'Like what you see? Visit the ' +\n",
              "            '<a target=\"_blank\" href=https://colab.research.google.com/notebooks/data_table.ipynb>data table notebook</a>'\n",
              "            + ' to learn more about interactive tables.';\n",
              "          element.innerHTML = '';\n",
              "          dataTable['output_type'] = 'display_data';\n",
              "          await google.colab.output.renderOutput(dataTable, element);\n",
              "          const docLink = document.createElement('div');\n",
              "          docLink.innerHTML = docLinkHtml;\n",
              "          element.appendChild(docLink);\n",
              "        }\n",
              "      </script>\n",
              "    </div>\n",
              "  </div>\n",
              "  "
            ],
            "text/plain": [
              "    sex age  Medu  Fedu G3 Qualidade da predição\n",
              "164   2   1     1     1  1                     1\n",
              "188   1   1     3     3  2                     2\n",
              "303   1   1     3     2  4                     1\n",
              "339   1   1     3     2  2                     1\n",
              "236   2   1     2     2  3                     2\n",
              "268   2   2     4     2  2                     1\n",
              "56    1   1     4     3  4                     4\n",
              "197   2   1     3     3  2                     2\n",
              "42    2   1     4     4  4                     4\n",
              "281   2   1     3     2  2                     2\n",
              "331   1   1     2     4  3                     3\n",
              "244   1   2     2     1  1                     1\n",
              "35    1   1     2     3  1                     1\n",
              "235   2   1     3     2  2                     2\n",
              "380   2   2     4     4  3                     1"
            ]
          },
          "metadata": {},
          "execution_count": 58
        }
      ]
    },
    {
      "cell_type": "code",
      "source": [
        "#fazer a predição de um exemplo\n",
        "#o parâmetro tem que ser no formato de uma matriz/dataframe\n",
        "print(clf.predict([[1,1,3,3]]))"
      ],
      "metadata": {
        "colab": {
          "base_uri": "https://localhost:8080/"
        },
        "id": "1CA3Fk9BKa0x",
        "outputId": "5f40bc2b-42d1-412c-ba6d-b1ac9fbcc658"
      },
      "execution_count": null,
      "outputs": [
        {
          "output_type": "stream",
          "name": "stdout",
          "text": [
            "['2']\n"
          ]
        },
        {
          "output_type": "stream",
          "name": "stderr",
          "text": [
            "/usr/local/lib/python3.7/dist-packages/sklearn/base.py:451: UserWarning: X does not have valid feature names, but DecisionTreeClassifier was fitted with feature names\n",
            "  \"X does not have valid feature names, but\"\n"
          ]
        }
      ]
    },
    {
      "cell_type": "code",
      "source": [
        "#plotar a árvore de decisão\n",
        "import pydot\n",
        "import graphviz\n",
        "\n",
        "dot_data = export_graphviz( \n",
        "         clf, \n",
        "         out_file=None,\n",
        "         feature_names = df.drop(columns=['G3','Qualidade da predição']).columns,\n",
        "         class_names=['1','2','3','4'],  #colocar as classes do teu modelo\n",
        "         filled=True, rounded=True,\n",
        "         proportion=True,\n",
        "         node_ids=True,\n",
        "         rotate=False,\n",
        "         label='all',\n",
        "         special_characters=True\n",
        "        )  \n",
        "graph = graphviz.Source(dot_data)  \n",
        "graph"
      ],
      "metadata": {
        "colab": {
          "base_uri": "https://localhost:8080/",
          "height": 1000
        },
        "id": "jndPhNEL50mx",
        "outputId": "d4dedd76-6111-4dfe-c5e9-358268fa71c5"
      },
      "execution_count": null,
      "outputs": [
        {
          "output_type": "execute_result",
          "data": {
            "text/plain": [
              "<graphviz.files.Source at 0x7f042429cc10>"
            ],
            "image/svg+xml": "<?xml version=\"1.0\" encoding=\"UTF-8\" standalone=\"no\"?>\n<!DOCTYPE svg PUBLIC \"-//W3C//DTD SVG 1.1//EN\"\n \"http://www.w3.org/Graphics/SVG/1.1/DTD/svg11.dtd\">\n<!-- Generated by graphviz version 2.40.1 (20161225.0304)\n -->\n<!-- Title: Tree Pages: 1 -->\n<svg width=\"7228pt\" height=\"1297pt\"\n viewBox=\"0.00 0.00 7228.00 1297.00\" xmlns=\"http://www.w3.org/2000/svg\" xmlns:xlink=\"http://www.w3.org/1999/xlink\">\n<g id=\"graph0\" class=\"graph\" transform=\"scale(1 1) rotate(0) translate(4 1293)\">\n<title>Tree</title>\n<polygon fill=\"#ffffff\" stroke=\"transparent\" points=\"-4,4 -4,-1293 7224,-1293 7224,4 -4,4\"/>\n<!-- 0 -->\n<g id=\"node1\" class=\"node\">\n<title>0</title>\n<path fill=\"#edfcec\" stroke=\"#000000\" d=\"M4160.5,-1289C4160.5,-1289 3939.5,-1289 3939.5,-1289 3933.5,-1289 3927.5,-1283 3927.5,-1277 3927.5,-1277 3927.5,-1203 3927.5,-1203 3927.5,-1197 3933.5,-1191 3939.5,-1191 3939.5,-1191 4160.5,-1191 4160.5,-1191 4166.5,-1191 4172.5,-1197 4172.5,-1203 4172.5,-1203 4172.5,-1277 4172.5,-1277 4172.5,-1283 4166.5,-1289 4160.5,-1289\"/>\n<text text-anchor=\"start\" x=\"4023\" y=\"-1273.8\" font-family=\"Helvetica,sans-Serif\" font-size=\"14.00\" fill=\"#000000\">node #0</text>\n<text text-anchor=\"start\" x=\"4013.5\" y=\"-1258.8\" font-family=\"Helvetica,sans-Serif\" font-size=\"14.00\" fill=\"#000000\">Medu ≤ 2.5</text>\n<text text-anchor=\"start\" x=\"4012\" y=\"-1243.8\" font-family=\"Helvetica,sans-Serif\" font-size=\"14.00\" fill=\"#000000\">gini = 0.738</text>\n<text text-anchor=\"start\" x=\"3989.5\" y=\"-1228.8\" font-family=\"Helvetica,sans-Serif\" font-size=\"14.00\" fill=\"#000000\">samples = 100.0%</text>\n<text text-anchor=\"start\" x=\"3935.5\" y=\"-1213.8\" font-family=\"Helvetica,sans-Serif\" font-size=\"14.00\" fill=\"#000000\">value = [0.259, 0.332, 0.225, 0.184]</text>\n<text text-anchor=\"start\" x=\"4021\" y=\"-1198.8\" font-family=\"Helvetica,sans-Serif\" font-size=\"14.00\" fill=\"#000000\">class = 2</text>\n</g>\n<!-- 1 -->\n<g id=\"node2\" class=\"node\">\n<title>1</title>\n<path fill=\"#f1fdef\" stroke=\"#000000\" d=\"M3407.5,-1155C3407.5,-1155 3186.5,-1155 3186.5,-1155 3180.5,-1155 3174.5,-1149 3174.5,-1143 3174.5,-1143 3174.5,-1069 3174.5,-1069 3174.5,-1063 3180.5,-1057 3186.5,-1057 3186.5,-1057 3407.5,-1057 3407.5,-1057 3413.5,-1057 3419.5,-1063 3419.5,-1069 3419.5,-1069 3419.5,-1143 3419.5,-1143 3419.5,-1149 3413.5,-1155 3407.5,-1155\"/>\n<text text-anchor=\"start\" x=\"3270\" y=\"-1139.8\" font-family=\"Helvetica,sans-Serif\" font-size=\"14.00\" fill=\"#000000\">node #1</text>\n<text text-anchor=\"start\" x=\"3262\" y=\"-1124.8\" font-family=\"Helvetica,sans-Serif\" font-size=\"14.00\" fill=\"#000000\">Fedu ≤ 3.5</text>\n<text text-anchor=\"start\" x=\"3259\" y=\"-1109.8\" font-family=\"Helvetica,sans-Serif\" font-size=\"14.00\" fill=\"#000000\">gini = 0.705</text>\n<text text-anchor=\"start\" x=\"3241\" y=\"-1094.8\" font-family=\"Helvetica,sans-Serif\" font-size=\"14.00\" fill=\"#000000\">samples = 40.5%</text>\n<text text-anchor=\"start\" x=\"3182.5\" y=\"-1079.8\" font-family=\"Helvetica,sans-Serif\" font-size=\"14.00\" fill=\"#000000\">value = [0.305, 0.359, 0.258, 0.078]</text>\n<text text-anchor=\"start\" x=\"3268\" y=\"-1064.8\" font-family=\"Helvetica,sans-Serif\" font-size=\"14.00\" fill=\"#000000\">class = 2</text>\n</g>\n<!-- 0&#45;&gt;1 -->\n<g id=\"edge1\" class=\"edge\">\n<title>0&#45;&gt;1</title>\n<path fill=\"none\" stroke=\"#000000\" d=\"M3927.3417,-1218.1724C3790.5985,-1193.8382 3570.2346,-1154.6234 3429.5921,-1129.5954\"/>\n<polygon fill=\"#000000\" stroke=\"#000000\" points=\"3430.0644,-1126.1245 3419.6058,-1127.8183 3428.8379,-1133.0163 3430.0644,-1126.1245\"/>\n<text text-anchor=\"middle\" x=\"3433.9129\" y=\"-1144.6197\" font-family=\"Helvetica,sans-Serif\" font-size=\"14.00\" fill=\"#000000\">True</text>\n</g>\n<!-- 52 -->\n<g id=\"node53\" class=\"node\">\n<title>52</title>\n<path fill=\"#f1fdef\" stroke=\"#000000\" d=\"M4676.5,-1155C4676.5,-1155 4455.5,-1155 4455.5,-1155 4449.5,-1155 4443.5,-1149 4443.5,-1143 4443.5,-1143 4443.5,-1069 4443.5,-1069 4443.5,-1063 4449.5,-1057 4455.5,-1057 4455.5,-1057 4676.5,-1057 4676.5,-1057 4682.5,-1057 4688.5,-1063 4688.5,-1069 4688.5,-1069 4688.5,-1143 4688.5,-1143 4688.5,-1149 4682.5,-1155 4676.5,-1155\"/>\n<text text-anchor=\"start\" x=\"4535\" y=\"-1139.8\" font-family=\"Helvetica,sans-Serif\" font-size=\"14.00\" fill=\"#000000\">node #52</text>\n<text text-anchor=\"start\" x=\"4535.5\" y=\"-1124.8\" font-family=\"Helvetica,sans-Serif\" font-size=\"14.00\" fill=\"#000000\">age ≤ 1.5</text>\n<text text-anchor=\"start\" x=\"4528\" y=\"-1109.8\" font-family=\"Helvetica,sans-Serif\" font-size=\"14.00\" fill=\"#000000\">gini = 0.743</text>\n<text text-anchor=\"start\" x=\"4510\" y=\"-1094.8\" font-family=\"Helvetica,sans-Serif\" font-size=\"14.00\" fill=\"#000000\">samples = 59.5%</text>\n<text text-anchor=\"start\" x=\"4451.5\" y=\"-1079.8\" font-family=\"Helvetica,sans-Serif\" font-size=\"14.00\" fill=\"#000000\">value = [0.229, 0.314, 0.202, 0.255]</text>\n<text text-anchor=\"start\" x=\"4537\" y=\"-1064.8\" font-family=\"Helvetica,sans-Serif\" font-size=\"14.00\" fill=\"#000000\">class = 2</text>\n</g>\n<!-- 0&#45;&gt;52 -->\n<g id=\"edge52\" class=\"edge\">\n<title>0&#45;&gt;52</title>\n<path fill=\"none\" stroke=\"#000000\" d=\"M4172.6119,-1208.1589C4251.2327,-1187.7419 4353.2576,-1161.2471 4433.7039,-1140.356\"/>\n<polygon fill=\"#000000\" stroke=\"#000000\" points=\"4434.6052,-1143.7381 4443.4044,-1137.8368 4432.8457,-1136.9628 4434.6052,-1143.7381\"/>\n<text text-anchor=\"middle\" x=\"4430.7376\" y=\"-1155.6903\" font-family=\"Helvetica,sans-Serif\" font-size=\"14.00\" fill=\"#000000\">False</text>\n</g>\n<!-- 2 -->\n<g id=\"node3\" class=\"node\">\n<title>2</title>\n<path fill=\"#f2fdf1\" stroke=\"#000000\" d=\"M2776,-1021C2776,-1021 2564,-1021 2564,-1021 2558,-1021 2552,-1015 2552,-1009 2552,-1009 2552,-935 2552,-935 2552,-929 2558,-923 2564,-923 2564,-923 2776,-923 2776,-923 2782,-923 2788,-929 2788,-935 2788,-935 2788,-1009 2788,-1009 2788,-1015 2782,-1021 2776,-1021\"/>\n<text text-anchor=\"start\" x=\"2643\" y=\"-1005.8\" font-family=\"Helvetica,sans-Serif\" font-size=\"14.00\" fill=\"#000000\">node #2</text>\n<text text-anchor=\"start\" x=\"2635\" y=\"-990.8\" font-family=\"Helvetica,sans-Serif\" font-size=\"14.00\" fill=\"#000000\">Fedu ≤ 0.5</text>\n<text text-anchor=\"start\" x=\"2640.5\" y=\"-975.8\" font-family=\"Helvetica,sans-Serif\" font-size=\"14.00\" fill=\"#000000\">gini = 0.7</text>\n<text text-anchor=\"start\" x=\"2614\" y=\"-960.8\" font-family=\"Helvetica,sans-Serif\" font-size=\"14.00\" fill=\"#000000\">samples = 38.6%</text>\n<text text-anchor=\"start\" x=\"2560\" y=\"-945.8\" font-family=\"Helvetica,sans-Serif\" font-size=\"14.00\" fill=\"#000000\">value = [0.32, 0.369, 0.238, 0.074]</text>\n<text text-anchor=\"start\" x=\"2641\" y=\"-930.8\" font-family=\"Helvetica,sans-Serif\" font-size=\"14.00\" fill=\"#000000\">class = 2</text>\n</g>\n<!-- 1&#45;&gt;2 -->\n<g id=\"edge2\" class=\"edge\">\n<title>1&#45;&gt;2</title>\n<path fill=\"none\" stroke=\"#000000\" d=\"M3174.2466,-1079.7656C3065.7545,-1056.5791 2908.0947,-1022.8847 2798.0416,-999.3646\"/>\n<polygon fill=\"#000000\" stroke=\"#000000\" points=\"2798.7205,-995.9307 2788.2098,-997.2633 2797.2574,-1002.7761 2798.7205,-995.9307\"/>\n</g>\n<!-- 49 -->\n<g id=\"node50\" class=\"node\">\n<title>49</title>\n<path fill=\"#88c4ef\" stroke=\"#000000\" d=\"M3399,-1021C3399,-1021 3195,-1021 3195,-1021 3189,-1021 3183,-1015 3183,-1009 3183,-1009 3183,-935 3183,-935 3183,-929 3189,-923 3195,-923 3195,-923 3399,-923 3399,-923 3405,-923 3411,-929 3411,-935 3411,-935 3411,-1009 3411,-1009 3411,-1015 3405,-1021 3399,-1021\"/>\n<text text-anchor=\"start\" x=\"3266\" y=\"-1005.8\" font-family=\"Helvetica,sans-Serif\" font-size=\"14.00\" fill=\"#000000\">node #49</text>\n<text text-anchor=\"start\" x=\"3266.5\" y=\"-990.8\" font-family=\"Helvetica,sans-Serif\" font-size=\"14.00\" fill=\"#000000\">age ≤ 1.5</text>\n<text text-anchor=\"start\" x=\"3267.5\" y=\"-975.8\" font-family=\"Helvetica,sans-Serif\" font-size=\"14.00\" fill=\"#000000\">gini = 0.5</text>\n<text text-anchor=\"start\" x=\"3245\" y=\"-960.8\" font-family=\"Helvetica,sans-Serif\" font-size=\"14.00\" fill=\"#000000\">samples = 1.9%</text>\n<text text-anchor=\"start\" x=\"3191\" y=\"-945.8\" font-family=\"Helvetica,sans-Serif\" font-size=\"14.00\" fill=\"#000000\">value = [0.0, 0.167, 0.667, 0.167]</text>\n<text text-anchor=\"start\" x=\"3268\" y=\"-930.8\" font-family=\"Helvetica,sans-Serif\" font-size=\"14.00\" fill=\"#000000\">class = 3</text>\n</g>\n<!-- 1&#45;&gt;49 -->\n<g id=\"edge49\" class=\"edge\">\n<title>1&#45;&gt;49</title>\n<path fill=\"none\" stroke=\"#000000\" d=\"M3297,-1056.8642C3297,-1048.5802 3297,-1039.903 3297,-1031.3918\"/>\n<polygon fill=\"#000000\" stroke=\"#000000\" points=\"3300.5001,-1031.1298 3297,-1021.1298 3293.5001,-1031.1299 3300.5001,-1031.1298\"/>\n</g>\n<!-- 3 -->\n<g id=\"node4\" class=\"node\">\n<title>3</title>\n<path fill=\"#d739e5\" stroke=\"#000000\" d=\"M2521.5,-879.5C2521.5,-879.5 2366.5,-879.5 2366.5,-879.5 2360.5,-879.5 2354.5,-873.5 2354.5,-867.5 2354.5,-867.5 2354.5,-808.5 2354.5,-808.5 2354.5,-802.5 2360.5,-796.5 2366.5,-796.5 2366.5,-796.5 2521.5,-796.5 2521.5,-796.5 2527.5,-796.5 2533.5,-802.5 2533.5,-808.5 2533.5,-808.5 2533.5,-867.5 2533.5,-867.5 2533.5,-873.5 2527.5,-879.5 2521.5,-879.5\"/>\n<text text-anchor=\"start\" x=\"2417\" y=\"-864.3\" font-family=\"Helvetica,sans-Serif\" font-size=\"14.00\" fill=\"#000000\">node #3</text>\n<text text-anchor=\"start\" x=\"2414.5\" y=\"-849.3\" font-family=\"Helvetica,sans-Serif\" font-size=\"14.00\" fill=\"#000000\">gini = 0.0</text>\n<text text-anchor=\"start\" x=\"2392\" y=\"-834.3\" font-family=\"Helvetica,sans-Serif\" font-size=\"14.00\" fill=\"#000000\">samples = 0.3%</text>\n<text text-anchor=\"start\" x=\"2362.5\" y=\"-819.3\" font-family=\"Helvetica,sans-Serif\" font-size=\"14.00\" fill=\"#000000\">value = [0.0, 0.0, 0.0, 1.0]</text>\n<text text-anchor=\"start\" x=\"2415\" y=\"-804.3\" font-family=\"Helvetica,sans-Serif\" font-size=\"14.00\" fill=\"#000000\">class = 4</text>\n</g>\n<!-- 2&#45;&gt;3 -->\n<g id=\"edge3\" class=\"edge\">\n<title>2&#45;&gt;3</title>\n<path fill=\"none\" stroke=\"#000000\" d=\"M2587.1292,-922.8642C2566.1855,-910.4463 2543.7522,-897.1451 2523.0048,-884.8435\"/>\n<polygon fill=\"#000000\" stroke=\"#000000\" points=\"2524.6123,-881.7277 2514.2255,-879.6381 2521.0422,-887.7489 2524.6123,-881.7277\"/>\n</g>\n<!-- 4 -->\n<g id=\"node5\" class=\"node\">\n<title>4</title>\n<path fill=\"#f2fdf1\" stroke=\"#000000\" d=\"M2776,-887C2776,-887 2564,-887 2564,-887 2558,-887 2552,-881 2552,-875 2552,-875 2552,-801 2552,-801 2552,-795 2558,-789 2564,-789 2564,-789 2776,-789 2776,-789 2782,-789 2788,-795 2788,-801 2788,-801 2788,-875 2788,-875 2788,-881 2782,-887 2776,-887\"/>\n<text text-anchor=\"start\" x=\"2643\" y=\"-871.8\" font-family=\"Helvetica,sans-Serif\" font-size=\"14.00\" fill=\"#000000\">node #4</text>\n<text text-anchor=\"start\" x=\"2639.5\" y=\"-856.8\" font-family=\"Helvetica,sans-Serif\" font-size=\"14.00\" fill=\"#000000\">age ≤ 1.5</text>\n<text text-anchor=\"start\" x=\"2632\" y=\"-841.8\" font-family=\"Helvetica,sans-Serif\" font-size=\"14.00\" fill=\"#000000\">gini = 0.696</text>\n<text text-anchor=\"start\" x=\"2614\" y=\"-826.8\" font-family=\"Helvetica,sans-Serif\" font-size=\"14.00\" fill=\"#000000\">samples = 38.3%</text>\n<text text-anchor=\"start\" x=\"2560\" y=\"-811.8\" font-family=\"Helvetica,sans-Serif\" font-size=\"14.00\" fill=\"#000000\">value = [0.322, 0.372, 0.24, 0.066]</text>\n<text text-anchor=\"start\" x=\"2641\" y=\"-796.8\" font-family=\"Helvetica,sans-Serif\" font-size=\"14.00\" fill=\"#000000\">class = 2</text>\n</g>\n<!-- 2&#45;&gt;4 -->\n<g id=\"edge4\" class=\"edge\">\n<title>2&#45;&gt;4</title>\n<path fill=\"none\" stroke=\"#000000\" d=\"M2670,-922.8642C2670,-914.5802 2670,-905.903 2670,-897.3918\"/>\n<polygon fill=\"#000000\" stroke=\"#000000\" points=\"2673.5001,-897.1298 2670,-887.1298 2666.5001,-897.1299 2673.5001,-897.1298\"/>\n</g>\n<!-- 5 -->\n<g id=\"node6\" class=\"node\">\n<title>5</title>\n<path fill=\"#dcfad9\" stroke=\"#000000\" d=\"M1465.5,-753C1465.5,-753 1244.5,-753 1244.5,-753 1238.5,-753 1232.5,-747 1232.5,-741 1232.5,-741 1232.5,-667 1232.5,-667 1232.5,-661 1238.5,-655 1244.5,-655 1244.5,-655 1465.5,-655 1465.5,-655 1471.5,-655 1477.5,-661 1477.5,-667 1477.5,-667 1477.5,-741 1477.5,-741 1477.5,-747 1471.5,-753 1465.5,-753\"/>\n<text text-anchor=\"start\" x=\"1328\" y=\"-737.8\" font-family=\"Helvetica,sans-Serif\" font-size=\"14.00\" fill=\"#000000\">node #5</text>\n<text text-anchor=\"start\" x=\"1318.5\" y=\"-722.8\" font-family=\"Helvetica,sans-Serif\" font-size=\"14.00\" fill=\"#000000\">Medu ≤ 0.5</text>\n<text text-anchor=\"start\" x=\"1317\" y=\"-707.8\" font-family=\"Helvetica,sans-Serif\" font-size=\"14.00\" fill=\"#000000\">gini = 0.692</text>\n<text text-anchor=\"start\" x=\"1299\" y=\"-692.8\" font-family=\"Helvetica,sans-Serif\" font-size=\"14.00\" fill=\"#000000\">samples = 25.3%</text>\n<text text-anchor=\"start\" x=\"1240.5\" y=\"-677.8\" font-family=\"Helvetica,sans-Serif\" font-size=\"14.00\" fill=\"#000000\">value = [0.275, 0.412, 0.238, 0.075]</text>\n<text text-anchor=\"start\" x=\"1326\" y=\"-662.8\" font-family=\"Helvetica,sans-Serif\" font-size=\"14.00\" fill=\"#000000\">class = 2</text>\n</g>\n<!-- 4&#45;&gt;5 -->\n<g id=\"edge5\" class=\"edge\">\n<title>4&#45;&gt;5</title>\n<path fill=\"none\" stroke=\"#000000\" d=\"M2551.8248,-791.3599C2548.5312,-790.5121 2545.252,-789.7223 2542,-789 2344.4886,-745.1343 1754.4156,-718.6363 1488.0592,-708.6068\"/>\n<polygon fill=\"#000000\" stroke=\"#000000\" points=\"1488.0705,-705.1048 1477.9464,-708.228 1487.8084,-712.0999 1488.0705,-705.1048\"/>\n</g>\n<!-- 28 -->\n<g id=\"node29\" class=\"node\">\n<title>28</title>\n<path fill=\"#fbe9dd\" stroke=\"#000000\" d=\"M2780.5,-753C2780.5,-753 2559.5,-753 2559.5,-753 2553.5,-753 2547.5,-747 2547.5,-741 2547.5,-741 2547.5,-667 2547.5,-667 2547.5,-661 2553.5,-655 2559.5,-655 2559.5,-655 2780.5,-655 2780.5,-655 2786.5,-655 2792.5,-661 2792.5,-667 2792.5,-667 2792.5,-741 2792.5,-741 2792.5,-747 2786.5,-753 2780.5,-753\"/>\n<text text-anchor=\"start\" x=\"2639\" y=\"-737.8\" font-family=\"Helvetica,sans-Serif\" font-size=\"14.00\" fill=\"#000000\">node #28</text>\n<text text-anchor=\"start\" x=\"2640.5\" y=\"-722.8\" font-family=\"Helvetica,sans-Serif\" font-size=\"14.00\" fill=\"#000000\">sex ≤ 1.5</text>\n<text text-anchor=\"start\" x=\"2632\" y=\"-707.8\" font-family=\"Helvetica,sans-Serif\" font-size=\"14.00\" fill=\"#000000\">gini = 0.681</text>\n<text text-anchor=\"start\" x=\"2614\" y=\"-692.8\" font-family=\"Helvetica,sans-Serif\" font-size=\"14.00\" fill=\"#000000\">samples = 13.0%</text>\n<text text-anchor=\"start\" x=\"2555.5\" y=\"-677.8\" font-family=\"Helvetica,sans-Serif\" font-size=\"14.00\" fill=\"#000000\">value = [0.415, 0.293, 0.244, 0.049]</text>\n<text text-anchor=\"start\" x=\"2641\" y=\"-662.8\" font-family=\"Helvetica,sans-Serif\" font-size=\"14.00\" fill=\"#000000\">class = 1</text>\n</g>\n<!-- 4&#45;&gt;28 -->\n<g id=\"edge28\" class=\"edge\">\n<title>4&#45;&gt;28</title>\n<path fill=\"none\" stroke=\"#000000\" d=\"M2670,-788.8642C2670,-780.5802 2670,-771.903 2670,-763.3918\"/>\n<polygon fill=\"#000000\" stroke=\"#000000\" points=\"2673.5001,-763.1298 2670,-753.1298 2666.5001,-763.1299 2673.5001,-763.1298\"/>\n</g>\n<!-- 6 -->\n<g id=\"node7\" class=\"node\">\n<title>6</title>\n<path fill=\"#d739e5\" stroke=\"#000000\" d=\"M1202.5,-611.5C1202.5,-611.5 1047.5,-611.5 1047.5,-611.5 1041.5,-611.5 1035.5,-605.5 1035.5,-599.5 1035.5,-599.5 1035.5,-540.5 1035.5,-540.5 1035.5,-534.5 1041.5,-528.5 1047.5,-528.5 1047.5,-528.5 1202.5,-528.5 1202.5,-528.5 1208.5,-528.5 1214.5,-534.5 1214.5,-540.5 1214.5,-540.5 1214.5,-599.5 1214.5,-599.5 1214.5,-605.5 1208.5,-611.5 1202.5,-611.5\"/>\n<text text-anchor=\"start\" x=\"1098\" y=\"-596.3\" font-family=\"Helvetica,sans-Serif\" font-size=\"14.00\" fill=\"#000000\">node #6</text>\n<text text-anchor=\"start\" x=\"1095.5\" y=\"-581.3\" font-family=\"Helvetica,sans-Serif\" font-size=\"14.00\" fill=\"#000000\">gini = 0.0</text>\n<text text-anchor=\"start\" x=\"1073\" y=\"-566.3\" font-family=\"Helvetica,sans-Serif\" font-size=\"14.00\" fill=\"#000000\">samples = 0.3%</text>\n<text text-anchor=\"start\" x=\"1043.5\" y=\"-551.3\" font-family=\"Helvetica,sans-Serif\" font-size=\"14.00\" fill=\"#000000\">value = [0.0, 0.0, 0.0, 1.0]</text>\n<text text-anchor=\"start\" x=\"1096\" y=\"-536.3\" font-family=\"Helvetica,sans-Serif\" font-size=\"14.00\" fill=\"#000000\">class = 4</text>\n</g>\n<!-- 5&#45;&gt;6 -->\n<g id=\"edge6\" class=\"edge\">\n<title>5&#45;&gt;6</title>\n<path fill=\"none\" stroke=\"#000000\" d=\"M1270.6625,-654.8642C1249.253,-642.3909 1226.3138,-629.0263 1205.1204,-616.6788\"/>\n<polygon fill=\"#000000\" stroke=\"#000000\" points=\"1206.8709,-613.648 1196.4684,-611.6381 1203.347,-619.6964 1206.8709,-613.648\"/>\n</g>\n<!-- 7 -->\n<g id=\"node8\" class=\"node\">\n<title>7</title>\n<path fill=\"#dbfad9\" stroke=\"#000000\" d=\"M1465.5,-619C1465.5,-619 1244.5,-619 1244.5,-619 1238.5,-619 1232.5,-613 1232.5,-607 1232.5,-607 1232.5,-533 1232.5,-533 1232.5,-527 1238.5,-521 1244.5,-521 1244.5,-521 1465.5,-521 1465.5,-521 1471.5,-521 1477.5,-527 1477.5,-533 1477.5,-533 1477.5,-607 1477.5,-607 1477.5,-613 1471.5,-619 1465.5,-619\"/>\n<text text-anchor=\"start\" x=\"1328\" y=\"-603.8\" font-family=\"Helvetica,sans-Serif\" font-size=\"14.00\" fill=\"#000000\">node #7</text>\n<text text-anchor=\"start\" x=\"1318.5\" y=\"-588.8\" font-family=\"Helvetica,sans-Serif\" font-size=\"14.00\" fill=\"#000000\">Medu ≤ 1.5</text>\n<text text-anchor=\"start\" x=\"1317\" y=\"-573.8\" font-family=\"Helvetica,sans-Serif\" font-size=\"14.00\" fill=\"#000000\">gini = 0.686</text>\n<text text-anchor=\"start\" x=\"1299\" y=\"-558.8\" font-family=\"Helvetica,sans-Serif\" font-size=\"14.00\" fill=\"#000000\">samples = 25.0%</text>\n<text text-anchor=\"start\" x=\"1240.5\" y=\"-543.8\" font-family=\"Helvetica,sans-Serif\" font-size=\"14.00\" fill=\"#000000\">value = [0.278, 0.418, 0.241, 0.063]</text>\n<text text-anchor=\"start\" x=\"1326\" y=\"-528.8\" font-family=\"Helvetica,sans-Serif\" font-size=\"14.00\" fill=\"#000000\">class = 2</text>\n</g>\n<!-- 5&#45;&gt;7 -->\n<g id=\"edge7\" class=\"edge\">\n<title>5&#45;&gt;7</title>\n<path fill=\"none\" stroke=\"#000000\" d=\"M1355,-654.8642C1355,-646.5802 1355,-637.903 1355,-629.3918\"/>\n<polygon fill=\"#000000\" stroke=\"#000000\" points=\"1358.5001,-629.1298 1355,-619.1298 1351.5001,-629.1299 1358.5001,-629.1298\"/>\n</g>\n<!-- 8 -->\n<g id=\"node9\" class=\"node\">\n<title>8</title>\n<path fill=\"#d4f9d0\" stroke=\"#000000\" d=\"M773,-485C773,-485 585,-485 585,-485 579,-485 573,-479 573,-473 573,-473 573,-399 573,-399 573,-393 579,-387 585,-387 585,-387 773,-387 773,-387 779,-387 785,-393 785,-399 785,-399 785,-473 785,-473 785,-479 779,-485 773,-485\"/>\n<text text-anchor=\"start\" x=\"652\" y=\"-469.8\" font-family=\"Helvetica,sans-Serif\" font-size=\"14.00\" fill=\"#000000\">node #8</text>\n<text text-anchor=\"start\" x=\"644\" y=\"-454.8\" font-family=\"Helvetica,sans-Serif\" font-size=\"14.00\" fill=\"#000000\">Fedu ≤ 1.5</text>\n<text text-anchor=\"start\" x=\"641\" y=\"-439.8\" font-family=\"Helvetica,sans-Serif\" font-size=\"14.00\" fill=\"#000000\">gini = 0.607</text>\n<text text-anchor=\"start\" x=\"627\" y=\"-424.8\" font-family=\"Helvetica,sans-Serif\" font-size=\"14.00\" fill=\"#000000\">samples = 8.2%</text>\n<text text-anchor=\"start\" x=\"581\" y=\"-409.8\" font-family=\"Helvetica,sans-Serif\" font-size=\"14.00\" fill=\"#000000\">value = [0.346, 0.5, 0.154, 0.0]</text>\n<text text-anchor=\"start\" x=\"650\" y=\"-394.8\" font-family=\"Helvetica,sans-Serif\" font-size=\"14.00\" fill=\"#000000\">class = 2</text>\n</g>\n<!-- 7&#45;&gt;8 -->\n<g id=\"edge8\" class=\"edge\">\n<title>7&#45;&gt;8</title>\n<path fill=\"none\" stroke=\"#000000\" d=\"M1232.2981,-523.5348C1229.1778,-522.6494 1226.0749,-521.8023 1223,-521 1077.9202,-483.1471 906.3998,-459.7698 795.3042,-447.3399\"/>\n<polygon fill=\"#000000\" stroke=\"#000000\" points=\"795.4032,-443.8295 785.0788,-446.2076 794.6328,-450.787 795.4032,-443.8295\"/>\n</g>\n<!-- 17 -->\n<g id=\"node18\" class=\"node\">\n<title>17</title>\n<path fill=\"#e7fce5\" stroke=\"#000000\" d=\"M1465.5,-485C1465.5,-485 1244.5,-485 1244.5,-485 1238.5,-485 1232.5,-479 1232.5,-473 1232.5,-473 1232.5,-399 1232.5,-399 1232.5,-393 1238.5,-387 1244.5,-387 1244.5,-387 1465.5,-387 1465.5,-387 1471.5,-387 1477.5,-393 1477.5,-399 1477.5,-399 1477.5,-473 1477.5,-473 1477.5,-479 1471.5,-485 1465.5,-485\"/>\n<text text-anchor=\"start\" x=\"1324\" y=\"-469.8\" font-family=\"Helvetica,sans-Serif\" font-size=\"14.00\" fill=\"#000000\">node #17</text>\n<text text-anchor=\"start\" x=\"1325.5\" y=\"-454.8\" font-family=\"Helvetica,sans-Serif\" font-size=\"14.00\" fill=\"#000000\">sex ≤ 1.5</text>\n<text text-anchor=\"start\" x=\"1317\" y=\"-439.8\" font-family=\"Helvetica,sans-Serif\" font-size=\"14.00\" fill=\"#000000\">gini = 0.708</text>\n<text text-anchor=\"start\" x=\"1299\" y=\"-424.8\" font-family=\"Helvetica,sans-Serif\" font-size=\"14.00\" fill=\"#000000\">samples = 16.8%</text>\n<text text-anchor=\"start\" x=\"1240.5\" y=\"-409.8\" font-family=\"Helvetica,sans-Serif\" font-size=\"14.00\" fill=\"#000000\">value = [0.245, 0.377, 0.283, 0.094]</text>\n<text text-anchor=\"start\" x=\"1326\" y=\"-394.8\" font-family=\"Helvetica,sans-Serif\" font-size=\"14.00\" fill=\"#000000\">class = 2</text>\n</g>\n<!-- 7&#45;&gt;17 -->\n<g id=\"edge17\" class=\"edge\">\n<title>7&#45;&gt;17</title>\n<path fill=\"none\" stroke=\"#000000\" d=\"M1355,-520.8642C1355,-512.5802 1355,-503.903 1355,-495.3918\"/>\n<polygon fill=\"#000000\" stroke=\"#000000\" points=\"1358.5001,-495.1298 1355,-485.1298 1351.5001,-495.1299 1358.5001,-495.1298\"/>\n</g>\n<!-- 9 -->\n<g id=\"node10\" class=\"node\">\n<title>9</title>\n<path fill=\"#eefded\" stroke=\"#000000\" d=\"M438,-351C438,-351 234,-351 234,-351 228,-351 222,-345 222,-339 222,-339 222,-265 222,-265 222,-259 228,-253 234,-253 234,-253 438,-253 438,-253 444,-253 450,-259 450,-265 450,-265 450,-339 450,-339 450,-345 444,-351 438,-351\"/>\n<text text-anchor=\"start\" x=\"309\" y=\"-335.8\" font-family=\"Helvetica,sans-Serif\" font-size=\"14.00\" fill=\"#000000\">node #9</text>\n<text text-anchor=\"start\" x=\"306.5\" y=\"-320.8\" font-family=\"Helvetica,sans-Serif\" font-size=\"14.00\" fill=\"#000000\">sex ≤ 1.5</text>\n<text text-anchor=\"start\" x=\"298\" y=\"-305.8\" font-family=\"Helvetica,sans-Serif\" font-size=\"14.00\" fill=\"#000000\">gini = 0.623</text>\n<text text-anchor=\"start\" x=\"284\" y=\"-290.8\" font-family=\"Helvetica,sans-Serif\" font-size=\"14.00\" fill=\"#000000\">samples = 5.7%</text>\n<text text-anchor=\"start\" x=\"230\" y=\"-275.8\" font-family=\"Helvetica,sans-Serif\" font-size=\"14.00\" fill=\"#000000\">value = [0.389, 0.444, 0.167, 0.0]</text>\n<text text-anchor=\"start\" x=\"307\" y=\"-260.8\" font-family=\"Helvetica,sans-Serif\" font-size=\"14.00\" fill=\"#000000\">class = 2</text>\n</g>\n<!-- 8&#45;&gt;9 -->\n<g id=\"edge9\" class=\"edge\">\n<title>8&#45;&gt;9</title>\n<path fill=\"none\" stroke=\"#000000\" d=\"M572.8216,-394.5192C536.9088,-380.4891 496.503,-364.7038 459.3721,-350.1979\"/>\n<polygon fill=\"#000000\" stroke=\"#000000\" points=\"460.5955,-346.9182 450.0074,-346.5393 458.0482,-353.4383 460.5955,-346.9182\"/>\n</g>\n<!-- 12 -->\n<g id=\"node13\" class=\"node\">\n<title>12</title>\n<path fill=\"#a3f29c\" stroke=\"#000000\" d=\"M777,-351C777,-351 581,-351 581,-351 575,-351 569,-345 569,-339 569,-339 569,-265 569,-265 569,-259 575,-253 581,-253 581,-253 777,-253 777,-253 783,-253 789,-259 789,-265 789,-265 789,-339 789,-339 789,-345 783,-351 777,-351\"/>\n<text text-anchor=\"start\" x=\"648\" y=\"-335.8\" font-family=\"Helvetica,sans-Serif\" font-size=\"14.00\" fill=\"#000000\">node #12</text>\n<text text-anchor=\"start\" x=\"644\" y=\"-320.8\" font-family=\"Helvetica,sans-Serif\" font-size=\"14.00\" fill=\"#000000\">Fedu ≤ 2.5</text>\n<text text-anchor=\"start\" x=\"641\" y=\"-305.8\" font-family=\"Helvetica,sans-Serif\" font-size=\"14.00\" fill=\"#000000\">gini = 0.531</text>\n<text text-anchor=\"start\" x=\"627\" y=\"-290.8\" font-family=\"Helvetica,sans-Serif\" font-size=\"14.00\" fill=\"#000000\">samples = 2.5%</text>\n<text text-anchor=\"start\" x=\"577\" y=\"-275.8\" font-family=\"Helvetica,sans-Serif\" font-size=\"14.00\" fill=\"#000000\">value = [0.25, 0.625, 0.125, 0.0]</text>\n<text text-anchor=\"start\" x=\"650\" y=\"-260.8\" font-family=\"Helvetica,sans-Serif\" font-size=\"14.00\" fill=\"#000000\">class = 2</text>\n</g>\n<!-- 8&#45;&gt;12 -->\n<g id=\"edge12\" class=\"edge\">\n<title>8&#45;&gt;12</title>\n<path fill=\"none\" stroke=\"#000000\" d=\"M679,-386.8642C679,-378.5802 679,-369.903 679,-361.3918\"/>\n<polygon fill=\"#000000\" stroke=\"#000000\" points=\"682.5001,-361.1298 679,-351.1298 675.5001,-361.1299 682.5001,-361.1298\"/>\n</g>\n<!-- 10 -->\n<g id=\"node11\" class=\"node\">\n<title>10</title>\n<path fill=\"#c2f6bd\" stroke=\"#000000\" d=\"M216,-209.5C216,-209.5 12,-209.5 12,-209.5 6,-209.5 0,-203.5 0,-197.5 0,-197.5 0,-138.5 0,-138.5 0,-132.5 6,-126.5 12,-126.5 12,-126.5 216,-126.5 216,-126.5 222,-126.5 228,-132.5 228,-138.5 228,-138.5 228,-197.5 228,-197.5 228,-203.5 222,-209.5 216,-209.5\"/>\n<text text-anchor=\"start\" x=\"83\" y=\"-194.3\" font-family=\"Helvetica,sans-Serif\" font-size=\"14.00\" fill=\"#000000\">node #10</text>\n<text text-anchor=\"start\" x=\"76\" y=\"-179.3\" font-family=\"Helvetica,sans-Serif\" font-size=\"14.00\" fill=\"#000000\">gini = 0.592</text>\n<text text-anchor=\"start\" x=\"62\" y=\"-164.3\" font-family=\"Helvetica,sans-Serif\" font-size=\"14.00\" fill=\"#000000\">samples = 4.1%</text>\n<text text-anchor=\"start\" x=\"8\" y=\"-149.3\" font-family=\"Helvetica,sans-Serif\" font-size=\"14.00\" fill=\"#000000\">value = [0.308, 0.538, 0.154, 0.0]</text>\n<text text-anchor=\"start\" x=\"85\" y=\"-134.3\" font-family=\"Helvetica,sans-Serif\" font-size=\"14.00\" fill=\"#000000\">class = 2</text>\n</g>\n<!-- 9&#45;&gt;10 -->\n<g id=\"edge10\" class=\"edge\">\n<title>9&#45;&gt;10</title>\n<path fill=\"none\" stroke=\"#000000\" d=\"M254.596,-252.8642C234.023,-240.4463 211.9867,-227.1451 191.6065,-214.8435\"/>\n<polygon fill=\"#000000\" stroke=\"#000000\" points=\"193.3526,-211.8094 182.9826,-209.6381 189.7352,-217.8023 193.3526,-211.8094\"/>\n</g>\n<!-- 11 -->\n<g id=\"node12\" class=\"node\">\n<title>11</title>\n<path fill=\"#f2c09c\" stroke=\"#000000\" d=\"M413.5,-209.5C413.5,-209.5 258.5,-209.5 258.5,-209.5 252.5,-209.5 246.5,-203.5 246.5,-197.5 246.5,-197.5 246.5,-138.5 246.5,-138.5 246.5,-132.5 252.5,-126.5 258.5,-126.5 258.5,-126.5 413.5,-126.5 413.5,-126.5 419.5,-126.5 425.5,-132.5 425.5,-138.5 425.5,-138.5 425.5,-197.5 425.5,-197.5 425.5,-203.5 419.5,-209.5 413.5,-209.5\"/>\n<text text-anchor=\"start\" x=\"305\" y=\"-194.3\" font-family=\"Helvetica,sans-Serif\" font-size=\"14.00\" fill=\"#000000\">node #11</text>\n<text text-anchor=\"start\" x=\"302.5\" y=\"-179.3\" font-family=\"Helvetica,sans-Serif\" font-size=\"14.00\" fill=\"#000000\">gini = 0.56</text>\n<text text-anchor=\"start\" x=\"284\" y=\"-164.3\" font-family=\"Helvetica,sans-Serif\" font-size=\"14.00\" fill=\"#000000\">samples = 1.6%</text>\n<text text-anchor=\"start\" x=\"254.5\" y=\"-149.3\" font-family=\"Helvetica,sans-Serif\" font-size=\"14.00\" fill=\"#000000\">value = [0.6, 0.2, 0.2, 0.0]</text>\n<text text-anchor=\"start\" x=\"307\" y=\"-134.3\" font-family=\"Helvetica,sans-Serif\" font-size=\"14.00\" fill=\"#000000\">class = 1</text>\n</g>\n<!-- 9&#45;&gt;11 -->\n<g id=\"edge11\" class=\"edge\">\n<title>9&#45;&gt;11</title>\n<path fill=\"none\" stroke=\"#000000\" d=\"M336,-252.8642C336,-242.1094 336,-230.6921 336,-219.8354\"/>\n<polygon fill=\"#000000\" stroke=\"#000000\" points=\"339.5001,-219.6381 336,-209.6381 332.5001,-219.6382 339.5001,-219.6381\"/>\n</g>\n<!-- 13 -->\n<g id=\"node14\" class=\"node\">\n<title>13</title>\n<path fill=\"#91ef88\" stroke=\"#000000\" d=\"M660,-217C660,-217 456,-217 456,-217 450,-217 444,-211 444,-205 444,-205 444,-131 444,-131 444,-125 450,-119 456,-119 456,-119 660,-119 660,-119 666,-119 672,-125 672,-131 672,-131 672,-205 672,-205 672,-211 666,-217 660,-217\"/>\n<text text-anchor=\"start\" x=\"527\" y=\"-201.8\" font-family=\"Helvetica,sans-Serif\" font-size=\"14.00\" fill=\"#000000\">node #13</text>\n<text text-anchor=\"start\" x=\"528.5\" y=\"-186.8\" font-family=\"Helvetica,sans-Serif\" font-size=\"14.00\" fill=\"#000000\">sex ≤ 1.5</text>\n<text text-anchor=\"start\" x=\"528.5\" y=\"-171.8\" font-family=\"Helvetica,sans-Serif\" font-size=\"14.00\" fill=\"#000000\">gini = 0.5</text>\n<text text-anchor=\"start\" x=\"506\" y=\"-156.8\" font-family=\"Helvetica,sans-Serif\" font-size=\"14.00\" fill=\"#000000\">samples = 1.9%</text>\n<text text-anchor=\"start\" x=\"452\" y=\"-141.8\" font-family=\"Helvetica,sans-Serif\" font-size=\"14.00\" fill=\"#000000\">value = [0.167, 0.667, 0.167, 0.0]</text>\n<text text-anchor=\"start\" x=\"529\" y=\"-126.8\" font-family=\"Helvetica,sans-Serif\" font-size=\"14.00\" fill=\"#000000\">class = 2</text>\n</g>\n<!-- 12&#45;&gt;13 -->\n<g id=\"edge13\" class=\"edge\">\n<title>12&#45;&gt;13</title>\n<path fill=\"none\" stroke=\"#000000\" d=\"M634.6311,-252.8642C626.3287,-243.6698 617.5891,-233.9912 609.1023,-224.5926\"/>\n<polygon fill=\"#000000\" stroke=\"#000000\" points=\"611.6631,-222.2061 602.3635,-217.1298 606.4677,-226.8974 611.6631,-222.2061\"/>\n</g>\n<!-- 16 -->\n<g id=\"node17\" class=\"node\">\n<title>16</title>\n<path fill=\"#ffffff\" stroke=\"#000000\" d=\"M857.5,-209.5C857.5,-209.5 702.5,-209.5 702.5,-209.5 696.5,-209.5 690.5,-203.5 690.5,-197.5 690.5,-197.5 690.5,-138.5 690.5,-138.5 690.5,-132.5 696.5,-126.5 702.5,-126.5 702.5,-126.5 857.5,-126.5 857.5,-126.5 863.5,-126.5 869.5,-132.5 869.5,-138.5 869.5,-138.5 869.5,-197.5 869.5,-197.5 869.5,-203.5 863.5,-209.5 857.5,-209.5\"/>\n<text text-anchor=\"start\" x=\"749\" y=\"-194.3\" font-family=\"Helvetica,sans-Serif\" font-size=\"14.00\" fill=\"#000000\">node #16</text>\n<text text-anchor=\"start\" x=\"750.5\" y=\"-179.3\" font-family=\"Helvetica,sans-Serif\" font-size=\"14.00\" fill=\"#000000\">gini = 0.5</text>\n<text text-anchor=\"start\" x=\"728\" y=\"-164.3\" font-family=\"Helvetica,sans-Serif\" font-size=\"14.00\" fill=\"#000000\">samples = 0.6%</text>\n<text text-anchor=\"start\" x=\"698.5\" y=\"-149.3\" font-family=\"Helvetica,sans-Serif\" font-size=\"14.00\" fill=\"#000000\">value = [0.5, 0.5, 0.0, 0.0]</text>\n<text text-anchor=\"start\" x=\"751\" y=\"-134.3\" font-family=\"Helvetica,sans-Serif\" font-size=\"14.00\" fill=\"#000000\">class = 1</text>\n</g>\n<!-- 12&#45;&gt;16 -->\n<g id=\"edge16\" class=\"edge\">\n<title>12&#45;&gt;16</title>\n<path fill=\"none\" stroke=\"#000000\" d=\"M716.0352,-252.8642C724.6428,-241.4442 733.8135,-229.2771 742.4435,-217.8275\"/>\n<polygon fill=\"#000000\" stroke=\"#000000\" points=\"745.3919,-219.7305 748.616,-209.6381 739.8019,-215.5171 745.3919,-219.7305\"/>\n</g>\n<!-- 14 -->\n<g id=\"node15\" class=\"node\">\n<title>14</title>\n<path fill=\"#47e539\" stroke=\"#000000\" d=\"M537.5,-83C537.5,-83 382.5,-83 382.5,-83 376.5,-83 370.5,-77 370.5,-71 370.5,-71 370.5,-12 370.5,-12 370.5,-6 376.5,0 382.5,0 382.5,0 537.5,0 537.5,0 543.5,0 549.5,-6 549.5,-12 549.5,-12 549.5,-71 549.5,-71 549.5,-77 543.5,-83 537.5,-83\"/>\n<text text-anchor=\"start\" x=\"429\" y=\"-67.8\" font-family=\"Helvetica,sans-Serif\" font-size=\"14.00\" fill=\"#000000\">node #14</text>\n<text text-anchor=\"start\" x=\"430.5\" y=\"-52.8\" font-family=\"Helvetica,sans-Serif\" font-size=\"14.00\" fill=\"#000000\">gini = 0.0</text>\n<text text-anchor=\"start\" x=\"408\" y=\"-37.8\" font-family=\"Helvetica,sans-Serif\" font-size=\"14.00\" fill=\"#000000\">samples = 0.3%</text>\n<text text-anchor=\"start\" x=\"378.5\" y=\"-22.8\" font-family=\"Helvetica,sans-Serif\" font-size=\"14.00\" fill=\"#000000\">value = [0.0, 1.0, 0.0, 0.0]</text>\n<text text-anchor=\"start\" x=\"431\" y=\"-7.8\" font-family=\"Helvetica,sans-Serif\" font-size=\"14.00\" fill=\"#000000\">class = 2</text>\n</g>\n<!-- 13&#45;&gt;14 -->\n<g id=\"edge14\" class=\"edge\">\n<title>13&#45;&gt;14</title>\n<path fill=\"none\" stroke=\"#000000\" d=\"M519.83,-118.7296C512.835,-109.7002 505.5299,-100.2707 498.5245,-91.2281\"/>\n<polygon fill=\"#000000\" stroke=\"#000000\" points=\"501.0839,-88.8168 492.1928,-83.055 495.5502,-93.1038 501.0839,-88.8168\"/>\n</g>\n<!-- 15 -->\n<g id=\"node16\" class=\"node\">\n<title>15</title>\n<path fill=\"#a3f29c\" stroke=\"#000000\" d=\"M734.5,-83C734.5,-83 579.5,-83 579.5,-83 573.5,-83 567.5,-77 567.5,-71 567.5,-71 567.5,-12 567.5,-12 567.5,-6 573.5,0 579.5,0 579.5,0 734.5,0 734.5,0 740.5,0 746.5,-6 746.5,-12 746.5,-12 746.5,-71 746.5,-71 746.5,-77 740.5,-83 734.5,-83\"/>\n<text text-anchor=\"start\" x=\"626\" y=\"-67.8\" font-family=\"Helvetica,sans-Serif\" font-size=\"14.00\" fill=\"#000000\">node #15</text>\n<text text-anchor=\"start\" x=\"623.5\" y=\"-52.8\" font-family=\"Helvetica,sans-Serif\" font-size=\"14.00\" fill=\"#000000\">gini = 0.56</text>\n<text text-anchor=\"start\" x=\"605\" y=\"-37.8\" font-family=\"Helvetica,sans-Serif\" font-size=\"14.00\" fill=\"#000000\">samples = 1.6%</text>\n<text text-anchor=\"start\" x=\"575.5\" y=\"-22.8\" font-family=\"Helvetica,sans-Serif\" font-size=\"14.00\" fill=\"#000000\">value = [0.2, 0.6, 0.2, 0.0]</text>\n<text text-anchor=\"start\" x=\"628\" y=\"-7.8\" font-family=\"Helvetica,sans-Serif\" font-size=\"14.00\" fill=\"#000000\">class = 2</text>\n</g>\n<!-- 13&#45;&gt;15 -->\n<g id=\"edge15\" class=\"edge\">\n<title>13&#45;&gt;15</title>\n<path fill=\"none\" stroke=\"#000000\" d=\"M596.5595,-118.7296C603.698,-109.6081 611.1561,-100.0783 618.2989,-90.9514\"/>\n<polygon fill=\"#000000\" stroke=\"#000000\" points=\"621.0719,-93.0871 624.4787,-83.055 615.5593,-88.7729 621.0719,-93.0871\"/>\n</g>\n<!-- 18 -->\n<g id=\"node19\" class=\"node\">\n<title>18</title>\n<path fill=\"#ffffff\" stroke=\"#000000\" d=\"M1329,-351C1329,-351 1117,-351 1117,-351 1111,-351 1105,-345 1105,-339 1105,-339 1105,-265 1105,-265 1105,-259 1111,-253 1117,-253 1117,-253 1329,-253 1329,-253 1335,-253 1341,-259 1341,-265 1341,-265 1341,-339 1341,-339 1341,-345 1335,-351 1329,-351\"/>\n<text text-anchor=\"start\" x=\"1192\" y=\"-335.8\" font-family=\"Helvetica,sans-Serif\" font-size=\"14.00\" fill=\"#000000\">node #18</text>\n<text text-anchor=\"start\" x=\"1188\" y=\"-320.8\" font-family=\"Helvetica,sans-Serif\" font-size=\"14.00\" fill=\"#000000\">Fedu ≤ 1.5</text>\n<text text-anchor=\"start\" x=\"1185\" y=\"-305.8\" font-family=\"Helvetica,sans-Serif\" font-size=\"14.00\" fill=\"#000000\">gini = 0.681</text>\n<text text-anchor=\"start\" x=\"1171\" y=\"-290.8\" font-family=\"Helvetica,sans-Serif\" font-size=\"14.00\" fill=\"#000000\">samples = 8.9%</text>\n<text text-anchor=\"start\" x=\"1113\" y=\"-275.8\" font-family=\"Helvetica,sans-Serif\" font-size=\"14.00\" fill=\"#000000\">value = [0.357, 0.357, 0.25, 0.036]</text>\n<text text-anchor=\"start\" x=\"1194\" y=\"-260.8\" font-family=\"Helvetica,sans-Serif\" font-size=\"14.00\" fill=\"#000000\">class = 1</text>\n</g>\n<!-- 17&#45;&gt;18 -->\n<g id=\"edge18\" class=\"edge\">\n<title>17&#45;&gt;18</title>\n<path fill=\"none\" stroke=\"#000000\" d=\"M1306.5976,-386.8642C1297.4507,-377.5788 1287.8174,-367.7995 1278.4731,-358.3136\"/>\n<polygon fill=\"#000000\" stroke=\"#000000\" points=\"1280.9077,-355.7977 1271.3965,-351.1298 1275.9209,-360.7101 1280.9077,-355.7977\"/>\n</g>\n<!-- 23 -->\n<g id=\"node24\" class=\"node\">\n<title>23</title>\n<path fill=\"#e9fce8\" stroke=\"#000000\" d=\"M1575.5,-351C1575.5,-351 1396.5,-351 1396.5,-351 1390.5,-351 1384.5,-345 1384.5,-339 1384.5,-339 1384.5,-265 1384.5,-265 1384.5,-259 1390.5,-253 1396.5,-253 1396.5,-253 1575.5,-253 1575.5,-253 1581.5,-253 1587.5,-259 1587.5,-265 1587.5,-265 1587.5,-339 1587.5,-339 1587.5,-345 1581.5,-351 1575.5,-351\"/>\n<text text-anchor=\"start\" x=\"1455\" y=\"-335.8\" font-family=\"Helvetica,sans-Serif\" font-size=\"14.00\" fill=\"#000000\">node #23</text>\n<text text-anchor=\"start\" x=\"1451\" y=\"-320.8\" font-family=\"Helvetica,sans-Serif\" font-size=\"14.00\" fill=\"#000000\">Fedu ≤ 2.5</text>\n<text text-anchor=\"start\" x=\"1448\" y=\"-305.8\" font-family=\"Helvetica,sans-Serif\" font-size=\"14.00\" fill=\"#000000\">gini = 0.698</text>\n<text text-anchor=\"start\" x=\"1434\" y=\"-290.8\" font-family=\"Helvetica,sans-Serif\" font-size=\"14.00\" fill=\"#000000\">samples = 7.9%</text>\n<text text-anchor=\"start\" x=\"1392.5\" y=\"-275.8\" font-family=\"Helvetica,sans-Serif\" font-size=\"14.00\" fill=\"#000000\">value = [0.12, 0.4, 0.32, 0.16]</text>\n<text text-anchor=\"start\" x=\"1457\" y=\"-260.8\" font-family=\"Helvetica,sans-Serif\" font-size=\"14.00\" fill=\"#000000\">class = 2</text>\n</g>\n<!-- 17&#45;&gt;23 -->\n<g id=\"edge23\" class=\"edge\">\n<title>17&#45;&gt;23</title>\n<path fill=\"none\" stroke=\"#000000\" d=\"M1403.0357,-386.8642C1412.1133,-377.5788 1421.6736,-367.7995 1430.9472,-358.3136\"/>\n<polygon fill=\"#000000\" stroke=\"#000000\" points=\"1433.4822,-360.7272 1437.9701,-351.1298 1428.4768,-355.8338 1433.4822,-360.7272\"/>\n</g>\n<!-- 19 -->\n<g id=\"node20\" class=\"node\">\n<title>19</title>\n<path fill=\"#bddef6\" stroke=\"#000000\" d=\"M1070.5,-209.5C1070.5,-209.5 899.5,-209.5 899.5,-209.5 893.5,-209.5 887.5,-203.5 887.5,-197.5 887.5,-197.5 887.5,-138.5 887.5,-138.5 887.5,-132.5 893.5,-126.5 899.5,-126.5 899.5,-126.5 1070.5,-126.5 1070.5,-126.5 1076.5,-126.5 1082.5,-132.5 1082.5,-138.5 1082.5,-138.5 1082.5,-197.5 1082.5,-197.5 1082.5,-203.5 1076.5,-209.5 1070.5,-209.5\"/>\n<text text-anchor=\"start\" x=\"954\" y=\"-194.3\" font-family=\"Helvetica,sans-Serif\" font-size=\"14.00\" fill=\"#000000\">node #19</text>\n<text text-anchor=\"start\" x=\"947\" y=\"-179.3\" font-family=\"Helvetica,sans-Serif\" font-size=\"14.00\" fill=\"#000000\">gini = 0.625</text>\n<text text-anchor=\"start\" x=\"933\" y=\"-164.3\" font-family=\"Helvetica,sans-Serif\" font-size=\"14.00\" fill=\"#000000\">samples = 1.3%</text>\n<text text-anchor=\"start\" x=\"895.5\" y=\"-149.3\" font-family=\"Helvetica,sans-Serif\" font-size=\"14.00\" fill=\"#000000\">value = [0.25, 0.25, 0.5, 0.0]</text>\n<text text-anchor=\"start\" x=\"956\" y=\"-134.3\" font-family=\"Helvetica,sans-Serif\" font-size=\"14.00\" fill=\"#000000\">class = 3</text>\n</g>\n<!-- 18&#45;&gt;19 -->\n<g id=\"edge19\" class=\"edge\">\n<title>18&#45;&gt;19</title>\n<path fill=\"none\" stroke=\"#000000\" d=\"M1135.729,-252.8642C1113.5748,-240.3909 1089.8378,-227.0263 1067.9072,-214.6788\"/>\n<polygon fill=\"#000000\" stroke=\"#000000\" points=\"1069.3853,-211.4944 1058.9543,-209.6381 1065.951,-217.5941 1069.3853,-211.4944\"/>\n</g>\n<!-- 20 -->\n<g id=\"node21\" class=\"node\">\n<title>20</title>\n<path fill=\"#ffffff\" stroke=\"#000000\" d=\"M1333.5,-217C1333.5,-217 1112.5,-217 1112.5,-217 1106.5,-217 1100.5,-211 1100.5,-205 1100.5,-205 1100.5,-131 1100.5,-131 1100.5,-125 1106.5,-119 1112.5,-119 1112.5,-119 1333.5,-119 1333.5,-119 1339.5,-119 1345.5,-125 1345.5,-131 1345.5,-131 1345.5,-205 1345.5,-205 1345.5,-211 1339.5,-217 1333.5,-217\"/>\n<text text-anchor=\"start\" x=\"1192\" y=\"-201.8\" font-family=\"Helvetica,sans-Serif\" font-size=\"14.00\" fill=\"#000000\">node #20</text>\n<text text-anchor=\"start\" x=\"1188\" y=\"-186.8\" font-family=\"Helvetica,sans-Serif\" font-size=\"14.00\" fill=\"#000000\">Fedu ≤ 2.5</text>\n<text text-anchor=\"start\" x=\"1185\" y=\"-171.8\" font-family=\"Helvetica,sans-Serif\" font-size=\"14.00\" fill=\"#000000\">gini = 0.674</text>\n<text text-anchor=\"start\" x=\"1171\" y=\"-156.8\" font-family=\"Helvetica,sans-Serif\" font-size=\"14.00\" fill=\"#000000\">samples = 7.6%</text>\n<text text-anchor=\"start\" x=\"1108.5\" y=\"-141.8\" font-family=\"Helvetica,sans-Serif\" font-size=\"14.00\" fill=\"#000000\">value = [0.375, 0.375, 0.208, 0.042]</text>\n<text text-anchor=\"start\" x=\"1194\" y=\"-126.8\" font-family=\"Helvetica,sans-Serif\" font-size=\"14.00\" fill=\"#000000\">class = 1</text>\n</g>\n<!-- 18&#45;&gt;20 -->\n<g id=\"edge20\" class=\"edge\">\n<title>18&#45;&gt;20</title>\n<path fill=\"none\" stroke=\"#000000\" d=\"M1223,-252.8642C1223,-244.5802 1223,-235.903 1223,-227.3918\"/>\n<polygon fill=\"#000000\" stroke=\"#000000\" points=\"1226.5001,-227.1298 1223,-217.1298 1219.5001,-227.1299 1226.5001,-227.1298\"/>\n</g>\n<!-- 21 -->\n<g id=\"node22\" class=\"node\">\n<title>21</title>\n<path fill=\"#f0fdee\" stroke=\"#000000\" d=\"M1112,-83C1112,-83 908,-83 908,-83 902,-83 896,-77 896,-71 896,-71 896,-12 896,-12 896,-6 902,0 908,0 908,0 1112,0 1112,0 1118,0 1124,-6 1124,-12 1124,-12 1124,-71 1124,-71 1124,-77 1118,-83 1112,-83\"/>\n<text text-anchor=\"start\" x=\"979\" y=\"-67.8\" font-family=\"Helvetica,sans-Serif\" font-size=\"14.00\" fill=\"#000000\">node #21</text>\n<text text-anchor=\"start\" x=\"972\" y=\"-52.8\" font-family=\"Helvetica,sans-Serif\" font-size=\"14.00\" fill=\"#000000\">gini = 0.643</text>\n<text text-anchor=\"start\" x=\"958\" y=\"-37.8\" font-family=\"Helvetica,sans-Serif\" font-size=\"14.00\" fill=\"#000000\">samples = 6.0%</text>\n<text text-anchor=\"start\" x=\"904\" y=\"-22.8\" font-family=\"Helvetica,sans-Serif\" font-size=\"14.00\" fill=\"#000000\">value = [0.368, 0.421, 0.211, 0.0]</text>\n<text text-anchor=\"start\" x=\"981\" y=\"-7.8\" font-family=\"Helvetica,sans-Serif\" font-size=\"14.00\" fill=\"#000000\">class = 2</text>\n</g>\n<!-- 20&#45;&gt;21 -->\n<g id=\"edge21\" class=\"edge\">\n<title>20&#45;&gt;21</title>\n<path fill=\"none\" stroke=\"#000000\" d=\"M1140.3438,-118.9107C1123.415,-108.8568 1105.639,-98.2997 1088.8482,-88.3277\"/>\n<polygon fill=\"#000000\" stroke=\"#000000\" points=\"1090.5524,-85.2691 1080.1672,-83.1721 1086.978,-91.2877 1090.5524,-85.2691\"/>\n</g>\n<!-- 22 -->\n<g id=\"node23\" class=\"node\">\n<title>22</title>\n<path fill=\"#f8e0ce\" stroke=\"#000000\" d=\"M1309.5,-83C1309.5,-83 1154.5,-83 1154.5,-83 1148.5,-83 1142.5,-77 1142.5,-71 1142.5,-71 1142.5,-12 1142.5,-12 1142.5,-6 1148.5,0 1154.5,0 1154.5,0 1309.5,0 1309.5,0 1315.5,0 1321.5,-6 1321.5,-12 1321.5,-12 1321.5,-71 1321.5,-71 1321.5,-77 1315.5,-83 1309.5,-83\"/>\n<text text-anchor=\"start\" x=\"1201\" y=\"-67.8\" font-family=\"Helvetica,sans-Serif\" font-size=\"14.00\" fill=\"#000000\">node #22</text>\n<text text-anchor=\"start\" x=\"1198.5\" y=\"-52.8\" font-family=\"Helvetica,sans-Serif\" font-size=\"14.00\" fill=\"#000000\">gini = 0.72</text>\n<text text-anchor=\"start\" x=\"1180\" y=\"-37.8\" font-family=\"Helvetica,sans-Serif\" font-size=\"14.00\" fill=\"#000000\">samples = 1.6%</text>\n<text text-anchor=\"start\" x=\"1150.5\" y=\"-22.8\" font-family=\"Helvetica,sans-Serif\" font-size=\"14.00\" fill=\"#000000\">value = [0.4, 0.2, 0.2, 0.2]</text>\n<text text-anchor=\"start\" x=\"1203\" y=\"-7.8\" font-family=\"Helvetica,sans-Serif\" font-size=\"14.00\" fill=\"#000000\">class = 1</text>\n</g>\n<!-- 20&#45;&gt;22 -->\n<g id=\"edge22\" class=\"edge\">\n<title>20&#45;&gt;22</title>\n<path fill=\"none\" stroke=\"#000000\" d=\"M1226.5054,-118.7296C1227.1019,-110.3452 1227.723,-101.6158 1228.3238,-93.1714\"/>\n<polygon fill=\"#000000\" stroke=\"#000000\" points=\"1231.8249,-93.2782 1229.0435,-83.055 1224.8426,-92.7813 1231.8249,-93.2782\"/>\n</g>\n<!-- 24 -->\n<g id=\"node25\" class=\"node\">\n<title>24</title>\n<path fill=\"#c2f6bd\" stroke=\"#000000\" d=\"M1596.5,-217C1596.5,-217 1375.5,-217 1375.5,-217 1369.5,-217 1363.5,-211 1363.5,-205 1363.5,-205 1363.5,-131 1363.5,-131 1363.5,-125 1369.5,-119 1375.5,-119 1375.5,-119 1596.5,-119 1596.5,-119 1602.5,-119 1608.5,-125 1608.5,-131 1608.5,-131 1608.5,-205 1608.5,-205 1608.5,-211 1602.5,-217 1596.5,-217\"/>\n<text text-anchor=\"start\" x=\"1455\" y=\"-201.8\" font-family=\"Helvetica,sans-Serif\" font-size=\"14.00\" fill=\"#000000\">node #24</text>\n<text text-anchor=\"start\" x=\"1451\" y=\"-186.8\" font-family=\"Helvetica,sans-Serif\" font-size=\"14.00\" fill=\"#000000\">Fedu ≤ 1.5</text>\n<text text-anchor=\"start\" x=\"1448\" y=\"-171.8\" font-family=\"Helvetica,sans-Serif\" font-size=\"14.00\" fill=\"#000000\">gini = 0.676</text>\n<text text-anchor=\"start\" x=\"1434\" y=\"-156.8\" font-family=\"Helvetica,sans-Serif\" font-size=\"14.00\" fill=\"#000000\">samples = 6.0%</text>\n<text text-anchor=\"start\" x=\"1371.5\" y=\"-141.8\" font-family=\"Helvetica,sans-Serif\" font-size=\"14.00\" fill=\"#000000\">value = [0.105, 0.474, 0.211, 0.211]</text>\n<text text-anchor=\"start\" x=\"1457\" y=\"-126.8\" font-family=\"Helvetica,sans-Serif\" font-size=\"14.00\" fill=\"#000000\">class = 2</text>\n</g>\n<!-- 23&#45;&gt;24 -->\n<g id=\"edge24\" class=\"edge\">\n<title>23&#45;&gt;24</title>\n<path fill=\"none\" stroke=\"#000000\" d=\"M1486,-252.8642C1486,-244.5802 1486,-235.903 1486,-227.3918\"/>\n<polygon fill=\"#000000\" stroke=\"#000000\" points=\"1489.5001,-227.1298 1486,-217.1298 1482.5001,-227.1299 1489.5001,-227.1298\"/>\n</g>\n<!-- 27 -->\n<g id=\"node28\" class=\"node\">\n<title>27</title>\n<path fill=\"#88c4ef\" stroke=\"#000000\" d=\"M1843,-209.5C1843,-209.5 1639,-209.5 1639,-209.5 1633,-209.5 1627,-203.5 1627,-197.5 1627,-197.5 1627,-138.5 1627,-138.5 1627,-132.5 1633,-126.5 1639,-126.5 1639,-126.5 1843,-126.5 1843,-126.5 1849,-126.5 1855,-132.5 1855,-138.5 1855,-138.5 1855,-197.5 1855,-197.5 1855,-203.5 1849,-209.5 1843,-209.5\"/>\n<text text-anchor=\"start\" x=\"1710\" y=\"-194.3\" font-family=\"Helvetica,sans-Serif\" font-size=\"14.00\" fill=\"#000000\">node #27</text>\n<text text-anchor=\"start\" x=\"1711.5\" y=\"-179.3\" font-family=\"Helvetica,sans-Serif\" font-size=\"14.00\" fill=\"#000000\">gini = 0.5</text>\n<text text-anchor=\"start\" x=\"1689\" y=\"-164.3\" font-family=\"Helvetica,sans-Serif\" font-size=\"14.00\" fill=\"#000000\">samples = 1.9%</text>\n<text text-anchor=\"start\" x=\"1635\" y=\"-149.3\" font-family=\"Helvetica,sans-Serif\" font-size=\"14.00\" fill=\"#000000\">value = [0.167, 0.167, 0.667, 0.0]</text>\n<text text-anchor=\"start\" x=\"1712\" y=\"-134.3\" font-family=\"Helvetica,sans-Serif\" font-size=\"14.00\" fill=\"#000000\">class = 3</text>\n</g>\n<!-- 23&#45;&gt;27 -->\n<g id=\"edge27\" class=\"edge\">\n<title>23&#45;&gt;27</title>\n<path fill=\"none\" stroke=\"#000000\" d=\"M1579.5046,-252.8642C1603.4523,-240.28 1629.1261,-226.7887 1652.797,-214.3498\"/>\n<polygon fill=\"#000000\" stroke=\"#000000\" points=\"1654.5392,-217.3882 1661.7632,-209.6381 1651.2829,-211.1917 1654.5392,-217.3882\"/>\n</g>\n<!-- 25 -->\n<g id=\"node26\" class=\"node\">\n<title>25</title>\n<path fill=\"#ffffff\" stroke=\"#000000\" d=\"M1588.5,-83C1588.5,-83 1367.5,-83 1367.5,-83 1361.5,-83 1355.5,-77 1355.5,-71 1355.5,-71 1355.5,-12 1355.5,-12 1355.5,-6 1361.5,0 1367.5,0 1367.5,0 1588.5,0 1588.5,0 1594.5,0 1600.5,-6 1600.5,-12 1600.5,-12 1600.5,-71 1600.5,-71 1600.5,-77 1594.5,-83 1588.5,-83\"/>\n<text text-anchor=\"start\" x=\"1447\" y=\"-67.8\" font-family=\"Helvetica,sans-Serif\" font-size=\"14.00\" fill=\"#000000\">node #25</text>\n<text text-anchor=\"start\" x=\"1440\" y=\"-52.8\" font-family=\"Helvetica,sans-Serif\" font-size=\"14.00\" fill=\"#000000\">gini = 0.722</text>\n<text text-anchor=\"start\" x=\"1426\" y=\"-37.8\" font-family=\"Helvetica,sans-Serif\" font-size=\"14.00\" fill=\"#000000\">samples = 1.9%</text>\n<text text-anchor=\"start\" x=\"1363.5\" y=\"-22.8\" font-family=\"Helvetica,sans-Serif\" font-size=\"14.00\" fill=\"#000000\">value = [0.333, 0.333, 0.167, 0.167]</text>\n<text text-anchor=\"start\" x=\"1449\" y=\"-7.8\" font-family=\"Helvetica,sans-Serif\" font-size=\"14.00\" fill=\"#000000\">class = 1</text>\n</g>\n<!-- 24&#45;&gt;25 -->\n<g id=\"edge25\" class=\"edge\">\n<title>24&#45;&gt;25</title>\n<path fill=\"none\" stroke=\"#000000\" d=\"M1482.8841,-118.7296C1482.3538,-110.3452 1481.8018,-101.6158 1481.2678,-93.1714\"/>\n<polygon fill=\"#000000\" stroke=\"#000000\" points=\"1484.7522,-92.8141 1480.628,-83.055 1477.7662,-93.256 1484.7522,-92.8141\"/>\n</g>\n<!-- 26 -->\n<g id=\"node27\" class=\"node\">\n<title>26</title>\n<path fill=\"#b5f5b0\" stroke=\"#000000\" d=\"M1835,-83C1835,-83 1631,-83 1631,-83 1625,-83 1619,-77 1619,-71 1619,-71 1619,-12 1619,-12 1619,-6 1625,0 1631,0 1631,0 1835,0 1835,0 1841,0 1847,-6 1847,-12 1847,-12 1847,-71 1847,-71 1847,-77 1841,-83 1835,-83\"/>\n<text text-anchor=\"start\" x=\"1702\" y=\"-67.8\" font-family=\"Helvetica,sans-Serif\" font-size=\"14.00\" fill=\"#000000\">node #26</text>\n<text text-anchor=\"start\" x=\"1695\" y=\"-52.8\" font-family=\"Helvetica,sans-Serif\" font-size=\"14.00\" fill=\"#000000\">gini = 0.604</text>\n<text text-anchor=\"start\" x=\"1681\" y=\"-37.8\" font-family=\"Helvetica,sans-Serif\" font-size=\"14.00\" fill=\"#000000\">samples = 4.1%</text>\n<text text-anchor=\"start\" x=\"1627\" y=\"-22.8\" font-family=\"Helvetica,sans-Serif\" font-size=\"14.00\" fill=\"#000000\">value = [0.0, 0.538, 0.231, 0.231]</text>\n<text text-anchor=\"start\" x=\"1704\" y=\"-7.8\" font-family=\"Helvetica,sans-Serif\" font-size=\"14.00\" fill=\"#000000\">class = 2</text>\n</g>\n<!-- 24&#45;&gt;26 -->\n<g id=\"edge26\" class=\"edge\">\n<title>24&#45;&gt;26</title>\n<path fill=\"none\" stroke=\"#000000\" d=\"M1581.8502,-118.9107C1601.8414,-108.6723 1622.8515,-97.9121 1642.6364,-87.7794\"/>\n<polygon fill=\"#000000\" stroke=\"#000000\" points=\"1644.3273,-90.8457 1651.6324,-83.1721 1641.1363,-84.6153 1644.3273,-90.8457\"/>\n</g>\n<!-- 29 -->\n<g id=\"node30\" class=\"node\">\n<title>29</title>\n<path fill=\"#f3fdf2\" stroke=\"#000000\" d=\"M2641.5,-619C2641.5,-619 2420.5,-619 2420.5,-619 2414.5,-619 2408.5,-613 2408.5,-607 2408.5,-607 2408.5,-533 2408.5,-533 2408.5,-527 2414.5,-521 2420.5,-521 2420.5,-521 2641.5,-521 2641.5,-521 2647.5,-521 2653.5,-527 2653.5,-533 2653.5,-533 2653.5,-607 2653.5,-607 2653.5,-613 2647.5,-619 2641.5,-619\"/>\n<text text-anchor=\"start\" x=\"2500\" y=\"-603.8\" font-family=\"Helvetica,sans-Serif\" font-size=\"14.00\" fill=\"#000000\">node #29</text>\n<text text-anchor=\"start\" x=\"2494.5\" y=\"-588.8\" font-family=\"Helvetica,sans-Serif\" font-size=\"14.00\" fill=\"#000000\">Medu ≤ 0.5</text>\n<text text-anchor=\"start\" x=\"2493\" y=\"-573.8\" font-family=\"Helvetica,sans-Serif\" font-size=\"14.00\" fill=\"#000000\">gini = 0.707</text>\n<text text-anchor=\"start\" x=\"2479\" y=\"-558.8\" font-family=\"Helvetica,sans-Serif\" font-size=\"14.00\" fill=\"#000000\">samples = 7.0%</text>\n<text text-anchor=\"start\" x=\"2416.5\" y=\"-543.8\" font-family=\"Helvetica,sans-Serif\" font-size=\"14.00\" fill=\"#000000\">value = [0.318, 0.364, 0.227, 0.091]</text>\n<text text-anchor=\"start\" x=\"2502\" y=\"-528.8\" font-family=\"Helvetica,sans-Serif\" font-size=\"14.00\" fill=\"#000000\">class = 2</text>\n</g>\n<!-- 28&#45;&gt;29 -->\n<g id=\"edge29\" class=\"edge\">\n<title>28&#45;&gt;29</title>\n<path fill=\"none\" stroke=\"#000000\" d=\"M2619.0308,-654.8642C2609.3989,-645.5788 2599.2547,-635.7995 2589.4148,-626.3136\"/>\n<polygon fill=\"#000000\" stroke=\"#000000\" points=\"2591.5916,-623.5505 2581.963,-619.1298 2586.7333,-628.59 2591.5916,-623.5505\"/>\n</g>\n<!-- 40 -->\n<g id=\"node41\" class=\"node\">\n<title>40</title>\n<path fill=\"#f6d2b8\" stroke=\"#000000\" d=\"M2911,-619C2911,-619 2707,-619 2707,-619 2701,-619 2695,-613 2695,-607 2695,-607 2695,-533 2695,-533 2695,-527 2701,-521 2707,-521 2707,-521 2911,-521 2911,-521 2917,-521 2923,-527 2923,-533 2923,-533 2923,-607 2923,-607 2923,-613 2917,-619 2911,-619\"/>\n<text text-anchor=\"start\" x=\"2778\" y=\"-603.8\" font-family=\"Helvetica,sans-Serif\" font-size=\"14.00\" fill=\"#000000\">node #40</text>\n<text text-anchor=\"start\" x=\"2774\" y=\"-588.8\" font-family=\"Helvetica,sans-Serif\" font-size=\"14.00\" fill=\"#000000\">Fedu ≤ 2.5</text>\n<text text-anchor=\"start\" x=\"2771\" y=\"-573.8\" font-family=\"Helvetica,sans-Serif\" font-size=\"14.00\" fill=\"#000000\">gini = 0.609</text>\n<text text-anchor=\"start\" x=\"2757\" y=\"-558.8\" font-family=\"Helvetica,sans-Serif\" font-size=\"14.00\" fill=\"#000000\">samples = 6.0%</text>\n<text text-anchor=\"start\" x=\"2703\" y=\"-543.8\" font-family=\"Helvetica,sans-Serif\" font-size=\"14.00\" fill=\"#000000\">value = [0.526, 0.211, 0.263, 0.0]</text>\n<text text-anchor=\"start\" x=\"2780\" y=\"-528.8\" font-family=\"Helvetica,sans-Serif\" font-size=\"14.00\" fill=\"#000000\">class = 1</text>\n</g>\n<!-- 28&#45;&gt;40 -->\n<g id=\"edge40\" class=\"edge\">\n<title>28&#45;&gt;40</title>\n<path fill=\"none\" stroke=\"#000000\" d=\"M2720.9692,-654.8642C2730.6011,-645.5788 2740.7453,-635.7995 2750.5852,-626.3136\"/>\n<polygon fill=\"#000000\" stroke=\"#000000\" points=\"2753.2667,-628.59 2758.037,-619.1298 2748.4084,-623.5505 2753.2667,-628.59\"/>\n</g>\n<!-- 30 -->\n<g id=\"node31\" class=\"node\">\n<title>30</title>\n<path fill=\"#47e539\" stroke=\"#000000\" d=\"M2378.5,-477.5C2378.5,-477.5 2223.5,-477.5 2223.5,-477.5 2217.5,-477.5 2211.5,-471.5 2211.5,-465.5 2211.5,-465.5 2211.5,-406.5 2211.5,-406.5 2211.5,-400.5 2217.5,-394.5 2223.5,-394.5 2223.5,-394.5 2378.5,-394.5 2378.5,-394.5 2384.5,-394.5 2390.5,-400.5 2390.5,-406.5 2390.5,-406.5 2390.5,-465.5 2390.5,-465.5 2390.5,-471.5 2384.5,-477.5 2378.5,-477.5\"/>\n<text text-anchor=\"start\" x=\"2270\" y=\"-462.3\" font-family=\"Helvetica,sans-Serif\" font-size=\"14.00\" fill=\"#000000\">node #30</text>\n<text text-anchor=\"start\" x=\"2271.5\" y=\"-447.3\" font-family=\"Helvetica,sans-Serif\" font-size=\"14.00\" fill=\"#000000\">gini = 0.0</text>\n<text text-anchor=\"start\" x=\"2249\" y=\"-432.3\" font-family=\"Helvetica,sans-Serif\" font-size=\"14.00\" fill=\"#000000\">samples = 0.3%</text>\n<text text-anchor=\"start\" x=\"2219.5\" y=\"-417.3\" font-family=\"Helvetica,sans-Serif\" font-size=\"14.00\" fill=\"#000000\">value = [0.0, 1.0, 0.0, 0.0]</text>\n<text text-anchor=\"start\" x=\"2272\" y=\"-402.3\" font-family=\"Helvetica,sans-Serif\" font-size=\"14.00\" fill=\"#000000\">class = 2</text>\n</g>\n<!-- 29&#45;&gt;30 -->\n<g id=\"edge30\" class=\"edge\">\n<title>29&#45;&gt;30</title>\n<path fill=\"none\" stroke=\"#000000\" d=\"M2446.6625,-520.8642C2425.253,-508.3909 2402.3138,-495.0263 2381.1204,-482.6788\"/>\n<polygon fill=\"#000000\" stroke=\"#000000\" points=\"2382.8709,-479.648 2372.4684,-477.6381 2379.347,-485.6964 2382.8709,-479.648\"/>\n</g>\n<!-- 31 -->\n<g id=\"node32\" class=\"node\">\n<title>31</title>\n<path fill=\"#ffffff\" stroke=\"#000000\" d=\"M2641.5,-485C2641.5,-485 2420.5,-485 2420.5,-485 2414.5,-485 2408.5,-479 2408.5,-473 2408.5,-473 2408.5,-399 2408.5,-399 2408.5,-393 2414.5,-387 2420.5,-387 2420.5,-387 2641.5,-387 2641.5,-387 2647.5,-387 2653.5,-393 2653.5,-399 2653.5,-399 2653.5,-473 2653.5,-473 2653.5,-479 2647.5,-485 2641.5,-485\"/>\n<text text-anchor=\"start\" x=\"2500\" y=\"-469.8\" font-family=\"Helvetica,sans-Serif\" font-size=\"14.00\" fill=\"#000000\">node #31</text>\n<text text-anchor=\"start\" x=\"2496\" y=\"-454.8\" font-family=\"Helvetica,sans-Serif\" font-size=\"14.00\" fill=\"#000000\">Fedu ≤ 1.5</text>\n<text text-anchor=\"start\" x=\"2493\" y=\"-439.8\" font-family=\"Helvetica,sans-Serif\" font-size=\"14.00\" fill=\"#000000\">gini = 0.712</text>\n<text text-anchor=\"start\" x=\"2479\" y=\"-424.8\" font-family=\"Helvetica,sans-Serif\" font-size=\"14.00\" fill=\"#000000\">samples = 6.6%</text>\n<text text-anchor=\"start\" x=\"2416.5\" y=\"-409.8\" font-family=\"Helvetica,sans-Serif\" font-size=\"14.00\" fill=\"#000000\">value = [0.333, 0.333, 0.238, 0.095]</text>\n<text text-anchor=\"start\" x=\"2502\" y=\"-394.8\" font-family=\"Helvetica,sans-Serif\" font-size=\"14.00\" fill=\"#000000\">class = 1</text>\n</g>\n<!-- 29&#45;&gt;31 -->\n<g id=\"edge31\" class=\"edge\">\n<title>29&#45;&gt;31</title>\n<path fill=\"none\" stroke=\"#000000\" d=\"M2531,-520.8642C2531,-512.5802 2531,-503.903 2531,-495.3918\"/>\n<polygon fill=\"#000000\" stroke=\"#000000\" points=\"2534.5001,-495.1298 2531,-485.1298 2527.5001,-495.1299 2534.5001,-495.1298\"/>\n</g>\n<!-- 32 -->\n<g id=\"node33\" class=\"node\">\n<title>32</title>\n<path fill=\"#ffffff\" stroke=\"#000000\" d=\"M2332,-351C2332,-351 2120,-351 2120,-351 2114,-351 2108,-345 2108,-339 2108,-339 2108,-265 2108,-265 2108,-259 2114,-253 2120,-253 2120,-253 2332,-253 2332,-253 2338,-253 2344,-259 2344,-265 2344,-265 2344,-339 2344,-339 2344,-345 2338,-351 2332,-351\"/>\n<text text-anchor=\"start\" x=\"2195\" y=\"-335.8\" font-family=\"Helvetica,sans-Serif\" font-size=\"14.00\" fill=\"#000000\">node #32</text>\n<text text-anchor=\"start\" x=\"2189.5\" y=\"-320.8\" font-family=\"Helvetica,sans-Serif\" font-size=\"14.00\" fill=\"#000000\">Medu ≤ 1.5</text>\n<text text-anchor=\"start\" x=\"2188\" y=\"-305.8\" font-family=\"Helvetica,sans-Serif\" font-size=\"14.00\" fill=\"#000000\">gini = 0.708</text>\n<text text-anchor=\"start\" x=\"2174\" y=\"-290.8\" font-family=\"Helvetica,sans-Serif\" font-size=\"14.00\" fill=\"#000000\">samples = 3.8%</text>\n<text text-anchor=\"start\" x=\"2116\" y=\"-275.8\" font-family=\"Helvetica,sans-Serif\" font-size=\"14.00\" fill=\"#000000\">value = [0.25, 0.333, 0.333, 0.083]</text>\n<text text-anchor=\"start\" x=\"2197\" y=\"-260.8\" font-family=\"Helvetica,sans-Serif\" font-size=\"14.00\" fill=\"#000000\">class = 2</text>\n</g>\n<!-- 31&#45;&gt;32 -->\n<g id=\"edge32\" class=\"edge\">\n<title>31&#45;&gt;32</title>\n<path fill=\"none\" stroke=\"#000000\" d=\"M2419.1611,-386.8642C2395.6721,-376.5444 2370.7946,-365.6147 2346.9884,-355.1555\"/>\n<polygon fill=\"#000000\" stroke=\"#000000\" points=\"2348.1336,-351.8358 2337.5704,-351.0178 2345.3179,-358.2446 2348.1336,-351.8358\"/>\n</g>\n<!-- 35 -->\n<g id=\"node36\" class=\"node\">\n<title>35</title>\n<path fill=\"#fbeade\" stroke=\"#000000\" d=\"M2641.5,-351C2641.5,-351 2420.5,-351 2420.5,-351 2414.5,-351 2408.5,-345 2408.5,-339 2408.5,-339 2408.5,-265 2408.5,-265 2408.5,-259 2414.5,-253 2420.5,-253 2420.5,-253 2641.5,-253 2641.5,-253 2647.5,-253 2653.5,-259 2653.5,-265 2653.5,-265 2653.5,-339 2653.5,-339 2653.5,-345 2647.5,-351 2641.5,-351\"/>\n<text text-anchor=\"start\" x=\"2500\" y=\"-335.8\" font-family=\"Helvetica,sans-Serif\" font-size=\"14.00\" fill=\"#000000\">node #35</text>\n<text text-anchor=\"start\" x=\"2496\" y=\"-320.8\" font-family=\"Helvetica,sans-Serif\" font-size=\"14.00\" fill=\"#000000\">Fedu ≤ 2.5</text>\n<text text-anchor=\"start\" x=\"2493\" y=\"-305.8\" font-family=\"Helvetica,sans-Serif\" font-size=\"14.00\" fill=\"#000000\">gini = 0.667</text>\n<text text-anchor=\"start\" x=\"2479\" y=\"-290.8\" font-family=\"Helvetica,sans-Serif\" font-size=\"14.00\" fill=\"#000000\">samples = 2.8%</text>\n<text text-anchor=\"start\" x=\"2416.5\" y=\"-275.8\" font-family=\"Helvetica,sans-Serif\" font-size=\"14.00\" fill=\"#000000\">value = [0.444, 0.333, 0.111, 0.111]</text>\n<text text-anchor=\"start\" x=\"2502\" y=\"-260.8\" font-family=\"Helvetica,sans-Serif\" font-size=\"14.00\" fill=\"#000000\">class = 1</text>\n</g>\n<!-- 31&#45;&gt;35 -->\n<g id=\"edge35\" class=\"edge\">\n<title>31&#45;&gt;35</title>\n<path fill=\"none\" stroke=\"#000000\" d=\"M2531,-386.8642C2531,-378.5802 2531,-369.903 2531,-361.3918\"/>\n<polygon fill=\"#000000\" stroke=\"#000000\" points=\"2534.5001,-361.1298 2531,-351.1298 2527.5001,-361.1299 2534.5001,-361.1298\"/>\n</g>\n<!-- 33 -->\n<g id=\"node34\" class=\"node\">\n<title>33</title>\n<path fill=\"#dafad7\" stroke=\"#000000\" d=\"M2106.5,-209.5C2106.5,-209.5 1885.5,-209.5 1885.5,-209.5 1879.5,-209.5 1873.5,-203.5 1873.5,-197.5 1873.5,-197.5 1873.5,-138.5 1873.5,-138.5 1873.5,-132.5 1879.5,-126.5 1885.5,-126.5 1885.5,-126.5 2106.5,-126.5 2106.5,-126.5 2112.5,-126.5 2118.5,-132.5 2118.5,-138.5 2118.5,-138.5 2118.5,-197.5 2118.5,-197.5 2118.5,-203.5 2112.5,-209.5 2106.5,-209.5\"/>\n<text text-anchor=\"start\" x=\"1965\" y=\"-194.3\" font-family=\"Helvetica,sans-Serif\" font-size=\"14.00\" fill=\"#000000\">node #33</text>\n<text text-anchor=\"start\" x=\"1958\" y=\"-179.3\" font-family=\"Helvetica,sans-Serif\" font-size=\"14.00\" fill=\"#000000\">gini = 0.694</text>\n<text text-anchor=\"start\" x=\"1944\" y=\"-164.3\" font-family=\"Helvetica,sans-Serif\" font-size=\"14.00\" fill=\"#000000\">samples = 2.2%</text>\n<text text-anchor=\"start\" x=\"1881.5\" y=\"-149.3\" font-family=\"Helvetica,sans-Serif\" font-size=\"14.00\" fill=\"#000000\">value = [0.143, 0.429, 0.286, 0.143]</text>\n<text text-anchor=\"start\" x=\"1967\" y=\"-134.3\" font-family=\"Helvetica,sans-Serif\" font-size=\"14.00\" fill=\"#000000\">class = 2</text>\n</g>\n<!-- 32&#45;&gt;33 -->\n<g id=\"edge33\" class=\"edge\">\n<title>32&#45;&gt;33</title>\n<path fill=\"none\" stroke=\"#000000\" d=\"M2141.6625,-252.8642C2120.253,-240.3909 2097.3138,-227.0263 2076.1204,-214.6788\"/>\n<polygon fill=\"#000000\" stroke=\"#000000\" points=\"2077.8709,-211.648 2067.4684,-209.6381 2074.347,-217.6964 2077.8709,-211.648\"/>\n</g>\n<!-- 34 -->\n<g id=\"node35\" class=\"node\">\n<title>34</title>\n<path fill=\"#ffffff\" stroke=\"#000000\" d=\"M2303.5,-209.5C2303.5,-209.5 2148.5,-209.5 2148.5,-209.5 2142.5,-209.5 2136.5,-203.5 2136.5,-197.5 2136.5,-197.5 2136.5,-138.5 2136.5,-138.5 2136.5,-132.5 2142.5,-126.5 2148.5,-126.5 2148.5,-126.5 2303.5,-126.5 2303.5,-126.5 2309.5,-126.5 2315.5,-132.5 2315.5,-138.5 2315.5,-138.5 2315.5,-197.5 2315.5,-197.5 2315.5,-203.5 2309.5,-209.5 2303.5,-209.5\"/>\n<text text-anchor=\"start\" x=\"2195\" y=\"-194.3\" font-family=\"Helvetica,sans-Serif\" font-size=\"14.00\" fill=\"#000000\">node #34</text>\n<text text-anchor=\"start\" x=\"2192.5\" y=\"-179.3\" font-family=\"Helvetica,sans-Serif\" font-size=\"14.00\" fill=\"#000000\">gini = 0.64</text>\n<text text-anchor=\"start\" x=\"2174\" y=\"-164.3\" font-family=\"Helvetica,sans-Serif\" font-size=\"14.00\" fill=\"#000000\">samples = 1.6%</text>\n<text text-anchor=\"start\" x=\"2144.5\" y=\"-149.3\" font-family=\"Helvetica,sans-Serif\" font-size=\"14.00\" fill=\"#000000\">value = [0.4, 0.2, 0.4, 0.0]</text>\n<text text-anchor=\"start\" x=\"2197\" y=\"-134.3\" font-family=\"Helvetica,sans-Serif\" font-size=\"14.00\" fill=\"#000000\">class = 1</text>\n</g>\n<!-- 32&#45;&gt;34 -->\n<g id=\"edge34\" class=\"edge\">\n<title>32&#45;&gt;34</title>\n<path fill=\"none\" stroke=\"#000000\" d=\"M2226,-252.8642C2226,-242.1094 2226,-230.6921 2226,-219.8354\"/>\n<polygon fill=\"#000000\" stroke=\"#000000\" points=\"2229.5001,-219.6381 2226,-209.6381 2222.5001,-219.6382 2229.5001,-219.6381\"/>\n</g>\n<!-- 36 -->\n<g id=\"node37\" class=\"node\">\n<title>36</title>\n<path fill=\"#f2c09c\" stroke=\"#000000\" d=\"M2500.5,-217C2500.5,-217 2345.5,-217 2345.5,-217 2339.5,-217 2333.5,-211 2333.5,-205 2333.5,-205 2333.5,-131 2333.5,-131 2333.5,-125 2339.5,-119 2345.5,-119 2345.5,-119 2500.5,-119 2500.5,-119 2506.5,-119 2512.5,-125 2512.5,-131 2512.5,-131 2512.5,-205 2512.5,-205 2512.5,-211 2506.5,-217 2500.5,-217\"/>\n<text text-anchor=\"start\" x=\"2392\" y=\"-201.8\" font-family=\"Helvetica,sans-Serif\" font-size=\"14.00\" fill=\"#000000\">node #36</text>\n<text text-anchor=\"start\" x=\"2386.5\" y=\"-186.8\" font-family=\"Helvetica,sans-Serif\" font-size=\"14.00\" fill=\"#000000\">Medu ≤ 1.5</text>\n<text text-anchor=\"start\" x=\"2389.5\" y=\"-171.8\" font-family=\"Helvetica,sans-Serif\" font-size=\"14.00\" fill=\"#000000\">gini = 0.56</text>\n<text text-anchor=\"start\" x=\"2371\" y=\"-156.8\" font-family=\"Helvetica,sans-Serif\" font-size=\"14.00\" fill=\"#000000\">samples = 1.6%</text>\n<text text-anchor=\"start\" x=\"2341.5\" y=\"-141.8\" font-family=\"Helvetica,sans-Serif\" font-size=\"14.00\" fill=\"#000000\">value = [0.6, 0.2, 0.0, 0.2]</text>\n<text text-anchor=\"start\" x=\"2394\" y=\"-126.8\" font-family=\"Helvetica,sans-Serif\" font-size=\"14.00\" fill=\"#000000\">class = 1</text>\n</g>\n<!-- 35&#45;&gt;36 -->\n<g id=\"edge36\" class=\"edge\">\n<title>35&#45;&gt;36</title>\n<path fill=\"none\" stroke=\"#000000\" d=\"M2491.398,-252.8642C2484.1344,-243.8519 2476.4957,-234.3743 2469.0622,-225.1513\"/>\n<polygon fill=\"#000000\" stroke=\"#000000\" points=\"2471.5976,-222.7195 2462.5972,-217.1298 2466.1474,-227.1122 2471.5976,-222.7195\"/>\n</g>\n<!-- 39 -->\n<g id=\"node40\" class=\"node\">\n<title>39</title>\n<path fill=\"#c2f6bd\" stroke=\"#000000\" d=\"M2713.5,-209.5C2713.5,-209.5 2542.5,-209.5 2542.5,-209.5 2536.5,-209.5 2530.5,-203.5 2530.5,-197.5 2530.5,-197.5 2530.5,-138.5 2530.5,-138.5 2530.5,-132.5 2536.5,-126.5 2542.5,-126.5 2542.5,-126.5 2713.5,-126.5 2713.5,-126.5 2719.5,-126.5 2725.5,-132.5 2725.5,-138.5 2725.5,-138.5 2725.5,-197.5 2725.5,-197.5 2725.5,-203.5 2719.5,-209.5 2713.5,-209.5\"/>\n<text text-anchor=\"start\" x=\"2597\" y=\"-194.3\" font-family=\"Helvetica,sans-Serif\" font-size=\"14.00\" fill=\"#000000\">node #39</text>\n<text text-anchor=\"start\" x=\"2590\" y=\"-179.3\" font-family=\"Helvetica,sans-Serif\" font-size=\"14.00\" fill=\"#000000\">gini = 0.625</text>\n<text text-anchor=\"start\" x=\"2576\" y=\"-164.3\" font-family=\"Helvetica,sans-Serif\" font-size=\"14.00\" fill=\"#000000\">samples = 1.3%</text>\n<text text-anchor=\"start\" x=\"2538.5\" y=\"-149.3\" font-family=\"Helvetica,sans-Serif\" font-size=\"14.00\" fill=\"#000000\">value = [0.25, 0.5, 0.25, 0.0]</text>\n<text text-anchor=\"start\" x=\"2599\" y=\"-134.3\" font-family=\"Helvetica,sans-Serif\" font-size=\"14.00\" fill=\"#000000\">class = 2</text>\n</g>\n<!-- 35&#45;&gt;39 -->\n<g id=\"edge39\" class=\"edge\">\n<title>35&#45;&gt;39</title>\n<path fill=\"none\" stroke=\"#000000\" d=\"M2566.5684,-252.8642C2574.8352,-241.4442 2583.6427,-229.2771 2591.9309,-217.8275\"/>\n<polygon fill=\"#000000\" stroke=\"#000000\" points=\"2594.8303,-219.7909 2597.859,-209.6381 2589.16,-215.6862 2594.8303,-219.7909\"/>\n</g>\n<!-- 37 -->\n<g id=\"node38\" class=\"node\">\n<title>37</title>\n<path fill=\"#e58139\" stroke=\"#000000\" d=\"M2397.5,-83C2397.5,-83 2242.5,-83 2242.5,-83 2236.5,-83 2230.5,-77 2230.5,-71 2230.5,-71 2230.5,-12 2230.5,-12 2230.5,-6 2236.5,0 2242.5,0 2242.5,0 2397.5,0 2397.5,0 2403.5,0 2409.5,-6 2409.5,-12 2409.5,-12 2409.5,-71 2409.5,-71 2409.5,-77 2403.5,-83 2397.5,-83\"/>\n<text text-anchor=\"start\" x=\"2289\" y=\"-67.8\" font-family=\"Helvetica,sans-Serif\" font-size=\"14.00\" fill=\"#000000\">node #37</text>\n<text text-anchor=\"start\" x=\"2290.5\" y=\"-52.8\" font-family=\"Helvetica,sans-Serif\" font-size=\"14.00\" fill=\"#000000\">gini = 0.0</text>\n<text text-anchor=\"start\" x=\"2268\" y=\"-37.8\" font-family=\"Helvetica,sans-Serif\" font-size=\"14.00\" fill=\"#000000\">samples = 0.3%</text>\n<text text-anchor=\"start\" x=\"2238.5\" y=\"-22.8\" font-family=\"Helvetica,sans-Serif\" font-size=\"14.00\" fill=\"#000000\">value = [1.0, 0.0, 0.0, 0.0]</text>\n<text text-anchor=\"start\" x=\"2291\" y=\"-7.8\" font-family=\"Helvetica,sans-Serif\" font-size=\"14.00\" fill=\"#000000\">class = 1</text>\n</g>\n<!-- 36&#45;&gt;37 -->\n<g id=\"edge37\" class=\"edge\">\n<title>36&#45;&gt;37</title>\n<path fill=\"none\" stroke=\"#000000\" d=\"M2382.8826,-118.7296C2375.4556,-109.6081 2367.6961,-100.0783 2360.2648,-90.9514\"/>\n<polygon fill=\"#000000\" stroke=\"#000000\" points=\"2362.8634,-88.5996 2353.8353,-83.055 2357.4352,-93.0195 2362.8634,-88.5996\"/>\n</g>\n<!-- 38 -->\n<g id=\"node39\" class=\"node\">\n<title>38</title>\n<path fill=\"#f6d5bd\" stroke=\"#000000\" d=\"M2610.5,-83C2610.5,-83 2439.5,-83 2439.5,-83 2433.5,-83 2427.5,-77 2427.5,-71 2427.5,-71 2427.5,-12 2427.5,-12 2427.5,-6 2433.5,0 2439.5,0 2439.5,0 2610.5,0 2610.5,0 2616.5,0 2622.5,-6 2622.5,-12 2622.5,-12 2622.5,-71 2622.5,-71 2622.5,-77 2616.5,-83 2610.5,-83\"/>\n<text text-anchor=\"start\" x=\"2494\" y=\"-67.8\" font-family=\"Helvetica,sans-Serif\" font-size=\"14.00\" fill=\"#000000\">node #38</text>\n<text text-anchor=\"start\" x=\"2487\" y=\"-52.8\" font-family=\"Helvetica,sans-Serif\" font-size=\"14.00\" fill=\"#000000\">gini = 0.625</text>\n<text text-anchor=\"start\" x=\"2473\" y=\"-37.8\" font-family=\"Helvetica,sans-Serif\" font-size=\"14.00\" fill=\"#000000\">samples = 1.3%</text>\n<text text-anchor=\"start\" x=\"2435.5\" y=\"-22.8\" font-family=\"Helvetica,sans-Serif\" font-size=\"14.00\" fill=\"#000000\">value = [0.5, 0.25, 0.0, 0.25]</text>\n<text text-anchor=\"start\" x=\"2496\" y=\"-7.8\" font-family=\"Helvetica,sans-Serif\" font-size=\"14.00\" fill=\"#000000\">class = 1</text>\n</g>\n<!-- 36&#45;&gt;38 -->\n<g id=\"edge38\" class=\"edge\">\n<title>36&#45;&gt;38</title>\n<path fill=\"none\" stroke=\"#000000\" d=\"M2462.7279,-118.7296C2470.0828,-109.6081 2477.7669,-100.0783 2485.1261,-90.9514\"/>\n<polygon fill=\"#000000\" stroke=\"#000000\" points=\"2487.9409,-93.0365 2491.4932,-83.055 2482.4917,-88.6427 2487.9409,-93.0365\"/>\n</g>\n<!-- 41 -->\n<g id=\"node42\" class=\"node\">\n<title>41</title>\n<path fill=\"#f6d5bd\" stroke=\"#000000\" d=\"M2911,-485C2911,-485 2707,-485 2707,-485 2701,-485 2695,-479 2695,-473 2695,-473 2695,-399 2695,-399 2695,-393 2701,-387 2707,-387 2707,-387 2911,-387 2911,-387 2917,-387 2923,-393 2923,-399 2923,-399 2923,-473 2923,-473 2923,-479 2917,-485 2911,-485\"/>\n<text text-anchor=\"start\" x=\"2778\" y=\"-469.8\" font-family=\"Helvetica,sans-Serif\" font-size=\"14.00\" fill=\"#000000\">node #41</text>\n<text text-anchor=\"start\" x=\"2774\" y=\"-454.8\" font-family=\"Helvetica,sans-Serif\" font-size=\"14.00\" fill=\"#000000\">Fedu ≤ 1.5</text>\n<text text-anchor=\"start\" x=\"2771\" y=\"-439.8\" font-family=\"Helvetica,sans-Serif\" font-size=\"14.00\" fill=\"#000000\">gini = 0.602</text>\n<text text-anchor=\"start\" x=\"2757\" y=\"-424.8\" font-family=\"Helvetica,sans-Serif\" font-size=\"14.00\" fill=\"#000000\">samples = 5.4%</text>\n<text text-anchor=\"start\" x=\"2703\" y=\"-409.8\" font-family=\"Helvetica,sans-Serif\" font-size=\"14.00\" fill=\"#000000\">value = [0.529, 0.176, 0.294, 0.0]</text>\n<text text-anchor=\"start\" x=\"2780\" y=\"-394.8\" font-family=\"Helvetica,sans-Serif\" font-size=\"14.00\" fill=\"#000000\">class = 1</text>\n</g>\n<!-- 40&#45;&gt;41 -->\n<g id=\"edge41\" class=\"edge\">\n<title>40&#45;&gt;41</title>\n<path fill=\"none\" stroke=\"#000000\" d=\"M2809,-520.8642C2809,-512.5802 2809,-503.903 2809,-495.3918\"/>\n<polygon fill=\"#000000\" stroke=\"#000000\" points=\"2812.5001,-495.1298 2809,-485.1298 2805.5001,-495.1299 2812.5001,-495.1298\"/>\n</g>\n<!-- 48 -->\n<g id=\"node49\" class=\"node\">\n<title>48</title>\n<path fill=\"#ffffff\" stroke=\"#000000\" d=\"M3108.5,-477.5C3108.5,-477.5 2953.5,-477.5 2953.5,-477.5 2947.5,-477.5 2941.5,-471.5 2941.5,-465.5 2941.5,-465.5 2941.5,-406.5 2941.5,-406.5 2941.5,-400.5 2947.5,-394.5 2953.5,-394.5 2953.5,-394.5 3108.5,-394.5 3108.5,-394.5 3114.5,-394.5 3120.5,-400.5 3120.5,-406.5 3120.5,-406.5 3120.5,-465.5 3120.5,-465.5 3120.5,-471.5 3114.5,-477.5 3108.5,-477.5\"/>\n<text text-anchor=\"start\" x=\"3000\" y=\"-462.3\" font-family=\"Helvetica,sans-Serif\" font-size=\"14.00\" fill=\"#000000\">node #48</text>\n<text text-anchor=\"start\" x=\"3001.5\" y=\"-447.3\" font-family=\"Helvetica,sans-Serif\" font-size=\"14.00\" fill=\"#000000\">gini = 0.5</text>\n<text text-anchor=\"start\" x=\"2979\" y=\"-432.3\" font-family=\"Helvetica,sans-Serif\" font-size=\"14.00\" fill=\"#000000\">samples = 0.6%</text>\n<text text-anchor=\"start\" x=\"2949.5\" y=\"-417.3\" font-family=\"Helvetica,sans-Serif\" font-size=\"14.00\" fill=\"#000000\">value = [0.5, 0.5, 0.0, 0.0]</text>\n<text text-anchor=\"start\" x=\"3002\" y=\"-402.3\" font-family=\"Helvetica,sans-Serif\" font-size=\"14.00\" fill=\"#000000\">class = 1</text>\n</g>\n<!-- 40&#45;&gt;48 -->\n<g id=\"edge48\" class=\"edge\">\n<title>40&#45;&gt;48</title>\n<path fill=\"none\" stroke=\"#000000\" d=\"M2890.404,-520.8642C2910.977,-508.4463 2933.0133,-495.1451 2953.3935,-482.8435\"/>\n<polygon fill=\"#000000\" stroke=\"#000000\" points=\"2955.2648,-485.8023 2962.0174,-477.6381 2951.6474,-479.8094 2955.2648,-485.8023\"/>\n</g>\n<!-- 42 -->\n<g id=\"node43\" class=\"node\">\n<title>42</title>\n<path fill=\"#f8dbc6\" stroke=\"#000000\" d=\"M2910.5,-351C2910.5,-351 2755.5,-351 2755.5,-351 2749.5,-351 2743.5,-345 2743.5,-339 2743.5,-339 2743.5,-265 2743.5,-265 2743.5,-259 2749.5,-253 2755.5,-253 2755.5,-253 2910.5,-253 2910.5,-253 2916.5,-253 2922.5,-259 2922.5,-265 2922.5,-265 2922.5,-339 2922.5,-339 2922.5,-345 2916.5,-351 2910.5,-351\"/>\n<text text-anchor=\"start\" x=\"2802\" y=\"-335.8\" font-family=\"Helvetica,sans-Serif\" font-size=\"14.00\" fill=\"#000000\">node #42</text>\n<text text-anchor=\"start\" x=\"2796.5\" y=\"-320.8\" font-family=\"Helvetica,sans-Serif\" font-size=\"14.00\" fill=\"#000000\">Medu ≤ 1.5</text>\n<text text-anchor=\"start\" x=\"2799.5\" y=\"-305.8\" font-family=\"Helvetica,sans-Serif\" font-size=\"14.00\" fill=\"#000000\">gini = 0.62</text>\n<text text-anchor=\"start\" x=\"2781\" y=\"-290.8\" font-family=\"Helvetica,sans-Serif\" font-size=\"14.00\" fill=\"#000000\">samples = 3.2%</text>\n<text text-anchor=\"start\" x=\"2751.5\" y=\"-275.8\" font-family=\"Helvetica,sans-Serif\" font-size=\"14.00\" fill=\"#000000\">value = [0.5, 0.2, 0.3, 0.0]</text>\n<text text-anchor=\"start\" x=\"2804\" y=\"-260.8\" font-family=\"Helvetica,sans-Serif\" font-size=\"14.00\" fill=\"#000000\">class = 1</text>\n</g>\n<!-- 41&#45;&gt;42 -->\n<g id=\"edge42\" class=\"edge\">\n<title>41&#45;&gt;42</title>\n<path fill=\"none\" stroke=\"#000000\" d=\"M2817.8004,-386.8642C2819.3005,-378.4891 2820.8724,-369.7123 2822.4129,-361.1113\"/>\n<polygon fill=\"#000000\" stroke=\"#000000\" points=\"2825.8827,-361.5903 2824.2006,-351.1298 2818.9924,-360.3561 2825.8827,-361.5903\"/>\n</g>\n<!-- 45 -->\n<g id=\"node46\" class=\"node\">\n<title>45</title>\n<path fill=\"#f5cdb0\" stroke=\"#000000\" d=\"M3329,-351C3329,-351 3125,-351 3125,-351 3119,-351 3113,-345 3113,-339 3113,-339 3113,-265 3113,-265 3113,-259 3119,-253 3125,-253 3125,-253 3329,-253 3329,-253 3335,-253 3341,-259 3341,-265 3341,-265 3341,-339 3341,-339 3341,-345 3335,-351 3329,-351\"/>\n<text text-anchor=\"start\" x=\"3196\" y=\"-335.8\" font-family=\"Helvetica,sans-Serif\" font-size=\"14.00\" fill=\"#000000\">node #45</text>\n<text text-anchor=\"start\" x=\"3190.5\" y=\"-320.8\" font-family=\"Helvetica,sans-Serif\" font-size=\"14.00\" fill=\"#000000\">Medu ≤ 1.5</text>\n<text text-anchor=\"start\" x=\"3189\" y=\"-305.8\" font-family=\"Helvetica,sans-Serif\" font-size=\"14.00\" fill=\"#000000\">gini = 0.571</text>\n<text text-anchor=\"start\" x=\"3175\" y=\"-290.8\" font-family=\"Helvetica,sans-Serif\" font-size=\"14.00\" fill=\"#000000\">samples = 2.2%</text>\n<text text-anchor=\"start\" x=\"3121\" y=\"-275.8\" font-family=\"Helvetica,sans-Serif\" font-size=\"14.00\" fill=\"#000000\">value = [0.571, 0.143, 0.286, 0.0]</text>\n<text text-anchor=\"start\" x=\"3198\" y=\"-260.8\" font-family=\"Helvetica,sans-Serif\" font-size=\"14.00\" fill=\"#000000\">class = 1</text>\n</g>\n<!-- 41&#45;&gt;45 -->\n<g id=\"edge45\" class=\"edge\">\n<title>41&#45;&gt;45</title>\n<path fill=\"none\" stroke=\"#000000\" d=\"M2923.1067,-390.0999C2926.0958,-389.0403 2929.0641,-388.005 2932,-387 2987.5416,-367.9868 3049.8989,-349.5996 3102.9253,-334.8194\"/>\n<polygon fill=\"#000000\" stroke=\"#000000\" points=\"3104.0146,-338.1494 3112.7141,-332.1022 3102.1423,-331.4044 3104.0146,-338.1494\"/>\n</g>\n<!-- 43 -->\n<g id=\"node44\" class=\"node\">\n<title>43</title>\n<path fill=\"#f2c09c\" stroke=\"#000000\" d=\"M2910.5,-209.5C2910.5,-209.5 2755.5,-209.5 2755.5,-209.5 2749.5,-209.5 2743.5,-203.5 2743.5,-197.5 2743.5,-197.5 2743.5,-138.5 2743.5,-138.5 2743.5,-132.5 2749.5,-126.5 2755.5,-126.5 2755.5,-126.5 2910.5,-126.5 2910.5,-126.5 2916.5,-126.5 2922.5,-132.5 2922.5,-138.5 2922.5,-138.5 2922.5,-197.5 2922.5,-197.5 2922.5,-203.5 2916.5,-209.5 2910.5,-209.5\"/>\n<text text-anchor=\"start\" x=\"2802\" y=\"-194.3\" font-family=\"Helvetica,sans-Serif\" font-size=\"14.00\" fill=\"#000000\">node #43</text>\n<text text-anchor=\"start\" x=\"2799.5\" y=\"-179.3\" font-family=\"Helvetica,sans-Serif\" font-size=\"14.00\" fill=\"#000000\">gini = 0.56</text>\n<text text-anchor=\"start\" x=\"2781\" y=\"-164.3\" font-family=\"Helvetica,sans-Serif\" font-size=\"14.00\" fill=\"#000000\">samples = 1.6%</text>\n<text text-anchor=\"start\" x=\"2751.5\" y=\"-149.3\" font-family=\"Helvetica,sans-Serif\" font-size=\"14.00\" fill=\"#000000\">value = [0.6, 0.2, 0.2, 0.0]</text>\n<text text-anchor=\"start\" x=\"2804\" y=\"-134.3\" font-family=\"Helvetica,sans-Serif\" font-size=\"14.00\" fill=\"#000000\">class = 1</text>\n</g>\n<!-- 42&#45;&gt;43 -->\n<g id=\"edge43\" class=\"edge\">\n<title>42&#45;&gt;43</title>\n<path fill=\"none\" stroke=\"#000000\" d=\"M2833,-252.8642C2833,-242.1094 2833,-230.6921 2833,-219.8354\"/>\n<polygon fill=\"#000000\" stroke=\"#000000\" points=\"2836.5001,-219.6381 2833,-209.6381 2829.5001,-219.6382 2836.5001,-219.6381\"/>\n</g>\n<!-- 44 -->\n<g id=\"node45\" class=\"node\">\n<title>44</title>\n<path fill=\"#ffffff\" stroke=\"#000000\" d=\"M3107.5,-209.5C3107.5,-209.5 2952.5,-209.5 2952.5,-209.5 2946.5,-209.5 2940.5,-203.5 2940.5,-197.5 2940.5,-197.5 2940.5,-138.5 2940.5,-138.5 2940.5,-132.5 2946.5,-126.5 2952.5,-126.5 2952.5,-126.5 3107.5,-126.5 3107.5,-126.5 3113.5,-126.5 3119.5,-132.5 3119.5,-138.5 3119.5,-138.5 3119.5,-197.5 3119.5,-197.5 3119.5,-203.5 3113.5,-209.5 3107.5,-209.5\"/>\n<text text-anchor=\"start\" x=\"2999\" y=\"-194.3\" font-family=\"Helvetica,sans-Serif\" font-size=\"14.00\" fill=\"#000000\">node #44</text>\n<text text-anchor=\"start\" x=\"2996.5\" y=\"-179.3\" font-family=\"Helvetica,sans-Serif\" font-size=\"14.00\" fill=\"#000000\">gini = 0.64</text>\n<text text-anchor=\"start\" x=\"2978\" y=\"-164.3\" font-family=\"Helvetica,sans-Serif\" font-size=\"14.00\" fill=\"#000000\">samples = 1.6%</text>\n<text text-anchor=\"start\" x=\"2948.5\" y=\"-149.3\" font-family=\"Helvetica,sans-Serif\" font-size=\"14.00\" fill=\"#000000\">value = [0.4, 0.2, 0.4, 0.0]</text>\n<text text-anchor=\"start\" x=\"3001\" y=\"-134.3\" font-family=\"Helvetica,sans-Serif\" font-size=\"14.00\" fill=\"#000000\">class = 1</text>\n</g>\n<!-- 42&#45;&gt;44 -->\n<g id=\"edge44\" class=\"edge\">\n<title>42&#45;&gt;44</title>\n<path fill=\"none\" stroke=\"#000000\" d=\"M2905.2369,-252.8642C2923.1671,-240.668 2942.3499,-227.6199 2960.1628,-215.5035\"/>\n<polygon fill=\"#000000\" stroke=\"#000000\" points=\"2962.4857,-218.1564 2968.7857,-209.6381 2958.5487,-212.3685 2962.4857,-218.1564\"/>\n</g>\n<!-- 46 -->\n<g id=\"node47\" class=\"node\">\n<title>46</title>\n<path fill=\"#399de5\" stroke=\"#000000\" d=\"M3304.5,-209.5C3304.5,-209.5 3149.5,-209.5 3149.5,-209.5 3143.5,-209.5 3137.5,-203.5 3137.5,-197.5 3137.5,-197.5 3137.5,-138.5 3137.5,-138.5 3137.5,-132.5 3143.5,-126.5 3149.5,-126.5 3149.5,-126.5 3304.5,-126.5 3304.5,-126.5 3310.5,-126.5 3316.5,-132.5 3316.5,-138.5 3316.5,-138.5 3316.5,-197.5 3316.5,-197.5 3316.5,-203.5 3310.5,-209.5 3304.5,-209.5\"/>\n<text text-anchor=\"start\" x=\"3196\" y=\"-194.3\" font-family=\"Helvetica,sans-Serif\" font-size=\"14.00\" fill=\"#000000\">node #46</text>\n<text text-anchor=\"start\" x=\"3197.5\" y=\"-179.3\" font-family=\"Helvetica,sans-Serif\" font-size=\"14.00\" fill=\"#000000\">gini = 0.0</text>\n<text text-anchor=\"start\" x=\"3175\" y=\"-164.3\" font-family=\"Helvetica,sans-Serif\" font-size=\"14.00\" fill=\"#000000\">samples = 0.3%</text>\n<text text-anchor=\"start\" x=\"3145.5\" y=\"-149.3\" font-family=\"Helvetica,sans-Serif\" font-size=\"14.00\" fill=\"#000000\">value = [0.0, 0.0, 1.0, 0.0]</text>\n<text text-anchor=\"start\" x=\"3198\" y=\"-134.3\" font-family=\"Helvetica,sans-Serif\" font-size=\"14.00\" fill=\"#000000\">class = 3</text>\n</g>\n<!-- 45&#45;&gt;46 -->\n<g id=\"edge46\" class=\"edge\">\n<title>45&#45;&gt;46</title>\n<path fill=\"none\" stroke=\"#000000\" d=\"M3227,-252.8642C3227,-242.1094 3227,-230.6921 3227,-219.8354\"/>\n<polygon fill=\"#000000\" stroke=\"#000000\" points=\"3230.5001,-219.6381 3227,-209.6381 3223.5001,-219.6382 3230.5001,-219.6381\"/>\n</g>\n<!-- 47 -->\n<g id=\"node48\" class=\"node\">\n<title>47</title>\n<path fill=\"#efb388\" stroke=\"#000000\" d=\"M3551,-209.5C3551,-209.5 3347,-209.5 3347,-209.5 3341,-209.5 3335,-203.5 3335,-197.5 3335,-197.5 3335,-138.5 3335,-138.5 3335,-132.5 3341,-126.5 3347,-126.5 3347,-126.5 3551,-126.5 3551,-126.5 3557,-126.5 3563,-132.5 3563,-138.5 3563,-138.5 3563,-197.5 3563,-197.5 3563,-203.5 3557,-209.5 3551,-209.5\"/>\n<text text-anchor=\"start\" x=\"3418\" y=\"-194.3\" font-family=\"Helvetica,sans-Serif\" font-size=\"14.00\" fill=\"#000000\">node #47</text>\n<text text-anchor=\"start\" x=\"3419.5\" y=\"-179.3\" font-family=\"Helvetica,sans-Serif\" font-size=\"14.00\" fill=\"#000000\">gini = 0.5</text>\n<text text-anchor=\"start\" x=\"3397\" y=\"-164.3\" font-family=\"Helvetica,sans-Serif\" font-size=\"14.00\" fill=\"#000000\">samples = 1.9%</text>\n<text text-anchor=\"start\" x=\"3343\" y=\"-149.3\" font-family=\"Helvetica,sans-Serif\" font-size=\"14.00\" fill=\"#000000\">value = [0.667, 0.167, 0.167, 0.0]</text>\n<text text-anchor=\"start\" x=\"3420\" y=\"-134.3\" font-family=\"Helvetica,sans-Serif\" font-size=\"14.00\" fill=\"#000000\">class = 1</text>\n</g>\n<!-- 45&#45;&gt;47 -->\n<g id=\"edge47\" class=\"edge\">\n<title>45&#45;&gt;47</title>\n<path fill=\"none\" stroke=\"#000000\" d=\"M3308.404,-252.8642C3328.977,-240.4463 3351.0133,-227.1451 3371.3935,-214.8435\"/>\n<polygon fill=\"#000000\" stroke=\"#000000\" points=\"3373.2648,-217.8023 3380.0174,-209.6381 3369.6474,-211.8094 3373.2648,-217.8023\"/>\n</g>\n<!-- 50 -->\n<g id=\"node51\" class=\"node\">\n<title>50</title>\n<path fill=\"#bddef6\" stroke=\"#000000\" d=\"M3280.5,-879.5C3280.5,-879.5 3109.5,-879.5 3109.5,-879.5 3103.5,-879.5 3097.5,-873.5 3097.5,-867.5 3097.5,-867.5 3097.5,-808.5 3097.5,-808.5 3097.5,-802.5 3103.5,-796.5 3109.5,-796.5 3109.5,-796.5 3280.5,-796.5 3280.5,-796.5 3286.5,-796.5 3292.5,-802.5 3292.5,-808.5 3292.5,-808.5 3292.5,-867.5 3292.5,-867.5 3292.5,-873.5 3286.5,-879.5 3280.5,-879.5\"/>\n<text text-anchor=\"start\" x=\"3164\" y=\"-864.3\" font-family=\"Helvetica,sans-Serif\" font-size=\"14.00\" fill=\"#000000\">node #50</text>\n<text text-anchor=\"start\" x=\"3157\" y=\"-849.3\" font-family=\"Helvetica,sans-Serif\" font-size=\"14.00\" fill=\"#000000\">gini = 0.625</text>\n<text text-anchor=\"start\" x=\"3143\" y=\"-834.3\" font-family=\"Helvetica,sans-Serif\" font-size=\"14.00\" fill=\"#000000\">samples = 1.3%</text>\n<text text-anchor=\"start\" x=\"3105.5\" y=\"-819.3\" font-family=\"Helvetica,sans-Serif\" font-size=\"14.00\" fill=\"#000000\">value = [0.0, 0.25, 0.5, 0.25]</text>\n<text text-anchor=\"start\" x=\"3166\" y=\"-804.3\" font-family=\"Helvetica,sans-Serif\" font-size=\"14.00\" fill=\"#000000\">class = 3</text>\n</g>\n<!-- 49&#45;&gt;50 -->\n<g id=\"edge50\" class=\"edge\">\n<title>49&#45;&gt;50</title>\n<path fill=\"none\" stroke=\"#000000\" d=\"M3259.5982,-922.8642C3250.9053,-911.4442 3241.6438,-899.2771 3232.9284,-887.8275\"/>\n<polygon fill=\"#000000\" stroke=\"#000000\" points=\"3235.5366,-885.4753 3226.6947,-879.6381 3229.9666,-889.7151 3235.5366,-885.4753\"/>\n</g>\n<!-- 51 -->\n<g id=\"node52\" class=\"node\">\n<title>51</title>\n<path fill=\"#399de5\" stroke=\"#000000\" d=\"M3477.5,-879.5C3477.5,-879.5 3322.5,-879.5 3322.5,-879.5 3316.5,-879.5 3310.5,-873.5 3310.5,-867.5 3310.5,-867.5 3310.5,-808.5 3310.5,-808.5 3310.5,-802.5 3316.5,-796.5 3322.5,-796.5 3322.5,-796.5 3477.5,-796.5 3477.5,-796.5 3483.5,-796.5 3489.5,-802.5 3489.5,-808.5 3489.5,-808.5 3489.5,-867.5 3489.5,-867.5 3489.5,-873.5 3483.5,-879.5 3477.5,-879.5\"/>\n<text text-anchor=\"start\" x=\"3369\" y=\"-864.3\" font-family=\"Helvetica,sans-Serif\" font-size=\"14.00\" fill=\"#000000\">node #51</text>\n<text text-anchor=\"start\" x=\"3370.5\" y=\"-849.3\" font-family=\"Helvetica,sans-Serif\" font-size=\"14.00\" fill=\"#000000\">gini = 0.0</text>\n<text text-anchor=\"start\" x=\"3348\" y=\"-834.3\" font-family=\"Helvetica,sans-Serif\" font-size=\"14.00\" fill=\"#000000\">samples = 0.6%</text>\n<text text-anchor=\"start\" x=\"3318.5\" y=\"-819.3\" font-family=\"Helvetica,sans-Serif\" font-size=\"14.00\" fill=\"#000000\">value = [0.0, 0.0, 1.0, 0.0]</text>\n<text text-anchor=\"start\" x=\"3371\" y=\"-804.3\" font-family=\"Helvetica,sans-Serif\" font-size=\"14.00\" fill=\"#000000\">class = 3</text>\n</g>\n<!-- 49&#45;&gt;51 -->\n<g id=\"edge51\" class=\"edge\">\n<title>49&#45;&gt;51</title>\n<path fill=\"none\" stroke=\"#000000\" d=\"M3334.7685,-922.8642C3343.5467,-911.4442 3352.899,-899.2771 3361.6998,-887.8275\"/>\n<polygon fill=\"#000000\" stroke=\"#000000\" points=\"3364.6752,-889.6996 3367.9946,-879.6381 3359.1253,-885.4336 3364.6752,-889.6996\"/>\n</g>\n<!-- 53 -->\n<g id=\"node54\" class=\"node\">\n<title>53</title>\n<path fill=\"#fdfffd\" stroke=\"#000000\" d=\"M4672,-1021C4672,-1021 4460,-1021 4460,-1021 4454,-1021 4448,-1015 4448,-1009 4448,-1009 4448,-935 4448,-935 4448,-929 4454,-923 4460,-923 4460,-923 4672,-923 4672,-923 4678,-923 4684,-929 4684,-935 4684,-935 4684,-1009 4684,-1009 4684,-1015 4678,-1021 4672,-1021\"/>\n<text text-anchor=\"start\" x=\"4535\" y=\"-1005.8\" font-family=\"Helvetica,sans-Serif\" font-size=\"14.00\" fill=\"#000000\">node #53</text>\n<text text-anchor=\"start\" x=\"4529.5\" y=\"-990.8\" font-family=\"Helvetica,sans-Serif\" font-size=\"14.00\" fill=\"#000000\">Medu ≤ 3.5</text>\n<text text-anchor=\"start\" x=\"4528\" y=\"-975.8\" font-family=\"Helvetica,sans-Serif\" font-size=\"14.00\" fill=\"#000000\">gini = 0.741</text>\n<text text-anchor=\"start\" x=\"4510\" y=\"-960.8\" font-family=\"Helvetica,sans-Serif\" font-size=\"14.00\" fill=\"#000000\">samples = 43.4%</text>\n<text text-anchor=\"start\" x=\"4456\" y=\"-945.8\" font-family=\"Helvetica,sans-Serif\" font-size=\"14.00\" fill=\"#000000\">value = [0.19, 0.299, 0.219, 0.292]</text>\n<text text-anchor=\"start\" x=\"4537\" y=\"-930.8\" font-family=\"Helvetica,sans-Serif\" font-size=\"14.00\" fill=\"#000000\">class = 2</text>\n</g>\n<!-- 52&#45;&gt;53 -->\n<g id=\"edge53\" class=\"edge\">\n<title>52&#45;&gt;53</title>\n<path fill=\"none\" stroke=\"#000000\" d=\"M4566,-1056.8642C4566,-1048.5802 4566,-1039.903 4566,-1031.3918\"/>\n<polygon fill=\"#000000\" stroke=\"#000000\" points=\"4569.5001,-1031.1298 4566,-1021.1298 4562.5001,-1031.1299 4569.5001,-1031.1298\"/>\n</g>\n<!-- 84 -->\n<g id=\"node85\" class=\"node\">\n<title>84</title>\n<path fill=\"#fafef9\" stroke=\"#000000\" d=\"M5619.5,-1021C5619.5,-1021 5398.5,-1021 5398.5,-1021 5392.5,-1021 5386.5,-1015 5386.5,-1009 5386.5,-1009 5386.5,-935 5386.5,-935 5386.5,-929 5392.5,-923 5398.5,-923 5398.5,-923 5619.5,-923 5619.5,-923 5625.5,-923 5631.5,-929 5631.5,-935 5631.5,-935 5631.5,-1009 5631.5,-1009 5631.5,-1015 5625.5,-1021 5619.5,-1021\"/>\n<text text-anchor=\"start\" x=\"5478\" y=\"-1005.8\" font-family=\"Helvetica,sans-Serif\" font-size=\"14.00\" fill=\"#000000\">node #84</text>\n<text text-anchor=\"start\" x=\"5474\" y=\"-990.8\" font-family=\"Helvetica,sans-Serif\" font-size=\"14.00\" fill=\"#000000\">Fedu ≤ 1.5</text>\n<text text-anchor=\"start\" x=\"5471\" y=\"-975.8\" font-family=\"Helvetica,sans-Serif\" font-size=\"14.00\" fill=\"#000000\">gini = 0.715</text>\n<text text-anchor=\"start\" x=\"5453\" y=\"-960.8\" font-family=\"Helvetica,sans-Serif\" font-size=\"14.00\" fill=\"#000000\">samples = 16.1%</text>\n<text text-anchor=\"start\" x=\"5394.5\" y=\"-945.8\" font-family=\"Helvetica,sans-Serif\" font-size=\"14.00\" fill=\"#000000\">value = [0.333, 0.353, 0.157, 0.157]</text>\n<text text-anchor=\"start\" x=\"5480\" y=\"-930.8\" font-family=\"Helvetica,sans-Serif\" font-size=\"14.00\" fill=\"#000000\">class = 2</text>\n</g>\n<!-- 52&#45;&gt;84 -->\n<g id=\"edge84\" class=\"edge\">\n<title>52&#45;&gt;84</title>\n<path fill=\"none\" stroke=\"#000000\" d=\"M4688.797,-1088.5506C4866.3433,-1063.3213 5193.4489,-1016.8397 5376.3488,-990.8497\"/>\n<polygon fill=\"#000000\" stroke=\"#000000\" points=\"5376.8878,-994.3083 5386.2959,-989.4362 5375.903,-987.378 5376.8878,-994.3083\"/>\n</g>\n<!-- 54 -->\n<g id=\"node55\" class=\"node\">\n<title>54</title>\n<path fill=\"#ddfada\" stroke=\"#000000\" d=\"M4539,-887C4539,-887 4327,-887 4327,-887 4321,-887 4315,-881 4315,-875 4315,-875 4315,-801 4315,-801 4315,-795 4321,-789 4327,-789 4327,-789 4539,-789 4539,-789 4545,-789 4551,-795 4551,-801 4551,-801 4551,-875 4551,-875 4551,-881 4545,-887 4539,-887\"/>\n<text text-anchor=\"start\" x=\"4402\" y=\"-871.8\" font-family=\"Helvetica,sans-Serif\" font-size=\"14.00\" fill=\"#000000\">node #54</text>\n<text text-anchor=\"start\" x=\"4398\" y=\"-856.8\" font-family=\"Helvetica,sans-Serif\" font-size=\"14.00\" fill=\"#000000\">Fedu ≤ 2.5</text>\n<text text-anchor=\"start\" x=\"4395\" y=\"-841.8\" font-family=\"Helvetica,sans-Serif\" font-size=\"14.00\" fill=\"#000000\">gini = 0.719</text>\n<text text-anchor=\"start\" x=\"4377\" y=\"-826.8\" font-family=\"Helvetica,sans-Serif\" font-size=\"14.00\" fill=\"#000000\">samples = 18.0%</text>\n<text text-anchor=\"start\" x=\"4323\" y=\"-811.8\" font-family=\"Helvetica,sans-Serif\" font-size=\"14.00\" fill=\"#000000\">value = [0.246, 0.386, 0.14, 0.228]</text>\n<text text-anchor=\"start\" x=\"4404\" y=\"-796.8\" font-family=\"Helvetica,sans-Serif\" font-size=\"14.00\" fill=\"#000000\">class = 2</text>\n</g>\n<!-- 53&#45;&gt;54 -->\n<g id=\"edge54\" class=\"edge\">\n<title>53&#45;&gt;54</title>\n<path fill=\"none\" stroke=\"#000000\" d=\"M4517.2309,-922.8642C4508.0148,-913.5788 4498.3085,-903.7995 4488.8933,-894.3136\"/>\n<polygon fill=\"#000000\" stroke=\"#000000\" points=\"4491.2919,-891.7618 4481.7632,-887.1298 4486.3236,-896.693 4491.2919,-891.7618\"/>\n</g>\n<!-- 69 -->\n<g id=\"node70\" class=\"node\">\n<title>69</title>\n<path fill=\"#fceefd\" stroke=\"#000000\" d=\"M4806,-887C4806,-887 4594,-887 4594,-887 4588,-887 4582,-881 4582,-875 4582,-875 4582,-801 4582,-801 4582,-795 4588,-789 4594,-789 4594,-789 4806,-789 4806,-789 4812,-789 4818,-795 4818,-801 4818,-801 4818,-875 4818,-875 4818,-881 4812,-887 4806,-887\"/>\n<text text-anchor=\"start\" x=\"4669\" y=\"-871.8\" font-family=\"Helvetica,sans-Serif\" font-size=\"14.00\" fill=\"#000000\">node #69</text>\n<text text-anchor=\"start\" x=\"4665\" y=\"-856.8\" font-family=\"Helvetica,sans-Serif\" font-size=\"14.00\" fill=\"#000000\">Fedu ≤ 0.5</text>\n<text text-anchor=\"start\" x=\"4662\" y=\"-841.8\" font-family=\"Helvetica,sans-Serif\" font-size=\"14.00\" fill=\"#000000\">gini = 0.732</text>\n<text text-anchor=\"start\" x=\"4644\" y=\"-826.8\" font-family=\"Helvetica,sans-Serif\" font-size=\"14.00\" fill=\"#000000\">samples = 25.3%</text>\n<text text-anchor=\"start\" x=\"4590\" y=\"-811.8\" font-family=\"Helvetica,sans-Serif\" font-size=\"14.00\" fill=\"#000000\">value = [0.15, 0.238, 0.275, 0.338]</text>\n<text text-anchor=\"start\" x=\"4671\" y=\"-796.8\" font-family=\"Helvetica,sans-Serif\" font-size=\"14.00\" fill=\"#000000\">class = 4</text>\n</g>\n<!-- 53&#45;&gt;69 -->\n<g id=\"edge69\" class=\"edge\">\n<title>53&#45;&gt;69</title>\n<path fill=\"none\" stroke=\"#000000\" d=\"M4615.1358,-922.8642C4624.4212,-913.5788 4634.2005,-903.7995 4643.6864,-894.3136\"/>\n<polygon fill=\"#000000\" stroke=\"#000000\" points=\"4646.274,-896.6758 4650.8702,-887.1298 4641.3242,-891.726 4646.274,-896.6758\"/>\n</g>\n<!-- 55 -->\n<g id=\"node56\" class=\"node\">\n<title>55</title>\n<path fill=\"#f8defb\" stroke=\"#000000\" d=\"M3917,-753C3917,-753 3713,-753 3713,-753 3707,-753 3701,-747 3701,-741 3701,-741 3701,-667 3701,-667 3701,-661 3707,-655 3713,-655 3713,-655 3917,-655 3917,-655 3923,-655 3929,-661 3929,-667 3929,-667 3929,-741 3929,-741 3929,-747 3923,-753 3917,-753\"/>\n<text text-anchor=\"start\" x=\"3784\" y=\"-737.8\" font-family=\"Helvetica,sans-Serif\" font-size=\"14.00\" fill=\"#000000\">node #55</text>\n<text text-anchor=\"start\" x=\"3785.5\" y=\"-722.8\" font-family=\"Helvetica,sans-Serif\" font-size=\"14.00\" fill=\"#000000\">sex ≤ 1.5</text>\n<text text-anchor=\"start\" x=\"3777\" y=\"-707.8\" font-family=\"Helvetica,sans-Serif\" font-size=\"14.00\" fill=\"#000000\">gini = 0.719</text>\n<text text-anchor=\"start\" x=\"3763\" y=\"-692.8\" font-family=\"Helvetica,sans-Serif\" font-size=\"14.00\" fill=\"#000000\">samples = 7.6%</text>\n<text text-anchor=\"start\" x=\"3709\" y=\"-677.8\" font-family=\"Helvetica,sans-Serif\" font-size=\"14.00\" fill=\"#000000\">value = [0.25, 0.25, 0.125, 0.375]</text>\n<text text-anchor=\"start\" x=\"3786\" y=\"-662.8\" font-family=\"Helvetica,sans-Serif\" font-size=\"14.00\" fill=\"#000000\">class = 4</text>\n</g>\n<!-- 54&#45;&gt;55 -->\n<g id=\"edge55\" class=\"edge\">\n<title>54&#45;&gt;55</title>\n<path fill=\"none\" stroke=\"#000000\" d=\"M4314.9396,-812.4012C4207.2186,-789.0442 4048.5815,-754.6471 3939.0292,-730.8931\"/>\n<polygon fill=\"#000000\" stroke=\"#000000\" points=\"3939.7614,-727.4706 3929.2468,-728.772 3938.278,-734.3116 3939.7614,-727.4706\"/>\n</g>\n<!-- 62 -->\n<g id=\"node63\" class=\"node\">\n<title>62</title>\n<path fill=\"#c4f7c0\" stroke=\"#000000\" d=\"M4543.5,-753C4543.5,-753 4322.5,-753 4322.5,-753 4316.5,-753 4310.5,-747 4310.5,-741 4310.5,-741 4310.5,-667 4310.5,-667 4310.5,-661 4316.5,-655 4322.5,-655 4322.5,-655 4543.5,-655 4543.5,-655 4549.5,-655 4555.5,-661 4555.5,-667 4555.5,-667 4555.5,-741 4555.5,-741 4555.5,-747 4549.5,-753 4543.5,-753\"/>\n<text text-anchor=\"start\" x=\"4402\" y=\"-737.8\" font-family=\"Helvetica,sans-Serif\" font-size=\"14.00\" fill=\"#000000\">node #62</text>\n<text text-anchor=\"start\" x=\"4403.5\" y=\"-722.8\" font-family=\"Helvetica,sans-Serif\" font-size=\"14.00\" fill=\"#000000\">sex ≤ 1.5</text>\n<text text-anchor=\"start\" x=\"4395\" y=\"-707.8\" font-family=\"Helvetica,sans-Serif\" font-size=\"14.00\" fill=\"#000000\">gini = 0.669</text>\n<text text-anchor=\"start\" x=\"4377\" y=\"-692.8\" font-family=\"Helvetica,sans-Serif\" font-size=\"14.00\" fill=\"#000000\">samples = 10.4%</text>\n<text text-anchor=\"start\" x=\"4318.5\" y=\"-677.8\" font-family=\"Helvetica,sans-Serif\" font-size=\"14.00\" fill=\"#000000\">value = [0.242, 0.485, 0.152, 0.121]</text>\n<text text-anchor=\"start\" x=\"4404\" y=\"-662.8\" font-family=\"Helvetica,sans-Serif\" font-size=\"14.00\" fill=\"#000000\">class = 2</text>\n</g>\n<!-- 54&#45;&gt;62 -->\n<g id=\"edge62\" class=\"edge\">\n<title>54&#45;&gt;62</title>\n<path fill=\"none\" stroke=\"#000000\" d=\"M4433,-788.8642C4433,-780.5802 4433,-771.903 4433,-763.3918\"/>\n<polygon fill=\"#000000\" stroke=\"#000000\" points=\"4436.5001,-763.1298 4433,-753.1298 4429.5001,-763.1299 4436.5001,-763.1298\"/>\n</g>\n<!-- 56 -->\n<g id=\"node57\" class=\"node\">\n<title>56</title>\n<path fill=\"#ffffff\" stroke=\"#000000\" d=\"M3568.5,-619C3568.5,-619 3347.5,-619 3347.5,-619 3341.5,-619 3335.5,-613 3335.5,-607 3335.5,-607 3335.5,-533 3335.5,-533 3335.5,-527 3341.5,-521 3347.5,-521 3347.5,-521 3568.5,-521 3568.5,-521 3574.5,-521 3580.5,-527 3580.5,-533 3580.5,-533 3580.5,-607 3580.5,-607 3580.5,-613 3574.5,-619 3568.5,-619\"/>\n<text text-anchor=\"start\" x=\"3427\" y=\"-603.8\" font-family=\"Helvetica,sans-Serif\" font-size=\"14.00\" fill=\"#000000\">node #56</text>\n<text text-anchor=\"start\" x=\"3423\" y=\"-588.8\" font-family=\"Helvetica,sans-Serif\" font-size=\"14.00\" fill=\"#000000\">Fedu ≤ 1.5</text>\n<text text-anchor=\"start\" x=\"3420\" y=\"-573.8\" font-family=\"Helvetica,sans-Serif\" font-size=\"14.00\" fill=\"#000000\">gini = 0.694</text>\n<text text-anchor=\"start\" x=\"3406\" y=\"-558.8\" font-family=\"Helvetica,sans-Serif\" font-size=\"14.00\" fill=\"#000000\">samples = 4.4%</text>\n<text text-anchor=\"start\" x=\"3343.5\" y=\"-543.8\" font-family=\"Helvetica,sans-Serif\" font-size=\"14.00\" fill=\"#000000\">value = [0.357, 0.214, 0.071, 0.357]</text>\n<text text-anchor=\"start\" x=\"3429\" y=\"-528.8\" font-family=\"Helvetica,sans-Serif\" font-size=\"14.00\" fill=\"#000000\">class = 1</text>\n</g>\n<!-- 55&#45;&gt;56 -->\n<g id=\"edge56\" class=\"edge\">\n<title>55&#45;&gt;56</title>\n<path fill=\"none\" stroke=\"#000000\" d=\"M3700.5699,-661.0486C3665.4666,-647.8726 3626.5518,-633.2659 3590.3551,-619.6795\"/>\n<polygon fill=\"#000000\" stroke=\"#000000\" points=\"3591.3132,-616.3008 3580.7211,-616.0634 3588.8533,-622.8543 3591.3132,-616.3008\"/>\n</g>\n<!-- 59 -->\n<g id=\"node60\" class=\"node\">\n<title>59</title>\n<path fill=\"#f9e3fb\" stroke=\"#000000\" d=\"M3892.5,-619C3892.5,-619 3737.5,-619 3737.5,-619 3731.5,-619 3725.5,-613 3725.5,-607 3725.5,-607 3725.5,-533 3725.5,-533 3725.5,-527 3731.5,-521 3737.5,-521 3737.5,-521 3892.5,-521 3892.5,-521 3898.5,-521 3904.5,-527 3904.5,-533 3904.5,-533 3904.5,-607 3904.5,-607 3904.5,-613 3898.5,-619 3892.5,-619\"/>\n<text text-anchor=\"start\" x=\"3784\" y=\"-603.8\" font-family=\"Helvetica,sans-Serif\" font-size=\"14.00\" fill=\"#000000\">node #59</text>\n<text text-anchor=\"start\" x=\"3780\" y=\"-588.8\" font-family=\"Helvetica,sans-Serif\" font-size=\"14.00\" fill=\"#000000\">Fedu ≤ 1.5</text>\n<text text-anchor=\"start\" x=\"3785.5\" y=\"-573.8\" font-family=\"Helvetica,sans-Serif\" font-size=\"14.00\" fill=\"#000000\">gini = 0.7</text>\n<text text-anchor=\"start\" x=\"3763\" y=\"-558.8\" font-family=\"Helvetica,sans-Serif\" font-size=\"14.00\" fill=\"#000000\">samples = 3.2%</text>\n<text text-anchor=\"start\" x=\"3733.5\" y=\"-543.8\" font-family=\"Helvetica,sans-Serif\" font-size=\"14.00\" fill=\"#000000\">value = [0.1, 0.3, 0.2, 0.4]</text>\n<text text-anchor=\"start\" x=\"3786\" y=\"-528.8\" font-family=\"Helvetica,sans-Serif\" font-size=\"14.00\" fill=\"#000000\">class = 4</text>\n</g>\n<!-- 55&#45;&gt;59 -->\n<g id=\"edge59\" class=\"edge\">\n<title>55&#45;&gt;59</title>\n<path fill=\"none\" stroke=\"#000000\" d=\"M3815,-654.8642C3815,-646.5802 3815,-637.903 3815,-629.3918\"/>\n<polygon fill=\"#000000\" stroke=\"#000000\" points=\"3818.5001,-629.1298 3815,-619.1298 3811.5001,-629.1299 3818.5001,-629.1298\"/>\n</g>\n<!-- 57 -->\n<g id=\"node58\" class=\"node\">\n<title>57</title>\n<path fill=\"#ffffff\" stroke=\"#000000\" d=\"M3305.5,-477.5C3305.5,-477.5 3150.5,-477.5 3150.5,-477.5 3144.5,-477.5 3138.5,-471.5 3138.5,-465.5 3138.5,-465.5 3138.5,-406.5 3138.5,-406.5 3138.5,-400.5 3144.5,-394.5 3150.5,-394.5 3150.5,-394.5 3305.5,-394.5 3305.5,-394.5 3311.5,-394.5 3317.5,-400.5 3317.5,-406.5 3317.5,-406.5 3317.5,-465.5 3317.5,-465.5 3317.5,-471.5 3311.5,-477.5 3305.5,-477.5\"/>\n<text text-anchor=\"start\" x=\"3197\" y=\"-462.3\" font-family=\"Helvetica,sans-Serif\" font-size=\"14.00\" fill=\"#000000\">node #57</text>\n<text text-anchor=\"start\" x=\"3194.5\" y=\"-447.3\" font-family=\"Helvetica,sans-Serif\" font-size=\"14.00\" fill=\"#000000\">gini = 0.64</text>\n<text text-anchor=\"start\" x=\"3176\" y=\"-432.3\" font-family=\"Helvetica,sans-Serif\" font-size=\"14.00\" fill=\"#000000\">samples = 1.6%</text>\n<text text-anchor=\"start\" x=\"3146.5\" y=\"-417.3\" font-family=\"Helvetica,sans-Serif\" font-size=\"14.00\" fill=\"#000000\">value = [0.4, 0.2, 0.0, 0.4]</text>\n<text text-anchor=\"start\" x=\"3199\" y=\"-402.3\" font-family=\"Helvetica,sans-Serif\" font-size=\"14.00\" fill=\"#000000\">class = 1</text>\n</g>\n<!-- 56&#45;&gt;57 -->\n<g id=\"edge57\" class=\"edge\">\n<title>56&#45;&gt;57</title>\n<path fill=\"none\" stroke=\"#000000\" d=\"M3373.6625,-520.8642C3352.253,-508.3909 3329.3138,-495.0263 3308.1204,-482.6788\"/>\n<polygon fill=\"#000000\" stroke=\"#000000\" points=\"3309.8709,-479.648 3299.4684,-477.6381 3306.347,-485.6964 3309.8709,-479.648\"/>\n</g>\n<!-- 58 -->\n<g id=\"node59\" class=\"node\">\n<title>58</title>\n<path fill=\"#ffffff\" stroke=\"#000000\" d=\"M3568.5,-477.5C3568.5,-477.5 3347.5,-477.5 3347.5,-477.5 3341.5,-477.5 3335.5,-471.5 3335.5,-465.5 3335.5,-465.5 3335.5,-406.5 3335.5,-406.5 3335.5,-400.5 3341.5,-394.5 3347.5,-394.5 3347.5,-394.5 3568.5,-394.5 3568.5,-394.5 3574.5,-394.5 3580.5,-400.5 3580.5,-406.5 3580.5,-406.5 3580.5,-465.5 3580.5,-465.5 3580.5,-471.5 3574.5,-477.5 3568.5,-477.5\"/>\n<text text-anchor=\"start\" x=\"3427\" y=\"-462.3\" font-family=\"Helvetica,sans-Serif\" font-size=\"14.00\" fill=\"#000000\">node #58</text>\n<text text-anchor=\"start\" x=\"3420\" y=\"-447.3\" font-family=\"Helvetica,sans-Serif\" font-size=\"14.00\" fill=\"#000000\">gini = 0.716</text>\n<text text-anchor=\"start\" x=\"3406\" y=\"-432.3\" font-family=\"Helvetica,sans-Serif\" font-size=\"14.00\" fill=\"#000000\">samples = 2.8%</text>\n<text text-anchor=\"start\" x=\"3343.5\" y=\"-417.3\" font-family=\"Helvetica,sans-Serif\" font-size=\"14.00\" fill=\"#000000\">value = [0.333, 0.222, 0.111, 0.333]</text>\n<text text-anchor=\"start\" x=\"3429\" y=\"-402.3\" font-family=\"Helvetica,sans-Serif\" font-size=\"14.00\" fill=\"#000000\">class = 1</text>\n</g>\n<!-- 56&#45;&gt;58 -->\n<g id=\"edge58\" class=\"edge\">\n<title>56&#45;&gt;58</title>\n<path fill=\"none\" stroke=\"#000000\" d=\"M3458,-520.8642C3458,-510.1094 3458,-498.6921 3458,-487.8354\"/>\n<polygon fill=\"#000000\" stroke=\"#000000\" points=\"3461.5001,-487.6381 3458,-477.6381 3454.5001,-487.6382 3461.5001,-487.6381\"/>\n</g>\n<!-- 60 -->\n<g id=\"node61\" class=\"node\">\n<title>60</title>\n<path fill=\"#f2bdf6\" stroke=\"#000000\" d=\"M3781.5,-477.5C3781.5,-477.5 3610.5,-477.5 3610.5,-477.5 3604.5,-477.5 3598.5,-471.5 3598.5,-465.5 3598.5,-465.5 3598.5,-406.5 3598.5,-406.5 3598.5,-400.5 3604.5,-394.5 3610.5,-394.5 3610.5,-394.5 3781.5,-394.5 3781.5,-394.5 3787.5,-394.5 3793.5,-400.5 3793.5,-406.5 3793.5,-406.5 3793.5,-465.5 3793.5,-465.5 3793.5,-471.5 3787.5,-477.5 3781.5,-477.5\"/>\n<text text-anchor=\"start\" x=\"3665\" y=\"-462.3\" font-family=\"Helvetica,sans-Serif\" font-size=\"14.00\" fill=\"#000000\">node #60</text>\n<text text-anchor=\"start\" x=\"3658\" y=\"-447.3\" font-family=\"Helvetica,sans-Serif\" font-size=\"14.00\" fill=\"#000000\">gini = 0.625</text>\n<text text-anchor=\"start\" x=\"3644\" y=\"-432.3\" font-family=\"Helvetica,sans-Serif\" font-size=\"14.00\" fill=\"#000000\">samples = 1.3%</text>\n<text text-anchor=\"start\" x=\"3606.5\" y=\"-417.3\" font-family=\"Helvetica,sans-Serif\" font-size=\"14.00\" fill=\"#000000\">value = [0.0, 0.25, 0.25, 0.5]</text>\n<text text-anchor=\"start\" x=\"3667\" y=\"-402.3\" font-family=\"Helvetica,sans-Serif\" font-size=\"14.00\" fill=\"#000000\">class = 4</text>\n</g>\n<!-- 59&#45;&gt;60 -->\n<g id=\"edge60\" class=\"edge\">\n<title>59&#45;&gt;60</title>\n<path fill=\"none\" stroke=\"#000000\" d=\"M3771.3645,-520.8642C3761.0259,-509.2224 3749.9978,-496.8043 3739.6582,-485.1613\"/>\n<polygon fill=\"#000000\" stroke=\"#000000\" points=\"3742.2344,-482.7913 3732.9772,-477.6381 3737.0003,-487.4394 3742.2344,-482.7913\"/>\n</g>\n<!-- 61 -->\n<g id=\"node62\" class=\"node\">\n<title>61</title>\n<path fill=\"#ffffff\" stroke=\"#000000\" d=\"M4044.5,-477.5C4044.5,-477.5 3823.5,-477.5 3823.5,-477.5 3817.5,-477.5 3811.5,-471.5 3811.5,-465.5 3811.5,-465.5 3811.5,-406.5 3811.5,-406.5 3811.5,-400.5 3817.5,-394.5 3823.5,-394.5 3823.5,-394.5 4044.5,-394.5 4044.5,-394.5 4050.5,-394.5 4056.5,-400.5 4056.5,-406.5 4056.5,-406.5 4056.5,-465.5 4056.5,-465.5 4056.5,-471.5 4050.5,-477.5 4044.5,-477.5\"/>\n<text text-anchor=\"start\" x=\"3903\" y=\"-462.3\" font-family=\"Helvetica,sans-Serif\" font-size=\"14.00\" fill=\"#000000\">node #61</text>\n<text text-anchor=\"start\" x=\"3896\" y=\"-447.3\" font-family=\"Helvetica,sans-Serif\" font-size=\"14.00\" fill=\"#000000\">gini = 0.722</text>\n<text text-anchor=\"start\" x=\"3882\" y=\"-432.3\" font-family=\"Helvetica,sans-Serif\" font-size=\"14.00\" fill=\"#000000\">samples = 1.9%</text>\n<text text-anchor=\"start\" x=\"3819.5\" y=\"-417.3\" font-family=\"Helvetica,sans-Serif\" font-size=\"14.00\" fill=\"#000000\">value = [0.167, 0.333, 0.167, 0.333]</text>\n<text text-anchor=\"start\" x=\"3905\" y=\"-402.3\" font-family=\"Helvetica,sans-Serif\" font-size=\"14.00\" fill=\"#000000\">class = 2</text>\n</g>\n<!-- 59&#45;&gt;61 -->\n<g id=\"edge61\" class=\"edge\">\n<title>59&#45;&gt;61</title>\n<path fill=\"none\" stroke=\"#000000\" d=\"M3858.6355,-520.8642C3868.9741,-509.2224 3880.0022,-496.8043 3890.3418,-485.1613\"/>\n<polygon fill=\"#000000\" stroke=\"#000000\" points=\"3892.9997,-487.4394 3897.0228,-477.6381 3887.7656,-482.7913 3892.9997,-487.4394\"/>\n</g>\n<!-- 63 -->\n<g id=\"node64\" class=\"node\">\n<title>63</title>\n<path fill=\"#a3f29c\" stroke=\"#000000\" d=\"M4529,-619C4529,-619 4325,-619 4325,-619 4319,-619 4313,-613 4313,-607 4313,-607 4313,-533 4313,-533 4313,-527 4319,-521 4325,-521 4325,-521 4529,-521 4529,-521 4535,-521 4541,-527 4541,-533 4541,-533 4541,-607 4541,-607 4541,-613 4535,-619 4529,-619\"/>\n<text text-anchor=\"start\" x=\"4396\" y=\"-603.8\" font-family=\"Helvetica,sans-Serif\" font-size=\"14.00\" fill=\"#000000\">node #63</text>\n<text text-anchor=\"start\" x=\"4392\" y=\"-588.8\" font-family=\"Helvetica,sans-Serif\" font-size=\"14.00\" fill=\"#000000\">Fedu ≤ 3.5</text>\n<text text-anchor=\"start\" x=\"4389\" y=\"-573.8\" font-family=\"Helvetica,sans-Serif\" font-size=\"14.00\" fill=\"#000000\">gini = 0.491</text>\n<text text-anchor=\"start\" x=\"4375\" y=\"-558.8\" font-family=\"Helvetica,sans-Serif\" font-size=\"14.00\" fill=\"#000000\">samples = 5.4%</text>\n<text text-anchor=\"start\" x=\"4321\" y=\"-543.8\" font-family=\"Helvetica,sans-Serif\" font-size=\"14.00\" fill=\"#000000\">value = [0.294, 0.647, 0.059, 0.0]</text>\n<text text-anchor=\"start\" x=\"4398\" y=\"-528.8\" font-family=\"Helvetica,sans-Serif\" font-size=\"14.00\" fill=\"#000000\">class = 2</text>\n</g>\n<!-- 62&#45;&gt;63 -->\n<g id=\"edge63\" class=\"edge\">\n<title>62&#45;&gt;63</title>\n<path fill=\"none\" stroke=\"#000000\" d=\"M4430.7999,-654.8642C4430.429,-646.5802 4430.0404,-637.903 4429.6593,-629.3918\"/>\n<polygon fill=\"#000000\" stroke=\"#000000\" points=\"4433.1437,-628.9632 4429.1998,-619.1298 4426.1508,-629.2764 4433.1437,-628.9632\"/>\n</g>\n<!-- 66 -->\n<g id=\"node67\" class=\"node\">\n<title>66</title>\n<path fill=\"#f0fdee\" stroke=\"#000000\" d=\"M4776,-619C4776,-619 4572,-619 4572,-619 4566,-619 4560,-613 4560,-607 4560,-607 4560,-533 4560,-533 4560,-527 4566,-521 4572,-521 4572,-521 4776,-521 4776,-521 4782,-521 4788,-527 4788,-533 4788,-533 4788,-607 4788,-607 4788,-613 4782,-619 4776,-619\"/>\n<text text-anchor=\"start\" x=\"4643\" y=\"-603.8\" font-family=\"Helvetica,sans-Serif\" font-size=\"14.00\" fill=\"#000000\">node #66</text>\n<text text-anchor=\"start\" x=\"4639\" y=\"-588.8\" font-family=\"Helvetica,sans-Serif\" font-size=\"14.00\" fill=\"#000000\">Fedu ≤ 3.5</text>\n<text text-anchor=\"start\" x=\"4636\" y=\"-573.8\" font-family=\"Helvetica,sans-Serif\" font-size=\"14.00\" fill=\"#000000\">gini = 0.742</text>\n<text text-anchor=\"start\" x=\"4622\" y=\"-558.8\" font-family=\"Helvetica,sans-Serif\" font-size=\"14.00\" fill=\"#000000\">samples = 5.1%</text>\n<text text-anchor=\"start\" x=\"4568\" y=\"-543.8\" font-family=\"Helvetica,sans-Serif\" font-size=\"14.00\" fill=\"#000000\">value = [0.188, 0.312, 0.25, 0.25]</text>\n<text text-anchor=\"start\" x=\"4645\" y=\"-528.8\" font-family=\"Helvetica,sans-Serif\" font-size=\"14.00\" fill=\"#000000\">class = 2</text>\n</g>\n<!-- 62&#45;&gt;66 -->\n<g id=\"edge66\" class=\"edge\">\n<title>62&#45;&gt;66</title>\n<path fill=\"none\" stroke=\"#000000\" d=\"M4521.371,-654.8642C4539.3808,-644.8505 4558.4235,-634.2625 4576.7235,-624.0874\"/>\n<polygon fill=\"#000000\" stroke=\"#000000\" points=\"4578.6006,-627.0483 4585.6396,-619.1298 4575.1989,-620.9304 4578.6006,-627.0483\"/>\n</g>\n<!-- 64 -->\n<g id=\"node65\" class=\"node\">\n<title>64</title>\n<path fill=\"#a3f29c\" stroke=\"#000000\" d=\"M4291,-477.5C4291,-477.5 4087,-477.5 4087,-477.5 4081,-477.5 4075,-471.5 4075,-465.5 4075,-465.5 4075,-406.5 4075,-406.5 4075,-400.5 4081,-394.5 4087,-394.5 4087,-394.5 4291,-394.5 4291,-394.5 4297,-394.5 4303,-400.5 4303,-406.5 4303,-406.5 4303,-465.5 4303,-465.5 4303,-471.5 4297,-477.5 4291,-477.5\"/>\n<text text-anchor=\"start\" x=\"4158\" y=\"-462.3\" font-family=\"Helvetica,sans-Serif\" font-size=\"14.00\" fill=\"#000000\">node #64</text>\n<text text-anchor=\"start\" x=\"4151\" y=\"-447.3\" font-family=\"Helvetica,sans-Serif\" font-size=\"14.00\" fill=\"#000000\">gini = 0.512</text>\n<text text-anchor=\"start\" x=\"4137\" y=\"-432.3\" font-family=\"Helvetica,sans-Serif\" font-size=\"14.00\" fill=\"#000000\">samples = 3.5%</text>\n<text text-anchor=\"start\" x=\"4083\" y=\"-417.3\" font-family=\"Helvetica,sans-Serif\" font-size=\"14.00\" fill=\"#000000\">value = [0.273, 0.636, 0.091, 0.0]</text>\n<text text-anchor=\"start\" x=\"4160\" y=\"-402.3\" font-family=\"Helvetica,sans-Serif\" font-size=\"14.00\" fill=\"#000000\">class = 2</text>\n</g>\n<!-- 63&#45;&gt;64 -->\n<g id=\"edge64\" class=\"edge\">\n<title>63&#45;&gt;64</title>\n<path fill=\"none\" stroke=\"#000000\" d=\"M4339.729,-520.8642C4317.5748,-508.3909 4293.8378,-495.0263 4271.9072,-482.6788\"/>\n<polygon fill=\"#000000\" stroke=\"#000000\" points=\"4273.3853,-479.4944 4262.9543,-477.6381 4269.951,-485.5941 4273.3853,-479.4944\"/>\n</g>\n<!-- 65 -->\n<g id=\"node66\" class=\"node\">\n<title>65</title>\n<path fill=\"#a3f29c\" stroke=\"#000000\" d=\"M4521,-477.5C4521,-477.5 4333,-477.5 4333,-477.5 4327,-477.5 4321,-471.5 4321,-465.5 4321,-465.5 4321,-406.5 4321,-406.5 4321,-400.5 4327,-394.5 4333,-394.5 4333,-394.5 4521,-394.5 4521,-394.5 4527,-394.5 4533,-400.5 4533,-406.5 4533,-406.5 4533,-465.5 4533,-465.5 4533,-471.5 4527,-477.5 4521,-477.5\"/>\n<text text-anchor=\"start\" x=\"4396\" y=\"-462.3\" font-family=\"Helvetica,sans-Serif\" font-size=\"14.00\" fill=\"#000000\">node #65</text>\n<text text-anchor=\"start\" x=\"4389\" y=\"-447.3\" font-family=\"Helvetica,sans-Serif\" font-size=\"14.00\" fill=\"#000000\">gini = 0.444</text>\n<text text-anchor=\"start\" x=\"4375\" y=\"-432.3\" font-family=\"Helvetica,sans-Serif\" font-size=\"14.00\" fill=\"#000000\">samples = 1.9%</text>\n<text text-anchor=\"start\" x=\"4329\" y=\"-417.3\" font-family=\"Helvetica,sans-Serif\" font-size=\"14.00\" fill=\"#000000\">value = [0.333, 0.667, 0.0, 0.0]</text>\n<text text-anchor=\"start\" x=\"4398\" y=\"-402.3\" font-family=\"Helvetica,sans-Serif\" font-size=\"14.00\" fill=\"#000000\">class = 2</text>\n</g>\n<!-- 63&#45;&gt;65 -->\n<g id=\"edge65\" class=\"edge\">\n<title>63&#45;&gt;65</title>\n<path fill=\"none\" stroke=\"#000000\" d=\"M4427,-520.8642C4427,-510.1094 4427,-498.6921 4427,-487.8354\"/>\n<polygon fill=\"#000000\" stroke=\"#000000\" points=\"4430.5001,-487.6381 4427,-477.6381 4423.5001,-487.6382 4430.5001,-487.6381\"/>\n</g>\n<!-- 67 -->\n<g id=\"node68\" class=\"node\">\n<title>67</title>\n<path fill=\"#caf8c6\" stroke=\"#000000\" d=\"M4784.5,-477.5C4784.5,-477.5 4563.5,-477.5 4563.5,-477.5 4557.5,-477.5 4551.5,-471.5 4551.5,-465.5 4551.5,-465.5 4551.5,-406.5 4551.5,-406.5 4551.5,-400.5 4557.5,-394.5 4563.5,-394.5 4563.5,-394.5 4784.5,-394.5 4784.5,-394.5 4790.5,-394.5 4796.5,-400.5 4796.5,-406.5 4796.5,-406.5 4796.5,-465.5 4796.5,-465.5 4796.5,-471.5 4790.5,-477.5 4784.5,-477.5\"/>\n<text text-anchor=\"start\" x=\"4643\" y=\"-462.3\" font-family=\"Helvetica,sans-Serif\" font-size=\"14.00\" fill=\"#000000\">node #67</text>\n<text text-anchor=\"start\" x=\"4636\" y=\"-447.3\" font-family=\"Helvetica,sans-Serif\" font-size=\"14.00\" fill=\"#000000\">gini = 0.691</text>\n<text text-anchor=\"start\" x=\"4622\" y=\"-432.3\" font-family=\"Helvetica,sans-Serif\" font-size=\"14.00\" fill=\"#000000\">samples = 2.8%</text>\n<text text-anchor=\"start\" x=\"4559.5\" y=\"-417.3\" font-family=\"Helvetica,sans-Serif\" font-size=\"14.00\" fill=\"#000000\">value = [0.111, 0.444, 0.222, 0.222]</text>\n<text text-anchor=\"start\" x=\"4645\" y=\"-402.3\" font-family=\"Helvetica,sans-Serif\" font-size=\"14.00\" fill=\"#000000\">class = 2</text>\n</g>\n<!-- 66&#45;&gt;67 -->\n<g id=\"edge67\" class=\"edge\">\n<title>66&#45;&gt;67</title>\n<path fill=\"none\" stroke=\"#000000\" d=\"M4674,-520.8642C4674,-510.1094 4674,-498.6921 4674,-487.8354\"/>\n<polygon fill=\"#000000\" stroke=\"#000000\" points=\"4677.5001,-487.6381 4674,-477.6381 4670.5001,-487.6382 4677.5001,-487.6381\"/>\n</g>\n<!-- 68 -->\n<g id=\"node69\" class=\"node\">\n<title>68</title>\n<path fill=\"#ffffff\" stroke=\"#000000\" d=\"M5047.5,-477.5C5047.5,-477.5 4826.5,-477.5 4826.5,-477.5 4820.5,-477.5 4814.5,-471.5 4814.5,-465.5 4814.5,-465.5 4814.5,-406.5 4814.5,-406.5 4814.5,-400.5 4820.5,-394.5 4826.5,-394.5 4826.5,-394.5 5047.5,-394.5 5047.5,-394.5 5053.5,-394.5 5059.5,-400.5 5059.5,-406.5 5059.5,-406.5 5059.5,-465.5 5059.5,-465.5 5059.5,-471.5 5053.5,-477.5 5047.5,-477.5\"/>\n<text text-anchor=\"start\" x=\"4906\" y=\"-462.3\" font-family=\"Helvetica,sans-Serif\" font-size=\"14.00\" fill=\"#000000\">node #68</text>\n<text text-anchor=\"start\" x=\"4899\" y=\"-447.3\" font-family=\"Helvetica,sans-Serif\" font-size=\"14.00\" fill=\"#000000\">gini = 0.735</text>\n<text text-anchor=\"start\" x=\"4885\" y=\"-432.3\" font-family=\"Helvetica,sans-Serif\" font-size=\"14.00\" fill=\"#000000\">samples = 2.2%</text>\n<text text-anchor=\"start\" x=\"4822.5\" y=\"-417.3\" font-family=\"Helvetica,sans-Serif\" font-size=\"14.00\" fill=\"#000000\">value = [0.286, 0.143, 0.286, 0.286]</text>\n<text text-anchor=\"start\" x=\"4908\" y=\"-402.3\" font-family=\"Helvetica,sans-Serif\" font-size=\"14.00\" fill=\"#000000\">class = 1</text>\n</g>\n<!-- 66&#45;&gt;68 -->\n<g id=\"edge68\" class=\"edge\">\n<title>66&#45;&gt;68</title>\n<path fill=\"none\" stroke=\"#000000\" d=\"M4770.4381,-520.8642C4795.2459,-508.2245 4821.8496,-494.6698 4846.3523,-482.1855\"/>\n<polygon fill=\"#000000\" stroke=\"#000000\" points=\"4847.9562,-485.2965 4855.2774,-477.6381 4844.7783,-479.0594 4847.9562,-485.2965\"/>\n</g>\n<!-- 70 -->\n<g id=\"node71\" class=\"node\">\n<title>70</title>\n<path fill=\"#47e539\" stroke=\"#000000\" d=\"M4777.5,-745.5C4777.5,-745.5 4622.5,-745.5 4622.5,-745.5 4616.5,-745.5 4610.5,-739.5 4610.5,-733.5 4610.5,-733.5 4610.5,-674.5 4610.5,-674.5 4610.5,-668.5 4616.5,-662.5 4622.5,-662.5 4622.5,-662.5 4777.5,-662.5 4777.5,-662.5 4783.5,-662.5 4789.5,-668.5 4789.5,-674.5 4789.5,-674.5 4789.5,-733.5 4789.5,-733.5 4789.5,-739.5 4783.5,-745.5 4777.5,-745.5\"/>\n<text text-anchor=\"start\" x=\"4669\" y=\"-730.3\" font-family=\"Helvetica,sans-Serif\" font-size=\"14.00\" fill=\"#000000\">node #70</text>\n<text text-anchor=\"start\" x=\"4670.5\" y=\"-715.3\" font-family=\"Helvetica,sans-Serif\" font-size=\"14.00\" fill=\"#000000\">gini = 0.0</text>\n<text text-anchor=\"start\" x=\"4648\" y=\"-700.3\" font-family=\"Helvetica,sans-Serif\" font-size=\"14.00\" fill=\"#000000\">samples = 0.3%</text>\n<text text-anchor=\"start\" x=\"4618.5\" y=\"-685.3\" font-family=\"Helvetica,sans-Serif\" font-size=\"14.00\" fill=\"#000000\">value = [0.0, 1.0, 0.0, 0.0]</text>\n<text text-anchor=\"start\" x=\"4671\" y=\"-670.3\" font-family=\"Helvetica,sans-Serif\" font-size=\"14.00\" fill=\"#000000\">class = 2</text>\n</g>\n<!-- 69&#45;&gt;70 -->\n<g id=\"edge70\" class=\"edge\">\n<title>69&#45;&gt;70</title>\n<path fill=\"none\" stroke=\"#000000\" d=\"M4700,-788.8642C4700,-778.1094 4700,-766.6921 4700,-755.8354\"/>\n<polygon fill=\"#000000\" stroke=\"#000000\" points=\"4703.5001,-755.6381 4700,-745.6381 4696.5001,-755.6382 4703.5001,-755.6381\"/>\n</g>\n<!-- 71 -->\n<g id=\"node72\" class=\"node\">\n<title>71</title>\n<path fill=\"#fbeefd\" stroke=\"#000000\" d=\"M5047.5,-753C5047.5,-753 4826.5,-753 4826.5,-753 4820.5,-753 4814.5,-747 4814.5,-741 4814.5,-741 4814.5,-667 4814.5,-667 4814.5,-661 4820.5,-655 4826.5,-655 4826.5,-655 5047.5,-655 5047.5,-655 5053.5,-655 5059.5,-661 5059.5,-667 5059.5,-667 5059.5,-741 5059.5,-741 5059.5,-747 5053.5,-753 5047.5,-753\"/>\n<text text-anchor=\"start\" x=\"4906\" y=\"-737.8\" font-family=\"Helvetica,sans-Serif\" font-size=\"14.00\" fill=\"#000000\">node #71</text>\n<text text-anchor=\"start\" x=\"4902\" y=\"-722.8\" font-family=\"Helvetica,sans-Serif\" font-size=\"14.00\" fill=\"#000000\">Fedu ≤ 1.5</text>\n<text text-anchor=\"start\" x=\"4899\" y=\"-707.8\" font-family=\"Helvetica,sans-Serif\" font-size=\"14.00\" fill=\"#000000\">gini = 0.731</text>\n<text text-anchor=\"start\" x=\"4881\" y=\"-692.8\" font-family=\"Helvetica,sans-Serif\" font-size=\"14.00\" fill=\"#000000\">samples = 25.0%</text>\n<text text-anchor=\"start\" x=\"4822.5\" y=\"-677.8\" font-family=\"Helvetica,sans-Serif\" font-size=\"14.00\" fill=\"#000000\">value = [0.152, 0.228, 0.278, 0.342]</text>\n<text text-anchor=\"start\" x=\"4908\" y=\"-662.8\" font-family=\"Helvetica,sans-Serif\" font-size=\"14.00\" fill=\"#000000\">class = 4</text>\n</g>\n<!-- 69&#45;&gt;71 -->\n<g id=\"edge71\" class=\"edge\">\n<title>69&#45;&gt;71</title>\n<path fill=\"none\" stroke=\"#000000\" d=\"M4786.9043,-788.8642C4804.6151,-778.8505 4823.3418,-768.2625 4841.338,-758.0874\"/>\n<polygon fill=\"#000000\" stroke=\"#000000\" points=\"4843.1239,-761.0984 4850.1062,-753.1298 4839.6786,-755.0049 4843.1239,-761.0984\"/>\n</g>\n<!-- 72 -->\n<g id=\"node73\" class=\"node\">\n<title>72</title>\n<path fill=\"#e58139\" stroke=\"#000000\" d=\"M5014.5,-611.5C5014.5,-611.5 4859.5,-611.5 4859.5,-611.5 4853.5,-611.5 4847.5,-605.5 4847.5,-599.5 4847.5,-599.5 4847.5,-540.5 4847.5,-540.5 4847.5,-534.5 4853.5,-528.5 4859.5,-528.5 4859.5,-528.5 5014.5,-528.5 5014.5,-528.5 5020.5,-528.5 5026.5,-534.5 5026.5,-540.5 5026.5,-540.5 5026.5,-599.5 5026.5,-599.5 5026.5,-605.5 5020.5,-611.5 5014.5,-611.5\"/>\n<text text-anchor=\"start\" x=\"4906\" y=\"-596.3\" font-family=\"Helvetica,sans-Serif\" font-size=\"14.00\" fill=\"#000000\">node #72</text>\n<text text-anchor=\"start\" x=\"4907.5\" y=\"-581.3\" font-family=\"Helvetica,sans-Serif\" font-size=\"14.00\" fill=\"#000000\">gini = 0.0</text>\n<text text-anchor=\"start\" x=\"4885\" y=\"-566.3\" font-family=\"Helvetica,sans-Serif\" font-size=\"14.00\" fill=\"#000000\">samples = 0.3%</text>\n<text text-anchor=\"start\" x=\"4855.5\" y=\"-551.3\" font-family=\"Helvetica,sans-Serif\" font-size=\"14.00\" fill=\"#000000\">value = [1.0, 0.0, 0.0, 0.0]</text>\n<text text-anchor=\"start\" x=\"4908\" y=\"-536.3\" font-family=\"Helvetica,sans-Serif\" font-size=\"14.00\" fill=\"#000000\">class = 1</text>\n</g>\n<!-- 71&#45;&gt;72 -->\n<g id=\"edge72\" class=\"edge\">\n<title>71&#45;&gt;72</title>\n<path fill=\"none\" stroke=\"#000000\" d=\"M4937,-654.8642C4937,-644.1094 4937,-632.6921 4937,-621.8354\"/>\n<polygon fill=\"#000000\" stroke=\"#000000\" points=\"4940.5001,-621.6381 4937,-611.6381 4933.5001,-621.6382 4940.5001,-621.6381\"/>\n</g>\n<!-- 73 -->\n<g id=\"node74\" class=\"node\">\n<title>73</title>\n<path fill=\"#fbedfd\" stroke=\"#000000\" d=\"M5302.5,-619C5302.5,-619 5081.5,-619 5081.5,-619 5075.5,-619 5069.5,-613 5069.5,-607 5069.5,-607 5069.5,-533 5069.5,-533 5069.5,-527 5075.5,-521 5081.5,-521 5081.5,-521 5302.5,-521 5302.5,-521 5308.5,-521 5314.5,-527 5314.5,-533 5314.5,-533 5314.5,-607 5314.5,-607 5314.5,-613 5308.5,-619 5302.5,-619\"/>\n<text text-anchor=\"start\" x=\"5161\" y=\"-603.8\" font-family=\"Helvetica,sans-Serif\" font-size=\"14.00\" fill=\"#000000\">node #73</text>\n<text text-anchor=\"start\" x=\"5157\" y=\"-588.8\" font-family=\"Helvetica,sans-Serif\" font-size=\"14.00\" fill=\"#000000\">Fedu ≤ 2.5</text>\n<text text-anchor=\"start\" x=\"5154\" y=\"-573.8\" font-family=\"Helvetica,sans-Serif\" font-size=\"14.00\" fill=\"#000000\">gini = 0.727</text>\n<text text-anchor=\"start\" x=\"5136\" y=\"-558.8\" font-family=\"Helvetica,sans-Serif\" font-size=\"14.00\" fill=\"#000000\">samples = 24.7%</text>\n<text text-anchor=\"start\" x=\"5077.5\" y=\"-543.8\" font-family=\"Helvetica,sans-Serif\" font-size=\"14.00\" fill=\"#000000\">value = [0.141, 0.231, 0.282, 0.346]</text>\n<text text-anchor=\"start\" x=\"5163\" y=\"-528.8\" font-family=\"Helvetica,sans-Serif\" font-size=\"14.00\" fill=\"#000000\">class = 4</text>\n</g>\n<!-- 71&#45;&gt;73 -->\n<g id=\"edge73\" class=\"edge\">\n<title>71&#45;&gt;73</title>\n<path fill=\"none\" stroke=\"#000000\" d=\"M5030.5046,-654.8642C5049.7338,-644.7595 5070.0759,-634.0699 5089.6004,-623.81\"/>\n<polygon fill=\"#000000\" stroke=\"#000000\" points=\"5091.2826,-626.8799 5098.5067,-619.1298 5088.0263,-620.6833 5091.2826,-626.8799\"/>\n</g>\n<!-- 74 -->\n<g id=\"node75\" class=\"node\">\n<title>74</title>\n<path fill=\"#ffffff\" stroke=\"#000000\" d=\"M5294,-485C5294,-485 5090,-485 5090,-485 5084,-485 5078,-479 5078,-473 5078,-473 5078,-399 5078,-399 5078,-393 5084,-387 5090,-387 5090,-387 5294,-387 5294,-387 5300,-387 5306,-393 5306,-399 5306,-399 5306,-473 5306,-473 5306,-479 5300,-485 5294,-485\"/>\n<text text-anchor=\"start\" x=\"5161\" y=\"-469.8\" font-family=\"Helvetica,sans-Serif\" font-size=\"14.00\" fill=\"#000000\">node #74</text>\n<text text-anchor=\"start\" x=\"5162.5\" y=\"-454.8\" font-family=\"Helvetica,sans-Serif\" font-size=\"14.00\" fill=\"#000000\">sex ≤ 1.5</text>\n<text text-anchor=\"start\" x=\"5154\" y=\"-439.8\" font-family=\"Helvetica,sans-Serif\" font-size=\"14.00\" fill=\"#000000\">gini = 0.625</text>\n<text text-anchor=\"start\" x=\"5140\" y=\"-424.8\" font-family=\"Helvetica,sans-Serif\" font-size=\"14.00\" fill=\"#000000\">samples = 3.8%</text>\n<text text-anchor=\"start\" x=\"5086\" y=\"-409.8\" font-family=\"Helvetica,sans-Serif\" font-size=\"14.00\" fill=\"#000000\">value = [0.0, 0.167, 0.417, 0.417]</text>\n<text text-anchor=\"start\" x=\"5163\" y=\"-394.8\" font-family=\"Helvetica,sans-Serif\" font-size=\"14.00\" fill=\"#000000\">class = 3</text>\n</g>\n<!-- 73&#45;&gt;74 -->\n<g id=\"edge74\" class=\"edge\">\n<title>73&#45;&gt;74</title>\n<path fill=\"none\" stroke=\"#000000\" d=\"M5192,-520.8642C5192,-512.5802 5192,-503.903 5192,-495.3918\"/>\n<polygon fill=\"#000000\" stroke=\"#000000\" points=\"5195.5001,-495.1298 5192,-485.1298 5188.5001,-495.1299 5195.5001,-495.1298\"/>\n</g>\n<!-- 77 -->\n<g id=\"node78\" class=\"node\">\n<title>77</title>\n<path fill=\"#fbebfc\" stroke=\"#000000\" d=\"M5557.5,-485C5557.5,-485 5336.5,-485 5336.5,-485 5330.5,-485 5324.5,-479 5324.5,-473 5324.5,-473 5324.5,-399 5324.5,-399 5324.5,-393 5330.5,-387 5336.5,-387 5336.5,-387 5557.5,-387 5557.5,-387 5563.5,-387 5569.5,-393 5569.5,-399 5569.5,-399 5569.5,-473 5569.5,-473 5569.5,-479 5563.5,-485 5557.5,-485\"/>\n<text text-anchor=\"start\" x=\"5416\" y=\"-469.8\" font-family=\"Helvetica,sans-Serif\" font-size=\"14.00\" fill=\"#000000\">node #77</text>\n<text text-anchor=\"start\" x=\"5412\" y=\"-454.8\" font-family=\"Helvetica,sans-Serif\" font-size=\"14.00\" fill=\"#000000\">Fedu ≤ 3.5</text>\n<text text-anchor=\"start\" x=\"5409\" y=\"-439.8\" font-family=\"Helvetica,sans-Serif\" font-size=\"14.00\" fill=\"#000000\">gini = 0.736</text>\n<text text-anchor=\"start\" x=\"5391\" y=\"-424.8\" font-family=\"Helvetica,sans-Serif\" font-size=\"14.00\" fill=\"#000000\">samples = 20.9%</text>\n<text text-anchor=\"start\" x=\"5332.5\" y=\"-409.8\" font-family=\"Helvetica,sans-Serif\" font-size=\"14.00\" fill=\"#000000\">value = [0.167, 0.242, 0.258, 0.333]</text>\n<text text-anchor=\"start\" x=\"5418\" y=\"-394.8\" font-family=\"Helvetica,sans-Serif\" font-size=\"14.00\" fill=\"#000000\">class = 4</text>\n</g>\n<!-- 73&#45;&gt;77 -->\n<g id=\"edge77\" class=\"edge\">\n<title>73&#45;&gt;77</title>\n<path fill=\"none\" stroke=\"#000000\" d=\"M5285.5046,-520.8642C5304.7338,-510.7595 5325.0759,-500.0699 5344.6004,-489.81\"/>\n<polygon fill=\"#000000\" stroke=\"#000000\" points=\"5346.2826,-492.8799 5353.5067,-485.1298 5343.0263,-486.6833 5346.2826,-492.8799\"/>\n</g>\n<!-- 75 -->\n<g id=\"node76\" class=\"node\">\n<title>75</title>\n<path fill=\"#9ccef2\" stroke=\"#000000\" d=\"M5056,-343.5C5056,-343.5 4868,-343.5 4868,-343.5 4862,-343.5 4856,-337.5 4856,-331.5 4856,-331.5 4856,-272.5 4856,-272.5 4856,-266.5 4862,-260.5 4868,-260.5 4868,-260.5 5056,-260.5 5056,-260.5 5062,-260.5 5068,-266.5 5068,-272.5 5068,-272.5 5068,-331.5 5068,-331.5 5068,-337.5 5062,-343.5 5056,-343.5\"/>\n<text text-anchor=\"start\" x=\"4931\" y=\"-328.3\" font-family=\"Helvetica,sans-Serif\" font-size=\"14.00\" fill=\"#000000\">node #75</text>\n<text text-anchor=\"start\" x=\"4924\" y=\"-313.3\" font-family=\"Helvetica,sans-Serif\" font-size=\"14.00\" fill=\"#000000\">gini = 0.444</text>\n<text text-anchor=\"start\" x=\"4910\" y=\"-298.3\" font-family=\"Helvetica,sans-Serif\" font-size=\"14.00\" fill=\"#000000\">samples = 1.9%</text>\n<text text-anchor=\"start\" x=\"4864\" y=\"-283.3\" font-family=\"Helvetica,sans-Serif\" font-size=\"14.00\" fill=\"#000000\">value = [0.0, 0.0, 0.667, 0.333]</text>\n<text text-anchor=\"start\" x=\"4933\" y=\"-268.3\" font-family=\"Helvetica,sans-Serif\" font-size=\"14.00\" fill=\"#000000\">class = 3</text>\n</g>\n<!-- 74&#45;&gt;75 -->\n<g id=\"edge75\" class=\"edge\">\n<title>74&#45;&gt;75</title>\n<path fill=\"none\" stroke=\"#000000\" d=\"M5107.6625,-386.8642C5086.253,-374.3909 5063.3138,-361.0263 5042.1204,-348.6788\"/>\n<polygon fill=\"#000000\" stroke=\"#000000\" points=\"5043.8709,-345.648 5033.4684,-343.6381 5040.347,-351.6964 5043.8709,-345.648\"/>\n</g>\n<!-- 76 -->\n<g id=\"node77\" class=\"node\">\n<title>76</title>\n<path fill=\"#f5cef8\" stroke=\"#000000\" d=\"M5286,-343.5C5286,-343.5 5098,-343.5 5098,-343.5 5092,-343.5 5086,-337.5 5086,-331.5 5086,-331.5 5086,-272.5 5086,-272.5 5086,-266.5 5092,-260.5 5098,-260.5 5098,-260.5 5286,-260.5 5286,-260.5 5292,-260.5 5298,-266.5 5298,-272.5 5298,-272.5 5298,-331.5 5298,-331.5 5298,-337.5 5292,-343.5 5286,-343.5\"/>\n<text text-anchor=\"start\" x=\"5161\" y=\"-328.3\" font-family=\"Helvetica,sans-Serif\" font-size=\"14.00\" fill=\"#000000\">node #76</text>\n<text text-anchor=\"start\" x=\"5154\" y=\"-313.3\" font-family=\"Helvetica,sans-Serif\" font-size=\"14.00\" fill=\"#000000\">gini = 0.611</text>\n<text text-anchor=\"start\" x=\"5140\" y=\"-298.3\" font-family=\"Helvetica,sans-Serif\" font-size=\"14.00\" fill=\"#000000\">samples = 1.9%</text>\n<text text-anchor=\"start\" x=\"5094\" y=\"-283.3\" font-family=\"Helvetica,sans-Serif\" font-size=\"14.00\" fill=\"#000000\">value = [0.0, 0.333, 0.167, 0.5]</text>\n<text text-anchor=\"start\" x=\"5163\" y=\"-268.3\" font-family=\"Helvetica,sans-Serif\" font-size=\"14.00\" fill=\"#000000\">class = 4</text>\n</g>\n<!-- 74&#45;&gt;76 -->\n<g id=\"edge76\" class=\"edge\">\n<title>74&#45;&gt;76</title>\n<path fill=\"none\" stroke=\"#000000\" d=\"M5192,-386.8642C5192,-376.1094 5192,-364.6921 5192,-353.8354\"/>\n<polygon fill=\"#000000\" stroke=\"#000000\" points=\"5195.5001,-353.6381 5192,-343.6381 5188.5001,-353.6382 5195.5001,-353.6381\"/>\n</g>\n<!-- 78 -->\n<g id=\"node79\" class=\"node\">\n<title>78</title>\n<path fill=\"#fbeafc\" stroke=\"#000000\" d=\"M5549.5,-351C5549.5,-351 5328.5,-351 5328.5,-351 5322.5,-351 5316.5,-345 5316.5,-339 5316.5,-339 5316.5,-265 5316.5,-265 5316.5,-259 5322.5,-253 5328.5,-253 5328.5,-253 5549.5,-253 5549.5,-253 5555.5,-253 5561.5,-259 5561.5,-265 5561.5,-265 5561.5,-339 5561.5,-339 5561.5,-345 5555.5,-351 5549.5,-351\"/>\n<text text-anchor=\"start\" x=\"5408\" y=\"-335.8\" font-family=\"Helvetica,sans-Serif\" font-size=\"14.00\" fill=\"#000000\">node #78</text>\n<text text-anchor=\"start\" x=\"5409.5\" y=\"-320.8\" font-family=\"Helvetica,sans-Serif\" font-size=\"14.00\" fill=\"#000000\">sex ≤ 1.5</text>\n<text text-anchor=\"start\" x=\"5401\" y=\"-305.8\" font-family=\"Helvetica,sans-Serif\" font-size=\"14.00\" fill=\"#000000\">gini = 0.722</text>\n<text text-anchor=\"start\" x=\"5387\" y=\"-290.8\" font-family=\"Helvetica,sans-Serif\" font-size=\"14.00\" fill=\"#000000\">samples = 8.2%</text>\n<text text-anchor=\"start\" x=\"5324.5\" y=\"-275.8\" font-family=\"Helvetica,sans-Serif\" font-size=\"14.00\" fill=\"#000000\">value = [0.269, 0.269, 0.115, 0.346]</text>\n<text text-anchor=\"start\" x=\"5410\" y=\"-260.8\" font-family=\"Helvetica,sans-Serif\" font-size=\"14.00\" fill=\"#000000\">class = 4</text>\n</g>\n<!-- 77&#45;&gt;78 -->\n<g id=\"edge78\" class=\"edge\">\n<title>77&#45;&gt;78</title>\n<path fill=\"none\" stroke=\"#000000\" d=\"M5444.0665,-386.8642C5443.5719,-378.5802 5443.0539,-369.903 5442.5458,-361.3918\"/>\n<polygon fill=\"#000000\" stroke=\"#000000\" points=\"5446.0229,-360.9034 5441.9331,-351.1298 5439.0354,-361.3207 5446.0229,-360.9034\"/>\n</g>\n<!-- 81 -->\n<g id=\"node82\" class=\"node\">\n<title>81</title>\n<path fill=\"#f8fbfe\" stroke=\"#000000\" d=\"M5794,-351C5794,-351 5598,-351 5598,-351 5592,-351 5586,-345 5586,-339 5586,-339 5586,-265 5586,-265 5586,-259 5592,-253 5598,-253 5598,-253 5794,-253 5794,-253 5800,-253 5806,-259 5806,-265 5806,-265 5806,-339 5806,-339 5806,-345 5800,-351 5794,-351\"/>\n<text text-anchor=\"start\" x=\"5665\" y=\"-335.8\" font-family=\"Helvetica,sans-Serif\" font-size=\"14.00\" fill=\"#000000\">node #81</text>\n<text text-anchor=\"start\" x=\"5666.5\" y=\"-320.8\" font-family=\"Helvetica,sans-Serif\" font-size=\"14.00\" fill=\"#000000\">sex ≤ 1.5</text>\n<text text-anchor=\"start\" x=\"5658\" y=\"-305.8\" font-family=\"Helvetica,sans-Serif\" font-size=\"14.00\" fill=\"#000000\">gini = 0.711</text>\n<text text-anchor=\"start\" x=\"5640\" y=\"-290.8\" font-family=\"Helvetica,sans-Serif\" font-size=\"14.00\" fill=\"#000000\">samples = 12.7%</text>\n<text text-anchor=\"start\" x=\"5594\" y=\"-275.8\" font-family=\"Helvetica,sans-Serif\" font-size=\"14.00\" fill=\"#000000\">value = [0.1, 0.225, 0.35, 0.325]</text>\n<text text-anchor=\"start\" x=\"5667\" y=\"-260.8\" font-family=\"Helvetica,sans-Serif\" font-size=\"14.00\" fill=\"#000000\">class = 3</text>\n</g>\n<!-- 77&#45;&gt;81 -->\n<g id=\"edge81\" class=\"edge\">\n<title>77&#45;&gt;81</title>\n<path fill=\"none\" stroke=\"#000000\" d=\"M5538.3045,-386.8642C5556.9967,-376.805 5576.7658,-366.1662 5595.7521,-355.9486\"/>\n<polygon fill=\"#000000\" stroke=\"#000000\" points=\"5597.5593,-358.9508 5604.7065,-351.1298 5594.242,-352.7867 5597.5593,-358.9508\"/>\n</g>\n<!-- 79 -->\n<g id=\"node80\" class=\"node\">\n<title>79</title>\n<path fill=\"#fbe9fc\" stroke=\"#000000\" d=\"M5283.5,-209.5C5283.5,-209.5 5062.5,-209.5 5062.5,-209.5 5056.5,-209.5 5050.5,-203.5 5050.5,-197.5 5050.5,-197.5 5050.5,-138.5 5050.5,-138.5 5050.5,-132.5 5056.5,-126.5 5062.5,-126.5 5062.5,-126.5 5283.5,-126.5 5283.5,-126.5 5289.5,-126.5 5295.5,-132.5 5295.5,-138.5 5295.5,-138.5 5295.5,-197.5 5295.5,-197.5 5295.5,-203.5 5289.5,-209.5 5283.5,-209.5\"/>\n<text text-anchor=\"start\" x=\"5142\" y=\"-194.3\" font-family=\"Helvetica,sans-Serif\" font-size=\"14.00\" fill=\"#000000\">node #79</text>\n<text text-anchor=\"start\" x=\"5139.5\" y=\"-179.3\" font-family=\"Helvetica,sans-Serif\" font-size=\"14.00\" fill=\"#000000\">gini = 0.71</text>\n<text text-anchor=\"start\" x=\"5121\" y=\"-164.3\" font-family=\"Helvetica,sans-Serif\" font-size=\"14.00\" fill=\"#000000\">samples = 4.1%</text>\n<text text-anchor=\"start\" x=\"5058.5\" y=\"-149.3\" font-family=\"Helvetica,sans-Serif\" font-size=\"14.00\" fill=\"#000000\">value = [0.308, 0.154, 0.154, 0.385]</text>\n<text text-anchor=\"start\" x=\"5144\" y=\"-134.3\" font-family=\"Helvetica,sans-Serif\" font-size=\"14.00\" fill=\"#000000\">class = 4</text>\n</g>\n<!-- 78&#45;&gt;79 -->\n<g id=\"edge79\" class=\"edge\">\n<title>78&#45;&gt;79</title>\n<path fill=\"none\" stroke=\"#000000\" d=\"M5341.4618,-252.8642C5316.3711,-240.2245 5289.4639,-226.6698 5264.6817,-214.1855\"/>\n<polygon fill=\"#000000\" stroke=\"#000000\" points=\"5266.1603,-211.0114 5255.6548,-209.6381 5263.011,-217.263 5266.1603,-211.0114\"/>\n</g>\n<!-- 80 -->\n<g id=\"node81\" class=\"node\">\n<title>80</title>\n<path fill=\"#ebfce9\" stroke=\"#000000\" d=\"M5546.5,-209.5C5546.5,-209.5 5325.5,-209.5 5325.5,-209.5 5319.5,-209.5 5313.5,-203.5 5313.5,-197.5 5313.5,-197.5 5313.5,-138.5 5313.5,-138.5 5313.5,-132.5 5319.5,-126.5 5325.5,-126.5 5325.5,-126.5 5546.5,-126.5 5546.5,-126.5 5552.5,-126.5 5558.5,-132.5 5558.5,-138.5 5558.5,-138.5 5558.5,-197.5 5558.5,-197.5 5558.5,-203.5 5552.5,-209.5 5546.5,-209.5\"/>\n<text text-anchor=\"start\" x=\"5405\" y=\"-194.3\" font-family=\"Helvetica,sans-Serif\" font-size=\"14.00\" fill=\"#000000\">node #80</text>\n<text text-anchor=\"start\" x=\"5398\" y=\"-179.3\" font-family=\"Helvetica,sans-Serif\" font-size=\"14.00\" fill=\"#000000\">gini = 0.698</text>\n<text text-anchor=\"start\" x=\"5384\" y=\"-164.3\" font-family=\"Helvetica,sans-Serif\" font-size=\"14.00\" fill=\"#000000\">samples = 4.1%</text>\n<text text-anchor=\"start\" x=\"5321.5\" y=\"-149.3\" font-family=\"Helvetica,sans-Serif\" font-size=\"14.00\" fill=\"#000000\">value = [0.231, 0.385, 0.077, 0.308]</text>\n<text text-anchor=\"start\" x=\"5407\" y=\"-134.3\" font-family=\"Helvetica,sans-Serif\" font-size=\"14.00\" fill=\"#000000\">class = 2</text>\n</g>\n<!-- 78&#45;&gt;80 -->\n<g id=\"edge80\" class=\"edge\">\n<title>78&#45;&gt;80</title>\n<path fill=\"none\" stroke=\"#000000\" d=\"M5437.8999,-252.8642C5437.6592,-242.1094 5437.4036,-230.6921 5437.1605,-219.8354\"/>\n<polygon fill=\"#000000\" stroke=\"#000000\" points=\"5440.6552,-219.5573 5436.9322,-209.6381 5433.657,-219.714 5440.6552,-219.5573\"/>\n</g>\n<!-- 82 -->\n<g id=\"node83\" class=\"node\">\n<title>82</title>\n<path fill=\"#deeffb\" stroke=\"#000000\" d=\"M5809.5,-209.5C5809.5,-209.5 5588.5,-209.5 5588.5,-209.5 5582.5,-209.5 5576.5,-203.5 5576.5,-197.5 5576.5,-197.5 5576.5,-138.5 5576.5,-138.5 5576.5,-132.5 5582.5,-126.5 5588.5,-126.5 5588.5,-126.5 5809.5,-126.5 5809.5,-126.5 5815.5,-126.5 5821.5,-132.5 5821.5,-138.5 5821.5,-138.5 5821.5,-197.5 5821.5,-197.5 5821.5,-203.5 5815.5,-209.5 5809.5,-209.5\"/>\n<text text-anchor=\"start\" x=\"5668\" y=\"-194.3\" font-family=\"Helvetica,sans-Serif\" font-size=\"14.00\" fill=\"#000000\">node #82</text>\n<text text-anchor=\"start\" x=\"5661\" y=\"-179.3\" font-family=\"Helvetica,sans-Serif\" font-size=\"14.00\" fill=\"#000000\">gini = 0.685</text>\n<text text-anchor=\"start\" x=\"5647\" y=\"-164.3\" font-family=\"Helvetica,sans-Serif\" font-size=\"14.00\" fill=\"#000000\">samples = 5.4%</text>\n<text text-anchor=\"start\" x=\"5584.5\" y=\"-149.3\" font-family=\"Helvetica,sans-Serif\" font-size=\"14.00\" fill=\"#000000\">value = [0.059, 0.294, 0.412, 0.235]</text>\n<text text-anchor=\"start\" x=\"5670\" y=\"-134.3\" font-family=\"Helvetica,sans-Serif\" font-size=\"14.00\" fill=\"#000000\">class = 3</text>\n</g>\n<!-- 81&#45;&gt;82 -->\n<g id=\"edge82\" class=\"edge\">\n<title>81&#45;&gt;82</title>\n<path fill=\"none\" stroke=\"#000000\" d=\"M5697.1001,-252.8642C5697.3408,-242.1094 5697.5964,-230.6921 5697.8395,-219.8354\"/>\n<polygon fill=\"#000000\" stroke=\"#000000\" points=\"5701.343,-219.714 5698.0678,-209.6381 5694.3448,-219.5573 5701.343,-219.714\"/>\n</g>\n<!-- 83 -->\n<g id=\"node84\" class=\"node\">\n<title>83</title>\n<path fill=\"#fae6fc\" stroke=\"#000000\" d=\"M6064,-209.5C6064,-209.5 5852,-209.5 5852,-209.5 5846,-209.5 5840,-203.5 5840,-197.5 5840,-197.5 5840,-138.5 5840,-138.5 5840,-132.5 5846,-126.5 5852,-126.5 5852,-126.5 6064,-126.5 6064,-126.5 6070,-126.5 6076,-132.5 6076,-138.5 6076,-138.5 6076,-197.5 6076,-197.5 6076,-203.5 6070,-209.5 6064,-209.5\"/>\n<text text-anchor=\"start\" x=\"5927\" y=\"-194.3\" font-family=\"Helvetica,sans-Serif\" font-size=\"14.00\" fill=\"#000000\">node #83</text>\n<text text-anchor=\"start\" x=\"5920\" y=\"-179.3\" font-family=\"Helvetica,sans-Serif\" font-size=\"14.00\" fill=\"#000000\">gini = 0.707</text>\n<text text-anchor=\"start\" x=\"5906\" y=\"-164.3\" font-family=\"Helvetica,sans-Serif\" font-size=\"14.00\" fill=\"#000000\">samples = 7.3%</text>\n<text text-anchor=\"start\" x=\"5848\" y=\"-149.3\" font-family=\"Helvetica,sans-Serif\" font-size=\"14.00\" fill=\"#000000\">value = [0.13, 0.174, 0.304, 0.391]</text>\n<text text-anchor=\"start\" x=\"5929\" y=\"-134.3\" font-family=\"Helvetica,sans-Serif\" font-size=\"14.00\" fill=\"#000000\">class = 4</text>\n</g>\n<!-- 81&#45;&gt;83 -->\n<g id=\"edge83\" class=\"edge\">\n<title>81&#45;&gt;83</title>\n<path fill=\"none\" stroke=\"#000000\" d=\"M5792.0714,-252.8642C5816.6765,-240.28 5843.055,-226.7887 5867.3757,-214.3498\"/>\n<polygon fill=\"#000000\" stroke=\"#000000\" points=\"5869.2787,-217.3078 5876.5881,-209.6381 5866.0912,-211.0756 5869.2787,-217.3078\"/>\n</g>\n<!-- 85 -->\n<g id=\"node86\" class=\"node\">\n<title>85</title>\n<path fill=\"#eeab7b\" stroke=\"#000000\" d=\"M5594.5,-887C5594.5,-887 5423.5,-887 5423.5,-887 5417.5,-887 5411.5,-881 5411.5,-875 5411.5,-875 5411.5,-801 5411.5,-801 5411.5,-795 5417.5,-789 5423.5,-789 5423.5,-789 5594.5,-789 5594.5,-789 5600.5,-789 5606.5,-795 5606.5,-801 5606.5,-801 5606.5,-875 5606.5,-875 5606.5,-881 5600.5,-887 5594.5,-887\"/>\n<text text-anchor=\"start\" x=\"5478\" y=\"-871.8\" font-family=\"Helvetica,sans-Serif\" font-size=\"14.00\" fill=\"#000000\">node #85</text>\n<text text-anchor=\"start\" x=\"5479.5\" y=\"-856.8\" font-family=\"Helvetica,sans-Serif\" font-size=\"14.00\" fill=\"#000000\">sex ≤ 1.5</text>\n<text text-anchor=\"start\" x=\"5471\" y=\"-841.8\" font-family=\"Helvetica,sans-Serif\" font-size=\"14.00\" fill=\"#000000\">gini = 0.375</text>\n<text text-anchor=\"start\" x=\"5457\" y=\"-826.8\" font-family=\"Helvetica,sans-Serif\" font-size=\"14.00\" fill=\"#000000\">samples = 1.3%</text>\n<text text-anchor=\"start\" x=\"5419.5\" y=\"-811.8\" font-family=\"Helvetica,sans-Serif\" font-size=\"14.00\" fill=\"#000000\">value = [0.75, 0.0, 0.25, 0.0]</text>\n<text text-anchor=\"start\" x=\"5480\" y=\"-796.8\" font-family=\"Helvetica,sans-Serif\" font-size=\"14.00\" fill=\"#000000\">class = 1</text>\n</g>\n<!-- 84&#45;&gt;85 -->\n<g id=\"edge85\" class=\"edge\">\n<title>84&#45;&gt;85</title>\n<path fill=\"none\" stroke=\"#000000\" d=\"M5509,-922.8642C5509,-914.5802 5509,-905.903 5509,-897.3918\"/>\n<polygon fill=\"#000000\" stroke=\"#000000\" points=\"5512.5001,-897.1298 5509,-887.1298 5505.5001,-897.1299 5512.5001,-897.1298\"/>\n</g>\n<!-- 88 -->\n<g id=\"node89\" class=\"node\">\n<title>88</title>\n<path fill=\"#e9fce7\" stroke=\"#000000\" d=\"M6050,-887C6050,-887 5838,-887 5838,-887 5832,-887 5826,-881 5826,-875 5826,-875 5826,-801 5826,-801 5826,-795 5832,-789 5838,-789 5838,-789 6050,-789 6050,-789 6056,-789 6062,-795 6062,-801 6062,-801 6062,-875 6062,-875 6062,-881 6056,-887 6050,-887\"/>\n<text text-anchor=\"start\" x=\"5913\" y=\"-871.8\" font-family=\"Helvetica,sans-Serif\" font-size=\"14.00\" fill=\"#000000\">node #88</text>\n<text text-anchor=\"start\" x=\"5914.5\" y=\"-856.8\" font-family=\"Helvetica,sans-Serif\" font-size=\"14.00\" fill=\"#000000\">sex ≤ 1.5</text>\n<text text-anchor=\"start\" x=\"5906\" y=\"-841.8\" font-family=\"Helvetica,sans-Serif\" font-size=\"14.00\" fill=\"#000000\">gini = 0.713</text>\n<text text-anchor=\"start\" x=\"5888\" y=\"-826.8\" font-family=\"Helvetica,sans-Serif\" font-size=\"14.00\" fill=\"#000000\">samples = 14.9%</text>\n<text text-anchor=\"start\" x=\"5834\" y=\"-811.8\" font-family=\"Helvetica,sans-Serif\" font-size=\"14.00\" fill=\"#000000\">value = [0.298, 0.383, 0.149, 0.17]</text>\n<text text-anchor=\"start\" x=\"5915\" y=\"-796.8\" font-family=\"Helvetica,sans-Serif\" font-size=\"14.00\" fill=\"#000000\">class = 2</text>\n</g>\n<!-- 84&#45;&gt;88 -->\n<g id=\"edge88\" class=\"edge\">\n<title>84&#45;&gt;88</title>\n<path fill=\"none\" stroke=\"#000000\" d=\"M5631.6192,-934.2276C5689.2192,-916.4842 5757.8613,-895.3393 5816.1112,-877.3956\"/>\n<polygon fill=\"#000000\" stroke=\"#000000\" points=\"5817.2128,-880.7187 5825.7392,-874.4298 5815.152,-874.0289 5817.2128,-880.7187\"/>\n</g>\n<!-- 86 -->\n<g id=\"node87\" class=\"node\">\n<title>86</title>\n<path fill=\"#f2c09c\" stroke=\"#000000\" d=\"M5496,-745.5C5496,-745.5 5308,-745.5 5308,-745.5 5302,-745.5 5296,-739.5 5296,-733.5 5296,-733.5 5296,-674.5 5296,-674.5 5296,-668.5 5302,-662.5 5308,-662.5 5308,-662.5 5496,-662.5 5496,-662.5 5502,-662.5 5508,-668.5 5508,-674.5 5508,-674.5 5508,-733.5 5508,-733.5 5508,-739.5 5502,-745.5 5496,-745.5\"/>\n<text text-anchor=\"start\" x=\"5371\" y=\"-730.3\" font-family=\"Helvetica,sans-Serif\" font-size=\"14.00\" fill=\"#000000\">node #86</text>\n<text text-anchor=\"start\" x=\"5364\" y=\"-715.3\" font-family=\"Helvetica,sans-Serif\" font-size=\"14.00\" fill=\"#000000\">gini = 0.444</text>\n<text text-anchor=\"start\" x=\"5350\" y=\"-700.3\" font-family=\"Helvetica,sans-Serif\" font-size=\"14.00\" fill=\"#000000\">samples = 0.9%</text>\n<text text-anchor=\"start\" x=\"5304\" y=\"-685.3\" font-family=\"Helvetica,sans-Serif\" font-size=\"14.00\" fill=\"#000000\">value = [0.667, 0.0, 0.333, 0.0]</text>\n<text text-anchor=\"start\" x=\"5373\" y=\"-670.3\" font-family=\"Helvetica,sans-Serif\" font-size=\"14.00\" fill=\"#000000\">class = 1</text>\n</g>\n<!-- 85&#45;&gt;86 -->\n<g id=\"edge86\" class=\"edge\">\n<title>85&#45;&gt;86</title>\n<path fill=\"none\" stroke=\"#000000\" d=\"M5469.7647,-788.8642C5460.5572,-777.3333 5450.7415,-765.0408 5441.5215,-753.4942\"/>\n<polygon fill=\"#000000\" stroke=\"#000000\" points=\"5444.2233,-751.2686 5435.2484,-745.6381 5438.7532,-755.6365 5444.2233,-751.2686\"/>\n</g>\n<!-- 87 -->\n<g id=\"node88\" class=\"node\">\n<title>87</title>\n<path fill=\"#e58139\" stroke=\"#000000\" d=\"M5693.5,-745.5C5693.5,-745.5 5538.5,-745.5 5538.5,-745.5 5532.5,-745.5 5526.5,-739.5 5526.5,-733.5 5526.5,-733.5 5526.5,-674.5 5526.5,-674.5 5526.5,-668.5 5532.5,-662.5 5538.5,-662.5 5538.5,-662.5 5693.5,-662.5 5693.5,-662.5 5699.5,-662.5 5705.5,-668.5 5705.5,-674.5 5705.5,-674.5 5705.5,-733.5 5705.5,-733.5 5705.5,-739.5 5699.5,-745.5 5693.5,-745.5\"/>\n<text text-anchor=\"start\" x=\"5585\" y=\"-730.3\" font-family=\"Helvetica,sans-Serif\" font-size=\"14.00\" fill=\"#000000\">node #87</text>\n<text text-anchor=\"start\" x=\"5586.5\" y=\"-715.3\" font-family=\"Helvetica,sans-Serif\" font-size=\"14.00\" fill=\"#000000\">gini = 0.0</text>\n<text text-anchor=\"start\" x=\"5564\" y=\"-700.3\" font-family=\"Helvetica,sans-Serif\" font-size=\"14.00\" fill=\"#000000\">samples = 0.3%</text>\n<text text-anchor=\"start\" x=\"5534.5\" y=\"-685.3\" font-family=\"Helvetica,sans-Serif\" font-size=\"14.00\" fill=\"#000000\">value = [1.0, 0.0, 0.0, 0.0]</text>\n<text text-anchor=\"start\" x=\"5587\" y=\"-670.3\" font-family=\"Helvetica,sans-Serif\" font-size=\"14.00\" fill=\"#000000\">class = 1</text>\n</g>\n<!-- 85&#45;&gt;87 -->\n<g id=\"edge87\" class=\"edge\">\n<title>85&#45;&gt;87</title>\n<path fill=\"none\" stroke=\"#000000\" d=\"M5548.2353,-788.8642C5557.4428,-777.3333 5567.2585,-765.0408 5576.4785,-753.4942\"/>\n<polygon fill=\"#000000\" stroke=\"#000000\" points=\"5579.2468,-755.6365 5582.7516,-745.6381 5573.7767,-751.2686 5579.2468,-755.6365\"/>\n</g>\n<!-- 89 -->\n<g id=\"node90\" class=\"node\">\n<title>89</title>\n<path fill=\"#c9f7c5\" stroke=\"#000000\" d=\"M6054.5,-753C6054.5,-753 5833.5,-753 5833.5,-753 5827.5,-753 5821.5,-747 5821.5,-741 5821.5,-741 5821.5,-667 5821.5,-667 5821.5,-661 5827.5,-655 5833.5,-655 5833.5,-655 6054.5,-655 6054.5,-655 6060.5,-655 6066.5,-661 6066.5,-667 6066.5,-667 6066.5,-741 6066.5,-741 6066.5,-747 6060.5,-753 6054.5,-753\"/>\n<text text-anchor=\"start\" x=\"5913\" y=\"-737.8\" font-family=\"Helvetica,sans-Serif\" font-size=\"14.00\" fill=\"#000000\">node #89</text>\n<text text-anchor=\"start\" x=\"5909\" y=\"-722.8\" font-family=\"Helvetica,sans-Serif\" font-size=\"14.00\" fill=\"#000000\">Fedu ≤ 2.5</text>\n<text text-anchor=\"start\" x=\"5906\" y=\"-707.8\" font-family=\"Helvetica,sans-Serif\" font-size=\"14.00\" fill=\"#000000\">gini = 0.665</text>\n<text text-anchor=\"start\" x=\"5892\" y=\"-692.8\" font-family=\"Helvetica,sans-Serif\" font-size=\"14.00\" fill=\"#000000\">samples = 7.3%</text>\n<text text-anchor=\"start\" x=\"5829.5\" y=\"-677.8\" font-family=\"Helvetica,sans-Serif\" font-size=\"14.00\" fill=\"#000000\">value = [0.261, 0.478, 0.087, 0.174]</text>\n<text text-anchor=\"start\" x=\"5915\" y=\"-662.8\" font-family=\"Helvetica,sans-Serif\" font-size=\"14.00\" fill=\"#000000\">class = 2</text>\n</g>\n<!-- 88&#45;&gt;89 -->\n<g id=\"edge89\" class=\"edge\">\n<title>88&#45;&gt;89</title>\n<path fill=\"none\" stroke=\"#000000\" d=\"M5944,-788.8642C5944,-780.5802 5944,-771.903 5944,-763.3918\"/>\n<polygon fill=\"#000000\" stroke=\"#000000\" points=\"5947.5001,-763.1298 5944,-753.1298 5940.5001,-763.1299 5947.5001,-763.1298\"/>\n</g>\n<!-- 96 -->\n<g id=\"node97\" class=\"node\">\n<title>96</title>\n<path fill=\"#fdf8f3\" stroke=\"#000000\" d=\"M6656.5,-753C6656.5,-753 6435.5,-753 6435.5,-753 6429.5,-753 6423.5,-747 6423.5,-741 6423.5,-741 6423.5,-667 6423.5,-667 6423.5,-661 6429.5,-655 6435.5,-655 6435.5,-655 6656.5,-655 6656.5,-655 6662.5,-655 6668.5,-661 6668.5,-667 6668.5,-667 6668.5,-741 6668.5,-741 6668.5,-747 6662.5,-753 6656.5,-753\"/>\n<text text-anchor=\"start\" x=\"6515\" y=\"-737.8\" font-family=\"Helvetica,sans-Serif\" font-size=\"14.00\" fill=\"#000000\">node #96</text>\n<text text-anchor=\"start\" x=\"6509.5\" y=\"-722.8\" font-family=\"Helvetica,sans-Serif\" font-size=\"14.00\" fill=\"#000000\">Medu ≤ 3.5</text>\n<text text-anchor=\"start\" x=\"6508\" y=\"-707.8\" font-family=\"Helvetica,sans-Serif\" font-size=\"14.00\" fill=\"#000000\">gini = 0.733</text>\n<text text-anchor=\"start\" x=\"6494\" y=\"-692.8\" font-family=\"Helvetica,sans-Serif\" font-size=\"14.00\" fill=\"#000000\">samples = 7.6%</text>\n<text text-anchor=\"start\" x=\"6431.5\" y=\"-677.8\" font-family=\"Helvetica,sans-Serif\" font-size=\"14.00\" fill=\"#000000\">value = [0.333, 0.292, 0.208, 0.167]</text>\n<text text-anchor=\"start\" x=\"6517\" y=\"-662.8\" font-family=\"Helvetica,sans-Serif\" font-size=\"14.00\" fill=\"#000000\">class = 1</text>\n</g>\n<!-- 88&#45;&gt;96 -->\n<g id=\"edge96\" class=\"edge\">\n<title>88&#45;&gt;96</title>\n<path fill=\"none\" stroke=\"#000000\" d=\"M6062.2175,-811.6858C6163.2257,-789.2022 6308.4301,-756.881 6413.3757,-733.521\"/>\n<polygon fill=\"#000000\" stroke=\"#000000\" points=\"6414.4026,-736.8782 6423.4032,-731.289 6412.8816,-730.0454 6414.4026,-736.8782\"/>\n</g>\n<!-- 90 -->\n<g id=\"node91\" class=\"node\">\n<title>90</title>\n<path fill=\"#84ee7b\" stroke=\"#000000\" d=\"M5910.5,-611.5C5910.5,-611.5 5739.5,-611.5 5739.5,-611.5 5733.5,-611.5 5727.5,-605.5 5727.5,-599.5 5727.5,-599.5 5727.5,-540.5 5727.5,-540.5 5727.5,-534.5 5733.5,-528.5 5739.5,-528.5 5739.5,-528.5 5910.5,-528.5 5910.5,-528.5 5916.5,-528.5 5922.5,-534.5 5922.5,-540.5 5922.5,-540.5 5922.5,-599.5 5922.5,-599.5 5922.5,-605.5 5916.5,-611.5 5910.5,-611.5\"/>\n<text text-anchor=\"start\" x=\"5794\" y=\"-596.3\" font-family=\"Helvetica,sans-Serif\" font-size=\"14.00\" fill=\"#000000\">node #90</text>\n<text text-anchor=\"start\" x=\"5787\" y=\"-581.3\" font-family=\"Helvetica,sans-Serif\" font-size=\"14.00\" fill=\"#000000\">gini = 0.375</text>\n<text text-anchor=\"start\" x=\"5773\" y=\"-566.3\" font-family=\"Helvetica,sans-Serif\" font-size=\"14.00\" fill=\"#000000\">samples = 1.3%</text>\n<text text-anchor=\"start\" x=\"5735.5\" y=\"-551.3\" font-family=\"Helvetica,sans-Serif\" font-size=\"14.00\" fill=\"#000000\">value = [0.0, 0.75, 0.25, 0.0]</text>\n<text text-anchor=\"start\" x=\"5796\" y=\"-536.3\" font-family=\"Helvetica,sans-Serif\" font-size=\"14.00\" fill=\"#000000\">class = 2</text>\n</g>\n<!-- 89&#45;&gt;90 -->\n<g id=\"edge90\" class=\"edge\">\n<title>89&#45;&gt;90</title>\n<path fill=\"none\" stroke=\"#000000\" d=\"M5900.3645,-654.8642C5890.0259,-643.2224 5878.9978,-630.8043 5868.6582,-619.1613\"/>\n<polygon fill=\"#000000\" stroke=\"#000000\" points=\"5871.2344,-616.7913 5861.9772,-611.6381 5866.0003,-621.4394 5871.2344,-616.7913\"/>\n</g>\n<!-- 91 -->\n<g id=\"node92\" class=\"node\">\n<title>91</title>\n<path fill=\"#e3fbe1\" stroke=\"#000000\" d=\"M6173.5,-619C6173.5,-619 5952.5,-619 5952.5,-619 5946.5,-619 5940.5,-613 5940.5,-607 5940.5,-607 5940.5,-533 5940.5,-533 5940.5,-527 5946.5,-521 5952.5,-521 5952.5,-521 6173.5,-521 6173.5,-521 6179.5,-521 6185.5,-527 6185.5,-533 6185.5,-533 6185.5,-607 6185.5,-607 6185.5,-613 6179.5,-619 6173.5,-619\"/>\n<text text-anchor=\"start\" x=\"6032\" y=\"-603.8\" font-family=\"Helvetica,sans-Serif\" font-size=\"14.00\" fill=\"#000000\">node #91</text>\n<text text-anchor=\"start\" x=\"6028\" y=\"-588.8\" font-family=\"Helvetica,sans-Serif\" font-size=\"14.00\" fill=\"#000000\">Fedu ≤ 3.5</text>\n<text text-anchor=\"start\" x=\"6025\" y=\"-573.8\" font-family=\"Helvetica,sans-Serif\" font-size=\"14.00\" fill=\"#000000\">gini = 0.676</text>\n<text text-anchor=\"start\" x=\"6011\" y=\"-558.8\" font-family=\"Helvetica,sans-Serif\" font-size=\"14.00\" fill=\"#000000\">samples = 6.0%</text>\n<text text-anchor=\"start\" x=\"5948.5\" y=\"-543.8\" font-family=\"Helvetica,sans-Serif\" font-size=\"14.00\" fill=\"#000000\">value = [0.316, 0.421, 0.053, 0.211]</text>\n<text text-anchor=\"start\" x=\"6034\" y=\"-528.8\" font-family=\"Helvetica,sans-Serif\" font-size=\"14.00\" fill=\"#000000\">class = 2</text>\n</g>\n<!-- 89&#45;&gt;91 -->\n<g id=\"edge91\" class=\"edge\">\n<title>89&#45;&gt;91</title>\n<path fill=\"none\" stroke=\"#000000\" d=\"M5987.6355,-654.8642C5995.7198,-645.7609 6004.2257,-636.1828 6012.4944,-626.8719\"/>\n<polygon fill=\"#000000\" stroke=\"#000000\" points=\"6015.3466,-628.9311 6019.3698,-619.1298 6010.1126,-624.2829 6015.3466,-628.9311\"/>\n</g>\n<!-- 92 -->\n<g id=\"node93\" class=\"node\">\n<title>92</title>\n<path fill=\"#e8fce6\" stroke=\"#000000\" d=\"M6050.5,-485C6050.5,-485 5829.5,-485 5829.5,-485 5823.5,-485 5817.5,-479 5817.5,-473 5817.5,-473 5817.5,-399 5817.5,-399 5817.5,-393 5823.5,-387 5829.5,-387 5829.5,-387 6050.5,-387 6050.5,-387 6056.5,-387 6062.5,-393 6062.5,-399 6062.5,-399 6062.5,-473 6062.5,-473 6062.5,-479 6056.5,-485 6050.5,-485\"/>\n<text text-anchor=\"start\" x=\"5909\" y=\"-469.8\" font-family=\"Helvetica,sans-Serif\" font-size=\"14.00\" fill=\"#000000\">node #92</text>\n<text text-anchor=\"start\" x=\"5903.5\" y=\"-454.8\" font-family=\"Helvetica,sans-Serif\" font-size=\"14.00\" fill=\"#000000\">Medu ≤ 3.5</text>\n<text text-anchor=\"start\" x=\"5902\" y=\"-439.8\" font-family=\"Helvetica,sans-Serif\" font-size=\"14.00\" fill=\"#000000\">gini = 0.711</text>\n<text text-anchor=\"start\" x=\"5888\" y=\"-424.8\" font-family=\"Helvetica,sans-Serif\" font-size=\"14.00\" fill=\"#000000\">samples = 3.5%</text>\n<text text-anchor=\"start\" x=\"5825.5\" y=\"-409.8\" font-family=\"Helvetica,sans-Serif\" font-size=\"14.00\" fill=\"#000000\">value = [0.273, 0.364, 0.091, 0.273]</text>\n<text text-anchor=\"start\" x=\"5911\" y=\"-394.8\" font-family=\"Helvetica,sans-Serif\" font-size=\"14.00\" fill=\"#000000\">class = 2</text>\n</g>\n<!-- 91&#45;&gt;92 -->\n<g id=\"edge92\" class=\"edge\">\n<title>91&#45;&gt;92</title>\n<path fill=\"none\" stroke=\"#000000\" d=\"M6017.8978,-520.8642C6009.4581,-511.6698 6000.574,-501.9912 5991.947,-492.5926\"/>\n<polygon fill=\"#000000\" stroke=\"#000000\" points=\"5994.4375,-490.13 5985.0968,-485.1298 5989.2806,-494.8636 5994.4375,-490.13\"/>\n</g>\n<!-- 95 -->\n<g id=\"node96\" class=\"node\">\n<title>95</title>\n<path fill=\"#dafad7\" stroke=\"#000000\" d=\"M6281,-477.5C6281,-477.5 6093,-477.5 6093,-477.5 6087,-477.5 6081,-471.5 6081,-465.5 6081,-465.5 6081,-406.5 6081,-406.5 6081,-400.5 6087,-394.5 6093,-394.5 6093,-394.5 6281,-394.5 6281,-394.5 6287,-394.5 6293,-400.5 6293,-406.5 6293,-406.5 6293,-465.5 6293,-465.5 6293,-471.5 6287,-477.5 6281,-477.5\"/>\n<text text-anchor=\"start\" x=\"6156\" y=\"-462.3\" font-family=\"Helvetica,sans-Serif\" font-size=\"14.00\" fill=\"#000000\">node #95</text>\n<text text-anchor=\"start\" x=\"6149\" y=\"-447.3\" font-family=\"Helvetica,sans-Serif\" font-size=\"14.00\" fill=\"#000000\">gini = 0.594</text>\n<text text-anchor=\"start\" x=\"6135\" y=\"-432.3\" font-family=\"Helvetica,sans-Serif\" font-size=\"14.00\" fill=\"#000000\">samples = 2.5%</text>\n<text text-anchor=\"start\" x=\"6089\" y=\"-417.3\" font-family=\"Helvetica,sans-Serif\" font-size=\"14.00\" fill=\"#000000\">value = [0.375, 0.5, 0.0, 0.125]</text>\n<text text-anchor=\"start\" x=\"6158\" y=\"-402.3\" font-family=\"Helvetica,sans-Serif\" font-size=\"14.00\" fill=\"#000000\">class = 2</text>\n</g>\n<!-- 91&#45;&gt;95 -->\n<g id=\"edge95\" class=\"edge\">\n<title>91&#45;&gt;95</title>\n<path fill=\"none\" stroke=\"#000000\" d=\"M6108.4689,-520.8642C6119.2419,-509.2224 6130.7333,-496.8043 6141.5074,-485.1613\"/>\n<polygon fill=\"#000000\" stroke=\"#000000\" points=\"6144.2461,-487.355 6148.4692,-477.6381 6139.1084,-482.6006 6144.2461,-487.355\"/>\n</g>\n<!-- 93 -->\n<g id=\"node94\" class=\"node\">\n<title>93</title>\n<path fill=\"#dafad7\" stroke=\"#000000\" d=\"M6040,-343.5C6040,-343.5 5836,-343.5 5836,-343.5 5830,-343.5 5824,-337.5 5824,-331.5 5824,-331.5 5824,-272.5 5824,-272.5 5824,-266.5 5830,-260.5 5836,-260.5 5836,-260.5 6040,-260.5 6040,-260.5 6046,-260.5 6052,-266.5 6052,-272.5 6052,-272.5 6052,-331.5 6052,-331.5 6052,-337.5 6046,-343.5 6040,-343.5\"/>\n<text text-anchor=\"start\" x=\"5907\" y=\"-328.3\" font-family=\"Helvetica,sans-Serif\" font-size=\"14.00\" fill=\"#000000\">node #93</text>\n<text text-anchor=\"start\" x=\"5900\" y=\"-313.3\" font-family=\"Helvetica,sans-Serif\" font-size=\"14.00\" fill=\"#000000\">gini = 0.653</text>\n<text text-anchor=\"start\" x=\"5886\" y=\"-298.3\" font-family=\"Helvetica,sans-Serif\" font-size=\"14.00\" fill=\"#000000\">samples = 2.2%</text>\n<text text-anchor=\"start\" x=\"5832\" y=\"-283.3\" font-family=\"Helvetica,sans-Serif\" font-size=\"14.00\" fill=\"#000000\">value = [0.286, 0.429, 0.0, 0.286]</text>\n<text text-anchor=\"start\" x=\"5909\" y=\"-268.3\" font-family=\"Helvetica,sans-Serif\" font-size=\"14.00\" fill=\"#000000\">class = 2</text>\n</g>\n<!-- 92&#45;&gt;93 -->\n<g id=\"edge93\" class=\"edge\">\n<title>92&#45;&gt;93</title>\n<path fill=\"none\" stroke=\"#000000\" d=\"M5939.2666,-386.8642C5939.1061,-376.1094 5938.9357,-364.6921 5938.7737,-353.8354\"/>\n<polygon fill=\"#000000\" stroke=\"#000000\" points=\"5942.2704,-353.5848 5938.6215,-343.6381 5935.2712,-353.6893 5942.2704,-353.5848\"/>\n</g>\n<!-- 94 -->\n<g id=\"node95\" class=\"node\">\n<title>94</title>\n<path fill=\"#ffffff\" stroke=\"#000000\" d=\"M6270,-343.5C6270,-343.5 6082,-343.5 6082,-343.5 6076,-343.5 6070,-337.5 6070,-331.5 6070,-331.5 6070,-272.5 6070,-272.5 6070,-266.5 6076,-260.5 6082,-260.5 6082,-260.5 6270,-260.5 6270,-260.5 6276,-260.5 6282,-266.5 6282,-272.5 6282,-272.5 6282,-331.5 6282,-331.5 6282,-337.5 6276,-343.5 6270,-343.5\"/>\n<text text-anchor=\"start\" x=\"6145\" y=\"-328.3\" font-family=\"Helvetica,sans-Serif\" font-size=\"14.00\" fill=\"#000000\">node #94</text>\n<text text-anchor=\"start\" x=\"6142.5\" y=\"-313.3\" font-family=\"Helvetica,sans-Serif\" font-size=\"14.00\" fill=\"#000000\">gini = 0.75</text>\n<text text-anchor=\"start\" x=\"6124\" y=\"-298.3\" font-family=\"Helvetica,sans-Serif\" font-size=\"14.00\" fill=\"#000000\">samples = 1.3%</text>\n<text text-anchor=\"start\" x=\"6078\" y=\"-283.3\" font-family=\"Helvetica,sans-Serif\" font-size=\"14.00\" fill=\"#000000\">value = [0.25, 0.25, 0.25, 0.25]</text>\n<text text-anchor=\"start\" x=\"6147\" y=\"-268.3\" font-family=\"Helvetica,sans-Serif\" font-size=\"14.00\" fill=\"#000000\">class = 1</text>\n</g>\n<!-- 92&#45;&gt;94 -->\n<g id=\"edge94\" class=\"edge\">\n<title>92&#45;&gt;94</title>\n<path fill=\"none\" stroke=\"#000000\" d=\"M6026.5376,-386.8642C6048.5057,-374.3909 6072.0432,-361.0263 6093.7895,-348.6788\"/>\n<polygon fill=\"#000000\" stroke=\"#000000\" points=\"6095.6993,-351.6194 6102.6672,-343.6381 6092.243,-345.5321 6095.6993,-351.6194\"/>\n</g>\n<!-- 97 -->\n<g id=\"node98\" class=\"node\">\n<title>97</title>\n<path fill=\"#fbede3\" stroke=\"#000000\" d=\"M6623.5,-619C6623.5,-619 6468.5,-619 6468.5,-619 6462.5,-619 6456.5,-613 6456.5,-607 6456.5,-607 6456.5,-533 6456.5,-533 6456.5,-527 6462.5,-521 6468.5,-521 6468.5,-521 6623.5,-521 6623.5,-521 6629.5,-521 6635.5,-527 6635.5,-533 6635.5,-533 6635.5,-607 6635.5,-607 6635.5,-613 6629.5,-619 6623.5,-619\"/>\n<text text-anchor=\"start\" x=\"6515\" y=\"-603.8\" font-family=\"Helvetica,sans-Serif\" font-size=\"14.00\" fill=\"#000000\">node #97</text>\n<text text-anchor=\"start\" x=\"6511\" y=\"-588.8\" font-family=\"Helvetica,sans-Serif\" font-size=\"14.00\" fill=\"#000000\">Fedu ≤ 3.5</text>\n<text text-anchor=\"start\" x=\"6516.5\" y=\"-573.8\" font-family=\"Helvetica,sans-Serif\" font-size=\"14.00\" fill=\"#000000\">gini = 0.7</text>\n<text text-anchor=\"start\" x=\"6494\" y=\"-558.8\" font-family=\"Helvetica,sans-Serif\" font-size=\"14.00\" fill=\"#000000\">samples = 3.2%</text>\n<text text-anchor=\"start\" x=\"6464.5\" y=\"-543.8\" font-family=\"Helvetica,sans-Serif\" font-size=\"14.00\" fill=\"#000000\">value = [0.4, 0.1, 0.3, 0.2]</text>\n<text text-anchor=\"start\" x=\"6517\" y=\"-528.8\" font-family=\"Helvetica,sans-Serif\" font-size=\"14.00\" fill=\"#000000\">class = 1</text>\n</g>\n<!-- 96&#45;&gt;97 -->\n<g id=\"edge97\" class=\"edge\">\n<title>96&#45;&gt;97</title>\n<path fill=\"none\" stroke=\"#000000\" d=\"M6546,-654.8642C6546,-646.5802 6546,-637.903 6546,-629.3918\"/>\n<polygon fill=\"#000000\" stroke=\"#000000\" points=\"6549.5001,-629.1298 6546,-619.1298 6542.5001,-629.1299 6549.5001,-629.1298\"/>\n</g>\n<!-- 102 -->\n<g id=\"node103\" class=\"node\">\n<title>102</title>\n<path fill=\"#dafad7\" stroke=\"#000000\" d=\"M6994.5,-619C6994.5,-619 6773.5,-619 6773.5,-619 6767.5,-619 6761.5,-613 6761.5,-607 6761.5,-607 6761.5,-533 6761.5,-533 6761.5,-527 6767.5,-521 6773.5,-521 6773.5,-521 6994.5,-521 6994.5,-521 7000.5,-521 7006.5,-527 7006.5,-533 7006.5,-533 7006.5,-607 7006.5,-607 7006.5,-613 7000.5,-619 6994.5,-619\"/>\n<text text-anchor=\"start\" x=\"6849\" y=\"-603.8\" font-family=\"Helvetica,sans-Serif\" font-size=\"14.00\" fill=\"#000000\">node #102</text>\n<text text-anchor=\"start\" x=\"6849\" y=\"-588.8\" font-family=\"Helvetica,sans-Serif\" font-size=\"14.00\" fill=\"#000000\">Fedu ≤ 3.5</text>\n<text text-anchor=\"start\" x=\"6846\" y=\"-573.8\" font-family=\"Helvetica,sans-Serif\" font-size=\"14.00\" fill=\"#000000\">gini = 0.694</text>\n<text text-anchor=\"start\" x=\"6832\" y=\"-558.8\" font-family=\"Helvetica,sans-Serif\" font-size=\"14.00\" fill=\"#000000\">samples = 4.4%</text>\n<text text-anchor=\"start\" x=\"6769.5\" y=\"-543.8\" font-family=\"Helvetica,sans-Serif\" font-size=\"14.00\" fill=\"#000000\">value = [0.286, 0.429, 0.143, 0.143]</text>\n<text text-anchor=\"start\" x=\"6855\" y=\"-528.8\" font-family=\"Helvetica,sans-Serif\" font-size=\"14.00\" fill=\"#000000\">class = 2</text>\n</g>\n<!-- 96&#45;&gt;102 -->\n<g id=\"edge102\" class=\"edge\">\n<title>96&#45;&gt;102</title>\n<path fill=\"none\" stroke=\"#000000\" d=\"M6668.5036,-655.4335C6695.5436,-644.7135 6724.3056,-633.3108 6751.7138,-622.4448\"/>\n<polygon fill=\"#000000\" stroke=\"#000000\" points=\"6753.3408,-625.5649 6761.3469,-618.6258 6750.7609,-619.0576 6753.3408,-625.5649\"/>\n</g>\n<!-- 98 -->\n<g id=\"node99\" class=\"node\">\n<title>98</title>\n<path fill=\"#fbeade\" stroke=\"#000000\" d=\"M6548.5,-485C6548.5,-485 6327.5,-485 6327.5,-485 6321.5,-485 6315.5,-479 6315.5,-473 6315.5,-473 6315.5,-399 6315.5,-399 6315.5,-393 6321.5,-387 6327.5,-387 6327.5,-387 6548.5,-387 6548.5,-387 6554.5,-387 6560.5,-393 6560.5,-399 6560.5,-399 6560.5,-473 6560.5,-473 6560.5,-479 6554.5,-485 6548.5,-485\"/>\n<text text-anchor=\"start\" x=\"6407\" y=\"-469.8\" font-family=\"Helvetica,sans-Serif\" font-size=\"14.00\" fill=\"#000000\">node #98</text>\n<text text-anchor=\"start\" x=\"6403\" y=\"-454.8\" font-family=\"Helvetica,sans-Serif\" font-size=\"14.00\" fill=\"#000000\">Fedu ≤ 2.5</text>\n<text text-anchor=\"start\" x=\"6400\" y=\"-439.8\" font-family=\"Helvetica,sans-Serif\" font-size=\"14.00\" fill=\"#000000\">gini = 0.667</text>\n<text text-anchor=\"start\" x=\"6386\" y=\"-424.8\" font-family=\"Helvetica,sans-Serif\" font-size=\"14.00\" fill=\"#000000\">samples = 2.8%</text>\n<text text-anchor=\"start\" x=\"6323.5\" y=\"-409.8\" font-family=\"Helvetica,sans-Serif\" font-size=\"14.00\" fill=\"#000000\">value = [0.444, 0.111, 0.333, 0.111]</text>\n<text text-anchor=\"start\" x=\"6409\" y=\"-394.8\" font-family=\"Helvetica,sans-Serif\" font-size=\"14.00\" fill=\"#000000\">class = 1</text>\n</g>\n<!-- 97&#45;&gt;98 -->\n<g id=\"edge98\" class=\"edge\">\n<title>97&#45;&gt;98</title>\n<path fill=\"none\" stroke=\"#000000\" d=\"M6506.398,-520.8642C6499.1344,-511.8519 6491.4957,-502.3743 6484.0622,-493.1513\"/>\n<polygon fill=\"#000000\" stroke=\"#000000\" points=\"6486.5976,-490.7195 6477.5972,-485.1298 6481.1474,-495.1122 6486.5976,-490.7195\"/>\n</g>\n<!-- 101 -->\n<g id=\"node102\" class=\"node\">\n<title>101</title>\n<path fill=\"#d739e5\" stroke=\"#000000\" d=\"M6745.5,-477.5C6745.5,-477.5 6590.5,-477.5 6590.5,-477.5 6584.5,-477.5 6578.5,-471.5 6578.5,-465.5 6578.5,-465.5 6578.5,-406.5 6578.5,-406.5 6578.5,-400.5 6584.5,-394.5 6590.5,-394.5 6590.5,-394.5 6745.5,-394.5 6745.5,-394.5 6751.5,-394.5 6757.5,-400.5 6757.5,-406.5 6757.5,-406.5 6757.5,-465.5 6757.5,-465.5 6757.5,-471.5 6751.5,-477.5 6745.5,-477.5\"/>\n<text text-anchor=\"start\" x=\"6633\" y=\"-462.3\" font-family=\"Helvetica,sans-Serif\" font-size=\"14.00\" fill=\"#000000\">node #101</text>\n<text text-anchor=\"start\" x=\"6638.5\" y=\"-447.3\" font-family=\"Helvetica,sans-Serif\" font-size=\"14.00\" fill=\"#000000\">gini = 0.0</text>\n<text text-anchor=\"start\" x=\"6616\" y=\"-432.3\" font-family=\"Helvetica,sans-Serif\" font-size=\"14.00\" fill=\"#000000\">samples = 0.3%</text>\n<text text-anchor=\"start\" x=\"6586.5\" y=\"-417.3\" font-family=\"Helvetica,sans-Serif\" font-size=\"14.00\" fill=\"#000000\">value = [0.0, 0.0, 0.0, 1.0]</text>\n<text text-anchor=\"start\" x=\"6639\" y=\"-402.3\" font-family=\"Helvetica,sans-Serif\" font-size=\"14.00\" fill=\"#000000\">class = 4</text>\n</g>\n<!-- 97&#45;&gt;101 -->\n<g id=\"edge101\" class=\"edge\">\n<title>97&#45;&gt;101</title>\n<path fill=\"none\" stroke=\"#000000\" d=\"M6590.7355,-520.8642C6601.3348,-509.2224 6612.6409,-496.8043 6623.2412,-485.1613\"/>\n<polygon fill=\"#000000\" stroke=\"#000000\" points=\"6625.9465,-487.3889 6630.0907,-477.6381 6620.7703,-482.6763 6625.9465,-487.3889\"/>\n</g>\n<!-- 99 -->\n<g id=\"node100\" class=\"node\">\n<title>99</title>\n<path fill=\"#ffffff\" stroke=\"#000000\" d=\"M6533.5,-343.5C6533.5,-343.5 6312.5,-343.5 6312.5,-343.5 6306.5,-343.5 6300.5,-337.5 6300.5,-331.5 6300.5,-331.5 6300.5,-272.5 6300.5,-272.5 6300.5,-266.5 6306.5,-260.5 6312.5,-260.5 6312.5,-260.5 6533.5,-260.5 6533.5,-260.5 6539.5,-260.5 6545.5,-266.5 6545.5,-272.5 6545.5,-272.5 6545.5,-331.5 6545.5,-331.5 6545.5,-337.5 6539.5,-343.5 6533.5,-343.5\"/>\n<text text-anchor=\"start\" x=\"6392\" y=\"-328.3\" font-family=\"Helvetica,sans-Serif\" font-size=\"14.00\" fill=\"#000000\">node #99</text>\n<text text-anchor=\"start\" x=\"6385\" y=\"-313.3\" font-family=\"Helvetica,sans-Serif\" font-size=\"14.00\" fill=\"#000000\">gini = 0.722</text>\n<text text-anchor=\"start\" x=\"6371\" y=\"-298.3\" font-family=\"Helvetica,sans-Serif\" font-size=\"14.00\" fill=\"#000000\">samples = 1.9%</text>\n<text text-anchor=\"start\" x=\"6308.5\" y=\"-283.3\" font-family=\"Helvetica,sans-Serif\" font-size=\"14.00\" fill=\"#000000\">value = [0.333, 0.167, 0.333, 0.167]</text>\n<text text-anchor=\"start\" x=\"6394\" y=\"-268.3\" font-family=\"Helvetica,sans-Serif\" font-size=\"14.00\" fill=\"#000000\">class = 1</text>\n</g>\n<!-- 98&#45;&gt;99 -->\n<g id=\"edge99\" class=\"edge\">\n<title>98&#45;&gt;99</title>\n<path fill=\"none\" stroke=\"#000000\" d=\"M6432.4997,-386.8642C6431.2958,-376.1094 6430.0178,-364.6921 6428.8025,-353.8354\"/>\n<polygon fill=\"#000000\" stroke=\"#000000\" points=\"6432.2518,-353.1867 6427.661,-343.6381 6425.2953,-353.9655 6432.2518,-353.1867\"/>\n</g>\n<!-- 100 -->\n<g id=\"node101\" class=\"node\">\n<title>100</title>\n<path fill=\"#f2c09c\" stroke=\"#000000\" d=\"M6764,-343.5C6764,-343.5 6576,-343.5 6576,-343.5 6570,-343.5 6564,-337.5 6564,-331.5 6564,-331.5 6564,-272.5 6564,-272.5 6564,-266.5 6570,-260.5 6576,-260.5 6576,-260.5 6764,-260.5 6764,-260.5 6770,-260.5 6776,-266.5 6776,-272.5 6776,-272.5 6776,-331.5 6776,-331.5 6776,-337.5 6770,-343.5 6764,-343.5\"/>\n<text text-anchor=\"start\" x=\"6635\" y=\"-328.3\" font-family=\"Helvetica,sans-Serif\" font-size=\"14.00\" fill=\"#000000\">node #100</text>\n<text text-anchor=\"start\" x=\"6632\" y=\"-313.3\" font-family=\"Helvetica,sans-Serif\" font-size=\"14.00\" fill=\"#000000\">gini = 0.444</text>\n<text text-anchor=\"start\" x=\"6618\" y=\"-298.3\" font-family=\"Helvetica,sans-Serif\" font-size=\"14.00\" fill=\"#000000\">samples = 0.9%</text>\n<text text-anchor=\"start\" x=\"6572\" y=\"-283.3\" font-family=\"Helvetica,sans-Serif\" font-size=\"14.00\" fill=\"#000000\">value = [0.667, 0.0, 0.333, 0.0]</text>\n<text text-anchor=\"start\" x=\"6641\" y=\"-268.3\" font-family=\"Helvetica,sans-Serif\" font-size=\"14.00\" fill=\"#000000\">class = 1</text>\n</g>\n<!-- 98&#45;&gt;100 -->\n<g id=\"edge100\" class=\"edge\">\n<title>98&#45;&gt;100</title>\n<path fill=\"none\" stroke=\"#000000\" d=\"M6523.0709,-386.8642C6544.6666,-374.3909 6567.8052,-361.0263 6589.1829,-348.6788\"/>\n<polygon fill=\"#000000\" stroke=\"#000000\" points=\"6591.0013,-351.6705 6597.9101,-343.6381 6587.5002,-345.6089 6591.0013,-351.6705\"/>\n</g>\n<!-- 103 -->\n<g id=\"node104\" class=\"node\">\n<title>103</title>\n<path fill=\"#a3f29c\" stroke=\"#000000\" d=\"M6978,-485C6978,-485 6790,-485 6790,-485 6784,-485 6778,-479 6778,-473 6778,-473 6778,-399 6778,-399 6778,-393 6784,-387 6790,-387 6790,-387 6978,-387 6978,-387 6984,-387 6990,-393 6990,-399 6990,-399 6990,-473 6990,-473 6990,-479 6984,-485 6978,-485\"/>\n<text text-anchor=\"start\" x=\"6849\" y=\"-469.8\" font-family=\"Helvetica,sans-Serif\" font-size=\"14.00\" fill=\"#000000\">node #103</text>\n<text text-anchor=\"start\" x=\"6849\" y=\"-454.8\" font-family=\"Helvetica,sans-Serif\" font-size=\"14.00\" fill=\"#000000\">Fedu ≤ 2.5</text>\n<text text-anchor=\"start\" x=\"6846\" y=\"-439.8\" font-family=\"Helvetica,sans-Serif\" font-size=\"14.00\" fill=\"#000000\">gini = 0.444</text>\n<text text-anchor=\"start\" x=\"6832\" y=\"-424.8\" font-family=\"Helvetica,sans-Serif\" font-size=\"14.00\" fill=\"#000000\">samples = 1.9%</text>\n<text text-anchor=\"start\" x=\"6786\" y=\"-409.8\" font-family=\"Helvetica,sans-Serif\" font-size=\"14.00\" fill=\"#000000\">value = [0.333, 0.667, 0.0, 0.0]</text>\n<text text-anchor=\"start\" x=\"6855\" y=\"-394.8\" font-family=\"Helvetica,sans-Serif\" font-size=\"14.00\" fill=\"#000000\">class = 2</text>\n</g>\n<!-- 102&#45;&gt;103 -->\n<g id=\"edge103\" class=\"edge\">\n<title>102&#45;&gt;103</title>\n<path fill=\"none\" stroke=\"#000000\" d=\"M6884,-520.8642C6884,-512.5802 6884,-503.903 6884,-495.3918\"/>\n<polygon fill=\"#000000\" stroke=\"#000000\" points=\"6887.5001,-495.1298 6884,-485.1298 6880.5001,-495.1299 6887.5001,-495.1298\"/>\n</g>\n<!-- 106 -->\n<g id=\"node107\" class=\"node\">\n<title>106</title>\n<path fill=\"#ffffff\" stroke=\"#000000\" d=\"M7208,-477.5C7208,-477.5 7020,-477.5 7020,-477.5 7014,-477.5 7008,-471.5 7008,-465.5 7008,-465.5 7008,-406.5 7008,-406.5 7008,-400.5 7014,-394.5 7020,-394.5 7020,-394.5 7208,-394.5 7208,-394.5 7214,-394.5 7220,-400.5 7220,-406.5 7220,-406.5 7220,-465.5 7220,-465.5 7220,-471.5 7214,-477.5 7208,-477.5\"/>\n<text text-anchor=\"start\" x=\"7079\" y=\"-462.3\" font-family=\"Helvetica,sans-Serif\" font-size=\"14.00\" fill=\"#000000\">node #106</text>\n<text text-anchor=\"start\" x=\"7080.5\" y=\"-447.3\" font-family=\"Helvetica,sans-Serif\" font-size=\"14.00\" fill=\"#000000\">gini = 0.75</text>\n<text text-anchor=\"start\" x=\"7062\" y=\"-432.3\" font-family=\"Helvetica,sans-Serif\" font-size=\"14.00\" fill=\"#000000\">samples = 2.5%</text>\n<text text-anchor=\"start\" x=\"7016\" y=\"-417.3\" font-family=\"Helvetica,sans-Serif\" font-size=\"14.00\" fill=\"#000000\">value = [0.25, 0.25, 0.25, 0.25]</text>\n<text text-anchor=\"start\" x=\"7085\" y=\"-402.3\" font-family=\"Helvetica,sans-Serif\" font-size=\"14.00\" fill=\"#000000\">class = 1</text>\n</g>\n<!-- 102&#45;&gt;106 -->\n<g id=\"edge106\" class=\"edge\">\n<title>102&#45;&gt;106</title>\n<path fill=\"none\" stroke=\"#000000\" d=\"M6968.3375,-520.8642C6989.747,-508.3909 7012.6862,-495.0263 7033.8796,-482.6788\"/>\n<polygon fill=\"#000000\" stroke=\"#000000\" points=\"7035.653,-485.6964 7042.5316,-477.6381 7032.1291,-479.648 7035.653,-485.6964\"/>\n</g>\n<!-- 104 -->\n<g id=\"node105\" class=\"node\">\n<title>104</title>\n<path fill=\"#ffffff\" stroke=\"#000000\" d=\"M6961.5,-343.5C6961.5,-343.5 6806.5,-343.5 6806.5,-343.5 6800.5,-343.5 6794.5,-337.5 6794.5,-331.5 6794.5,-331.5 6794.5,-272.5 6794.5,-272.5 6794.5,-266.5 6800.5,-260.5 6806.5,-260.5 6806.5,-260.5 6961.5,-260.5 6961.5,-260.5 6967.5,-260.5 6973.5,-266.5 6973.5,-272.5 6973.5,-272.5 6973.5,-331.5 6973.5,-331.5 6973.5,-337.5 6967.5,-343.5 6961.5,-343.5\"/>\n<text text-anchor=\"start\" x=\"6849\" y=\"-328.3\" font-family=\"Helvetica,sans-Serif\" font-size=\"14.00\" fill=\"#000000\">node #104</text>\n<text text-anchor=\"start\" x=\"6854.5\" y=\"-313.3\" font-family=\"Helvetica,sans-Serif\" font-size=\"14.00\" fill=\"#000000\">gini = 0.5</text>\n<text text-anchor=\"start\" x=\"6832\" y=\"-298.3\" font-family=\"Helvetica,sans-Serif\" font-size=\"14.00\" fill=\"#000000\">samples = 0.6%</text>\n<text text-anchor=\"start\" x=\"6802.5\" y=\"-283.3\" font-family=\"Helvetica,sans-Serif\" font-size=\"14.00\" fill=\"#000000\">value = [0.5, 0.5, 0.0, 0.0]</text>\n<text text-anchor=\"start\" x=\"6855\" y=\"-268.3\" font-family=\"Helvetica,sans-Serif\" font-size=\"14.00\" fill=\"#000000\">class = 1</text>\n</g>\n<!-- 103&#45;&gt;104 -->\n<g id=\"edge104\" class=\"edge\">\n<title>103&#45;&gt;104</title>\n<path fill=\"none\" stroke=\"#000000\" d=\"M6884,-386.8642C6884,-376.1094 6884,-364.6921 6884,-353.8354\"/>\n<polygon fill=\"#000000\" stroke=\"#000000\" points=\"6887.5001,-353.6381 6884,-343.6381 6880.5001,-353.6382 6887.5001,-353.6381\"/>\n</g>\n<!-- 105 -->\n<g id=\"node106\" class=\"node\">\n<title>105</title>\n<path fill=\"#84ee7b\" stroke=\"#000000\" d=\"M7174.5,-343.5C7174.5,-343.5 7003.5,-343.5 7003.5,-343.5 6997.5,-343.5 6991.5,-337.5 6991.5,-331.5 6991.5,-331.5 6991.5,-272.5 6991.5,-272.5 6991.5,-266.5 6997.5,-260.5 7003.5,-260.5 7003.5,-260.5 7174.5,-260.5 7174.5,-260.5 7180.5,-260.5 7186.5,-266.5 7186.5,-272.5 7186.5,-272.5 7186.5,-331.5 7186.5,-331.5 7186.5,-337.5 7180.5,-343.5 7174.5,-343.5\"/>\n<text text-anchor=\"start\" x=\"7054\" y=\"-328.3\" font-family=\"Helvetica,sans-Serif\" font-size=\"14.00\" fill=\"#000000\">node #105</text>\n<text text-anchor=\"start\" x=\"7051\" y=\"-313.3\" font-family=\"Helvetica,sans-Serif\" font-size=\"14.00\" fill=\"#000000\">gini = 0.375</text>\n<text text-anchor=\"start\" x=\"7037\" y=\"-298.3\" font-family=\"Helvetica,sans-Serif\" font-size=\"14.00\" fill=\"#000000\">samples = 1.3%</text>\n<text text-anchor=\"start\" x=\"6999.5\" y=\"-283.3\" font-family=\"Helvetica,sans-Serif\" font-size=\"14.00\" fill=\"#000000\">value = [0.25, 0.75, 0.0, 0.0]</text>\n<text text-anchor=\"start\" x=\"7060\" y=\"-268.3\" font-family=\"Helvetica,sans-Serif\" font-size=\"14.00\" fill=\"#000000\">class = 2</text>\n</g>\n<!-- 103&#45;&gt;105 -->\n<g id=\"edge105\" class=\"edge\">\n<title>103&#45;&gt;105</title>\n<path fill=\"none\" stroke=\"#000000\" d=\"M6959.1704,-386.8642C6977.9984,-374.5572 6998.1536,-361.3826 7016.8319,-349.1733\"/>\n<polygon fill=\"#000000\" stroke=\"#000000\" points=\"7018.8444,-352.0392 7025.2999,-343.6381 7015.0144,-346.1799 7018.8444,-352.0392\"/>\n</g>\n</g>\n</svg>\n"
          },
          "metadata": {},
          "execution_count": 67
        }
      ]
    },
    {
      "cell_type": "code",
      "source": [
        "from ipywidgets import interactive\n",
        "from IPython.display import SVG,display\n",
        "from graphviz import Source\n",
        "\n",
        "\n",
        "# feature labels\n",
        "features_label = df.drop(columns=['G3','Qualidade da predição'],axis=1).columns\n",
        "\n",
        "# class label\n",
        "class_label = ['1','2','3','4']\n",
        "\n",
        "\n",
        "def plot_tree(crit, split, depth, min_samples_split, min_samples_leaf=0.2):\n",
        "    estimator = DecisionTreeClassifier(\n",
        "           random_state = 0 \n",
        "          ,criterion = crit\n",
        "          ,splitter = split\n",
        "          ,max_depth = depth\n",
        "          ,min_samples_split=min_samples_split\n",
        "          ,min_samples_leaf=min_samples_leaf\n",
        "    )\n",
        "    estimator.fit(X, y)\n",
        "    graph = Source(export_graphviz(estimator\n",
        "      , out_file=None\n",
        "      , feature_names=features_label\n",
        "      , class_names=class_label\n",
        "      , impurity=True\n",
        "      , filled = True))\n",
        "    display(SVG(graph.pipe(format='svg')))\n",
        "    return estimator\n",
        "\n",
        "inter=interactive(plot_tree \n",
        "   , crit = [\"gini\", \"entropy\"]\n",
        "   , split = [\"best\", \"random\"]\n",
        "   , depth=[1,2,3,4,5,10,20,30]\n",
        "   , min_samples_split=(1,5)\n",
        "   , min_samples_leaf=(1,5))\n",
        "\n",
        "display(inter)"
      ],
      "metadata": {
        "colab": {
          "base_uri": "https://localhost:8080/",
          "height": 441,
          "referenced_widgets": [
            "3fd69a7d26034c4a82e02fe7f60dd4be",
            "5c8ead2b690849358d85d0432158009b",
            "3c521e9fdfc24b0891026f69f08a0627",
            "d1ec00c7f51f4accb8718be8982f4b8d",
            "756f1ef234b843299046bcfa9cb1f1d6",
            "61b681b36af94a8bb3a99849ba2ba23f",
            "98fc0070ee2d4e8fabd04729f6220b60",
            "56f5a16e2d4a45bda8588d91a30b255a",
            "c198dcac54c94de884a5fade86b84b6c",
            "86fcc7ef7fc146b8ac593ac47a795f75",
            "9e463ee31f044ecf8233aff17a33f6b2",
            "34331a324ef94f26ace5ec3fd383de91",
            "751c74209cdc449e9409659615afd654",
            "ce44a7be8413427dbf753ef2963ec52c",
            "4597c46ad1374f399da2c30559acc228",
            "4d0077e6bb2a4a2492b225738ab0c287",
            "b6267608d3af49e6862833e932b565f6",
            "40e2e0befc16415092a0cddbd44db661",
            "72536f07afd6425ab89cfe9ef5f538f4"
          ]
        },
        "id": "IDlRq4LmMjTt",
        "outputId": "8b1ef444-624c-4553-b7d5-02caf0227fe4"
      },
      "execution_count": null,
      "outputs": [
        {
          "output_type": "display_data",
          "data": {
            "application/vnd.jupyter.widget-view+json": {
              "model_id": "3fd69a7d26034c4a82e02fe7f60dd4be",
              "version_minor": 0,
              "version_major": 2
            },
            "text/plain": [
              "interactive(children=(Dropdown(description='crit', options=('gini', 'entropy'), value='gini'), Dropdown(descri…"
            ]
          },
          "metadata": {}
        }
      ]
    },
    {
      "cell_type": "markdown",
      "source": [
        "## Avaliação da Árvore de decisão"
      ],
      "metadata": {
        "id": "PJg008Ed46Us"
      }
    },
    {
      "cell_type": "code",
      "source": [
        "#matriz de confusão\n",
        "print (pd.crosstab(y_test,resultado, rownames=['Real'], colnames=['Predito'], margins=True))"
      ],
      "metadata": {
        "colab": {
          "base_uri": "https://localhost:8080/"
        },
        "id": "ykzFf83S5O0y",
        "outputId": "174c6c44-15e9-475e-b0f5-a4f86dad642c"
      },
      "execution_count": null,
      "outputs": [
        {
          "output_type": "stream",
          "name": "stdout",
          "text": [
            "Predito   1   2   3   4  All\n",
            "Real                        \n",
            "1         9   7   4   0   20\n",
            "2         3  15   7   1   26\n",
            "3         3   7   2   6   18\n",
            "4         2   7   2   4   15\n",
            "All      17  36  15  11   79\n"
          ]
        }
      ]
    },
    {
      "cell_type": "code",
      "source": [
        "from sklearn import metrics\n",
        "print(metrics.classification_report(y_test,resultado))"
      ],
      "metadata": {
        "colab": {
          "base_uri": "https://localhost:8080/"
        },
        "id": "FVrPYEHj5mR_",
        "outputId": "a075b7e8-cd5a-4109-e82e-44f6f4ff9aa3"
      },
      "execution_count": null,
      "outputs": [
        {
          "output_type": "stream",
          "name": "stdout",
          "text": [
            "              precision    recall  f1-score   support\n",
            "\n",
            "           1       0.53      0.45      0.49        20\n",
            "           2       0.42      0.58      0.48        26\n",
            "           3       0.13      0.11      0.12        18\n",
            "           4       0.36      0.27      0.31        15\n",
            "\n",
            "    accuracy                           0.38        79\n",
            "   macro avg       0.36      0.35      0.35        79\n",
            "weighted avg       0.37      0.38      0.37        79\n",
            "\n"
          ]
        }
      ]
    },
    {
      "cell_type": "markdown",
      "source": [
        "#Comparação dos modelos"
      ],
      "metadata": {
        "id": "CZNTQFZsN208"
      }
    },
    {
      "cell_type": "code",
      "source": [
        "#avaliar o modelo criado, o modelo fará a predição dos valores em X e a resposta será comparada com o que está em y\n",
        "#quanto maior de 1 melhor o resultado\n",
        "#abaixo de 0,5 é muito ruim\n",
        "#faz um teste com a própria base de treinamento e com a de teste para comparação\n",
        "#o .score indica a acurácia do modelo\n",
        "print(\"Árvore de decisão: Treinamento - \",clf.score(X_train,y_train),\", Teste - \",clf.score(X_test,y_test))\n",
        "print(\"Knn:               Treinamento - \",knn.score(X_train,y_train),\", Teste - \",knn.score(X_test,y_test))"
      ],
      "metadata": {
        "colab": {
          "base_uri": "https://localhost:8080/"
        },
        "id": "WENx9Phwy337",
        "outputId": "0393a3fc-74b7-4a12-b285-dde32d4752b8"
      },
      "execution_count": null,
      "outputs": [
        {
          "output_type": "stream",
          "name": "stdout",
          "text": [
            "Árvore de decisão: Treinamento -  0.4873417721518987 , Teste -  0.379746835443038\n",
            "Knn:               Treinamento -  0.370253164556962 , Teste -  0.24050632911392406\n"
          ]
        }
      ]
    }
  ]
}